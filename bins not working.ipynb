{
 "cells": [
  {
   "cell_type": "code",
   "execution_count": 1,
   "metadata": {},
   "outputs": [],
   "source": [
    "#--Dependencies and Setup\n",
    "import pandas as pd\n",
    "import numpy as np"
   ]
  },
  {
   "cell_type": "markdown",
   "metadata": {},
   "source": [
    "Delete line 10, 41"
   ]
  },
  {
   "cell_type": "code",
   "execution_count": 2,
   "metadata": {},
   "outputs": [],
   "source": [
    "#--Point to csv files\n",
    "school_path = \"Resources/schools_complete.csv\"\n",
    "student_path = \"Resources/students_complete.csv\""
   ]
  },
  {
   "cell_type": "code",
   "execution_count": 3,
   "metadata": {},
   "outputs": [],
   "source": [
    "#--Read data and store in dataframe\n",
    "school_df = pd.read_csv(school_path)\n",
    "student_df = pd.read_csv(student_path)\n"
   ]
  },
  {
   "cell_type": "code",
   "execution_count": 4,
   "metadata": {},
   "outputs": [
    {
     "data": {
      "text/plain": [
       "(15, 5)"
      ]
     },
     "execution_count": 4,
     "metadata": {},
     "output_type": "execute_result"
    }
   ],
   "source": [
    "#--Check number of rows and columns\n",
    "school_df.shape"
   ]
  },
  {
   "cell_type": "code",
   "execution_count": 5,
   "metadata": {},
   "outputs": [
    {
     "data": {
      "text/plain": [
       "School ID      15\n",
       "school_name    15\n",
       "type           15\n",
       "size           15\n",
       "budget         15\n",
       "dtype: int64"
      ]
     },
     "execution_count": 5,
     "metadata": {},
     "output_type": "execute_result"
    }
   ],
   "source": [
    "#--Check missin data (if some rows is missing)\n",
    "school_df.count()"
   ]
  },
  {
   "cell_type": "code",
   "execution_count": 6,
   "metadata": {},
   "outputs": [
    {
     "data": {
      "text/plain": [
       "(39170, 7)"
      ]
     },
     "execution_count": 6,
     "metadata": {},
     "output_type": "execute_result"
    }
   ],
   "source": [
    "#--Check number of rows and columns\n",
    "student_df.shape"
   ]
  },
  {
   "cell_type": "code",
   "execution_count": 7,
   "metadata": {},
   "outputs": [
    {
     "data": {
      "text/plain": [
       "Student ID       39170\n",
       "student_name     39170\n",
       "gender           39170\n",
       "grade            39170\n",
       "school_name      39170\n",
       "reading_score    39170\n",
       "math_score       39170\n",
       "dtype: int64"
      ]
     },
     "execution_count": 7,
     "metadata": {},
     "output_type": "execute_result"
    }
   ],
   "source": [
    "#--Check missin data (if some rows is missing)\n",
    "student_df.count()"
   ]
  },
  {
   "cell_type": "markdown",
   "metadata": {},
   "source": [
    "# --District Summary--##"
   ]
  },
  {
   "cell_type": "code",
   "execution_count": 8,
   "metadata": {},
   "outputs": [
    {
     "data": {
      "text/plain": [
       "15"
      ]
     },
     "execution_count": 8,
     "metadata": {},
     "output_type": "execute_result"
    }
   ],
   "source": [
    "schools_total = school_df[\"school_name\"].count()\n",
    "schools_total"
   ]
  },
  {
   "cell_type": "code",
   "execution_count": 9,
   "metadata": {},
   "outputs": [
    {
     "data": {
      "text/plain": [
       "39170"
      ]
     },
     "execution_count": 9,
     "metadata": {},
     "output_type": "execute_result"
    }
   ],
   "source": [
    "students_total = student_df[\"student_name\"].count()\n",
    "students_total"
   ]
  },
  {
   "cell_type": "code",
   "execution_count": 10,
   "metadata": {},
   "outputs": [
    {
     "data": {
      "text/plain": [
       "24649428"
      ]
     },
     "execution_count": 10,
     "metadata": {},
     "output_type": "execute_result"
    }
   ],
   "source": [
    "budget_total = school_df[\"budget\"].sum()\n",
    "budget_total"
   ]
  },
  {
   "cell_type": "code",
   "execution_count": 11,
   "metadata": {},
   "outputs": [
    {
     "data": {
      "text/plain": [
       "78.98537145774827"
      ]
     },
     "execution_count": 11,
     "metadata": {},
     "output_type": "execute_result"
    }
   ],
   "source": [
    "math_avg = student_df[\"math_score\"].mean()\n",
    "math_avg"
   ]
  },
  {
   "cell_type": "code",
   "execution_count": 12,
   "metadata": {},
   "outputs": [
    {
     "data": {
      "text/plain": [
       "81.87784018381414"
      ]
     },
     "execution_count": 12,
     "metadata": {},
     "output_type": "execute_result"
    }
   ],
   "source": [
    "reading_avg = student_df[\"reading_score\"].mean()\n",
    "reading_avg"
   ]
  },
  {
   "cell_type": "code",
   "execution_count": 13,
   "metadata": {},
   "outputs": [
    {
     "data": {
      "text/plain": [
       "80.43160582078121"
      ]
     },
     "execution_count": 13,
     "metadata": {},
     "output_type": "execute_result"
    }
   ],
   "source": [
    "overall_avg = (math_avg + reading_avg)/2\n",
    "overall_avg"
   ]
  },
  {
   "cell_type": "code",
   "execution_count": 14,
   "metadata": {},
   "outputs": [],
   "source": [
    "student_math70_greater = student_df.loc[student_df[\"math_score\"]>=70]\n",
    "# student_math70_greater\n",
    "# student_math70_greater.dtypes"
   ]
  },
  {
   "cell_type": "code",
   "execution_count": 15,
   "metadata": {},
   "outputs": [
    {
     "data": {
      "text/plain": [
       "29370"
      ]
     },
     "execution_count": 15,
     "metadata": {},
     "output_type": "execute_result"
    }
   ],
   "source": [
    "student_math70_greater = student_df.loc[student_df[\"math_score\"]>=70]\n",
    "student_math70_greater_count = student_math70_greater[\"Student ID\"].count()\n",
    "student_math70_greater_count"
   ]
  },
  {
   "cell_type": "code",
   "execution_count": 16,
   "metadata": {},
   "outputs": [
    {
     "data": {
      "text/plain": [
       "74.9808526933878"
      ]
     },
     "execution_count": 16,
     "metadata": {},
     "output_type": "execute_result"
    }
   ],
   "source": [
    "percent_pass_math = (student_math70_greater_count/students_total)*100\n",
    "percent_pass_math"
   ]
  },
  {
   "cell_type": "code",
   "execution_count": 17,
   "metadata": {},
   "outputs": [],
   "source": [
    "student_reading70_greater = student_df.loc[student_df[\"reading_score\"]>=70]\n",
    "student_reading70_greater_count = student_reading70_greater[\"Student ID\"].count()\n"
   ]
  },
  {
   "cell_type": "code",
   "execution_count": 18,
   "metadata": {},
   "outputs": [
    {
     "data": {
      "text/plain": [
       "85.80546336482001"
      ]
     },
     "execution_count": 18,
     "metadata": {},
     "output_type": "execute_result"
    }
   ],
   "source": [
    "percent_pass_reading = (student_reading70_greater_count/students_total)*100\n",
    "percent_pass_reading"
   ]
  },
  {
   "cell_type": "code",
   "execution_count": 19,
   "metadata": {},
   "outputs": [
    {
     "data": {
      "text/plain": [
       "25528"
      ]
     },
     "execution_count": 19,
     "metadata": {},
     "output_type": "execute_result"
    }
   ],
   "source": [
    "student_overall_70greater = student_df.loc[(student_df[\"math_score\"]>=70) & (student_df[\"reading_score\"]>=70)]\n",
    "student_overall_70greater_count = student_overall_70greater[\"Student ID\"].count()\n",
    "student_overall_70greater_count"
   ]
  },
  {
   "cell_type": "code",
   "execution_count": 20,
   "metadata": {},
   "outputs": [
    {
     "data": {
      "text/plain": [
       "65.17232575950983"
      ]
     },
     "execution_count": 20,
     "metadata": {},
     "output_type": "execute_result"
    }
   ],
   "source": [
    "#--calculate using | result = 95% using & result = 65%\n",
    "percent_pass_overall = (student_overall_70greater_count/students_total)*100\n",
    "percent_pass_overall"
   ]
  },
  {
   "cell_type": "markdown",
   "metadata": {},
   "source": [
    "# --Disttrict Summary Report"
   ]
  },
  {
   "cell_type": "code",
   "execution_count": 21,
   "metadata": {},
   "outputs": [
    {
     "data": {
      "text/html": [
       "<div>\n",
       "<style scoped>\n",
       "    .dataframe tbody tr th:only-of-type {\n",
       "        vertical-align: middle;\n",
       "    }\n",
       "\n",
       "    .dataframe tbody tr th {\n",
       "        vertical-align: top;\n",
       "    }\n",
       "\n",
       "    .dataframe thead th {\n",
       "        text-align: right;\n",
       "    }\n",
       "</style>\n",
       "<table border=\"1\" class=\"dataframe\">\n",
       "  <thead>\n",
       "    <tr style=\"text-align: right;\">\n",
       "      <th></th>\n",
       "      <th>Total Schools</th>\n",
       "      <th>Total Students</th>\n",
       "      <th>Total Budget</th>\n",
       "      <th>Average Math Score</th>\n",
       "      <th>Average Reading Score</th>\n",
       "      <th>% Passing Math</th>\n",
       "      <th>% Passing Reading</th>\n",
       "      <th>% Overall Passing Rate</th>\n",
       "    </tr>\n",
       "  </thead>\n",
       "  <tbody>\n",
       "    <tr>\n",
       "      <td>0</td>\n",
       "      <td>15</td>\n",
       "      <td>39170</td>\n",
       "      <td>24649428</td>\n",
       "      <td>78.985371</td>\n",
       "      <td>81.87784</td>\n",
       "      <td>74.980853</td>\n",
       "      <td>85.805463</td>\n",
       "      <td>80.431606</td>\n",
       "    </tr>\n",
       "  </tbody>\n",
       "</table>\n",
       "</div>"
      ],
      "text/plain": [
       "   Total Schools  Total Students  Total Budget  Average Math Score  \\\n",
       "0             15           39170      24649428           78.985371   \n",
       "\n",
       "   Average Reading Score  % Passing Math  % Passing Reading  \\\n",
       "0               81.87784       74.980853          85.805463   \n",
       "\n",
       "   % Overall Passing Rate  \n",
       "0               80.431606  "
      ]
     },
     "execution_count": 21,
     "metadata": {},
     "output_type": "execute_result"
    }
   ],
   "source": [
    "#--Create Dataframe from variables\n",
    "\n",
    "district_summary = {\n",
    "                \"Total Schools\" : [schools_total],\n",
    "                \"Total Students\": [students_total],\n",
    "                \"Total Budget\" : [budget_total],\n",
    "                \"Average Math Score\" : [math_avg],\n",
    "                \"Average Reading Score\" :[reading_avg],\n",
    "                \"% Passing Math\" : [percent_pass_math],\n",
    "                \"% Passing Reading\": [percent_pass_reading],\n",
    "                \"% Overall Passing Rate\" : [overall_avg]\n",
    "                }\n",
    "pd.DataFrame.from_dict(district_summary)"
   ]
  },
  {
   "cell_type": "markdown",
   "metadata": {},
   "source": [
    "# --School Summary--##"
   ]
  },
  {
   "cell_type": "code",
   "execution_count": 22,
   "metadata": {},
   "outputs": [
    {
     "data": {
      "text/plain": [
       "Index(['Student ID', 'student_name', 'gender', 'grade', 'school_name',\n",
       "       'reading_score', 'math_score'],\n",
       "      dtype='object')"
      ]
     },
     "execution_count": 22,
     "metadata": {},
     "output_type": "execute_result"
    }
   ],
   "source": [
    "student_df.columns\n"
   ]
  },
  {
   "cell_type": "code",
   "execution_count": 23,
   "metadata": {},
   "outputs": [
    {
     "data": {
      "text/html": [
       "<div>\n",
       "<style scoped>\n",
       "    .dataframe tbody tr th:only-of-type {\n",
       "        vertical-align: middle;\n",
       "    }\n",
       "\n",
       "    .dataframe tbody tr th {\n",
       "        vertical-align: top;\n",
       "    }\n",
       "\n",
       "    .dataframe thead th {\n",
       "        text-align: right;\n",
       "    }\n",
       "</style>\n",
       "<table border=\"1\" class=\"dataframe\">\n",
       "  <thead>\n",
       "    <tr style=\"text-align: right;\">\n",
       "      <th></th>\n",
       "      <th>student_name</th>\n",
       "      <th>school_name</th>\n",
       "      <th>reading_score</th>\n",
       "      <th>math_score</th>\n",
       "    </tr>\n",
       "  </thead>\n",
       "  <tbody>\n",
       "    <tr>\n",
       "      <td>0</td>\n",
       "      <td>Paul Bradley</td>\n",
       "      <td>Huang High School</td>\n",
       "      <td>66</td>\n",
       "      <td>79</td>\n",
       "    </tr>\n",
       "    <tr>\n",
       "      <td>1</td>\n",
       "      <td>Victor Smith</td>\n",
       "      <td>Huang High School</td>\n",
       "      <td>94</td>\n",
       "      <td>61</td>\n",
       "    </tr>\n",
       "    <tr>\n",
       "      <td>2</td>\n",
       "      <td>Kevin Rodriguez</td>\n",
       "      <td>Huang High School</td>\n",
       "      <td>90</td>\n",
       "      <td>60</td>\n",
       "    </tr>\n",
       "    <tr>\n",
       "      <td>3</td>\n",
       "      <td>Dr. Richard Scott</td>\n",
       "      <td>Huang High School</td>\n",
       "      <td>67</td>\n",
       "      <td>58</td>\n",
       "    </tr>\n",
       "    <tr>\n",
       "      <td>4</td>\n",
       "      <td>Bonnie Ray</td>\n",
       "      <td>Huang High School</td>\n",
       "      <td>97</td>\n",
       "      <td>84</td>\n",
       "    </tr>\n",
       "  </tbody>\n",
       "</table>\n",
       "</div>"
      ],
      "text/plain": [
       "        student_name        school_name  reading_score  math_score\n",
       "0       Paul Bradley  Huang High School             66          79\n",
       "1       Victor Smith  Huang High School             94          61\n",
       "2    Kevin Rodriguez  Huang High School             90          60\n",
       "3  Dr. Richard Scott  Huang High School             67          58\n",
       "4         Bonnie Ray  Huang High School             97          84"
      ]
     },
     "execution_count": 23,
     "metadata": {},
     "output_type": "execute_result"
    }
   ],
   "source": [
    "#--Assign student_df to school_sum for calculating \n",
    "\n",
    "school_sum = student_df[['student_name','school_name','reading_score','math_score']]\n",
    "school_sum.head()"
   ]
  },
  {
   "cell_type": "code",
   "execution_count": 24,
   "metadata": {},
   "outputs": [
    {
     "name": "stderr",
     "output_type": "stream",
     "text": [
      "C:\\Users\\Panarat D\\Anaconda3\\lib\\site-packages\\pandas\\core\\indexing.py:376: SettingWithCopyWarning: \n",
      "A value is trying to be set on a copy of a slice from a DataFrame.\n",
      "Try using .loc[row_indexer,col_indexer] = value instead\n",
      "\n",
      "See the caveats in the documentation: http://pandas.pydata.org/pandas-docs/stable/user_guide/indexing.html#returning-a-view-versus-a-copy\n",
      "  self.obj[key] = _infer_fill_value(value)\n",
      "C:\\Users\\Panarat D\\Anaconda3\\lib\\site-packages\\pandas\\core\\indexing.py:494: SettingWithCopyWarning: \n",
      "A value is trying to be set on a copy of a slice from a DataFrame.\n",
      "Try using .loc[row_indexer,col_indexer] = value instead\n",
      "\n",
      "See the caveats in the documentation: http://pandas.pydata.org/pandas-docs/stable/user_guide/indexing.html#returning-a-view-versus-a-copy\n",
      "  self.obj[item] = s\n"
     ]
    }
   ],
   "source": [
    "#--Selecting (.loc) only row that has score more than 70\n",
    "#--Adding new columns into school_sum dataframe\n",
    "school_sum.loc[school_sum[\"reading_score\"] >= 70, \"reading_pass\"] = 1\n",
    "school_sum.loc[school_sum[\"reading_score\"] < 70, \"reading_pass\"] = 0\n",
    "school_sum.loc[school_sum[\"math_score\"] >= 70, \"math_pass\"] = 1\n",
    "school_sum.loc[school_sum[\"math_score\"] < 70, \"math_pass\"] = 0\n",
    "# school_add = school_sum.loc[school_sum[\"reading_score\"] < 70, \"reading_pass\"] = 0\n",
    "# school_add = school_sum.loc[school_sum[\"math_score\"] >= 70, \"math_pass\"] = 1\n",
    "# school_add = school_sum.loc[school_sum[\"math_score\"] < 70, \"math_pass\"] = 0"
   ]
  },
  {
   "cell_type": "code",
   "execution_count": 25,
   "metadata": {},
   "outputs": [],
   "source": [
    "#--Check all data are numeric\n",
    "# school_add.describe()\n",
    "# school_add.dtypes\n"
   ]
  },
  {
   "cell_type": "code",
   "execution_count": 26,
   "metadata": {},
   "outputs": [
    {
     "data": {
      "text/html": [
       "<div>\n",
       "<style scoped>\n",
       "    .dataframe tbody tr th:only-of-type {\n",
       "        vertical-align: middle;\n",
       "    }\n",
       "\n",
       "    .dataframe tbody tr th {\n",
       "        vertical-align: top;\n",
       "    }\n",
       "\n",
       "    .dataframe thead th {\n",
       "        text-align: right;\n",
       "    }\n",
       "</style>\n",
       "<table border=\"1\" class=\"dataframe\">\n",
       "  <thead>\n",
       "    <tr style=\"text-align: right;\">\n",
       "      <th></th>\n",
       "      <th>school_name</th>\n",
       "      <th>student_name</th>\n",
       "      <th>reading_pass</th>\n",
       "      <th>math_pass</th>\n",
       "      <th>Average Reading Score</th>\n",
       "      <th>Average Math Score</th>\n",
       "    </tr>\n",
       "  </thead>\n",
       "  <tbody>\n",
       "    <tr>\n",
       "      <td>0</td>\n",
       "      <td>Bailey High School</td>\n",
       "      <td>4976</td>\n",
       "      <td>0.819333</td>\n",
       "      <td>0.666801</td>\n",
       "      <td>81.033963</td>\n",
       "      <td>77.048432</td>\n",
       "    </tr>\n",
       "    <tr>\n",
       "      <td>1</td>\n",
       "      <td>Cabrera High School</td>\n",
       "      <td>1858</td>\n",
       "      <td>0.970398</td>\n",
       "      <td>0.941335</td>\n",
       "      <td>83.975780</td>\n",
       "      <td>83.061895</td>\n",
       "    </tr>\n",
       "    <tr>\n",
       "      <td>2</td>\n",
       "      <td>Figueroa High School</td>\n",
       "      <td>2949</td>\n",
       "      <td>0.807392</td>\n",
       "      <td>0.659885</td>\n",
       "      <td>81.158020</td>\n",
       "      <td>76.711767</td>\n",
       "    </tr>\n",
       "    <tr>\n",
       "      <td>3</td>\n",
       "      <td>Ford High School</td>\n",
       "      <td>2739</td>\n",
       "      <td>0.792990</td>\n",
       "      <td>0.683096</td>\n",
       "      <td>80.746258</td>\n",
       "      <td>77.102592</td>\n",
       "    </tr>\n",
       "    <tr>\n",
       "      <td>4</td>\n",
       "      <td>Griffin High School</td>\n",
       "      <td>1468</td>\n",
       "      <td>0.971390</td>\n",
       "      <td>0.933924</td>\n",
       "      <td>83.816757</td>\n",
       "      <td>83.351499</td>\n",
       "    </tr>\n",
       "  </tbody>\n",
       "</table>\n",
       "</div>"
      ],
      "text/plain": [
       "            school_name  student_name  reading_pass  math_pass  \\\n",
       "0    Bailey High School          4976      0.819333   0.666801   \n",
       "1   Cabrera High School          1858      0.970398   0.941335   \n",
       "2  Figueroa High School          2949      0.807392   0.659885   \n",
       "3      Ford High School          2739      0.792990   0.683096   \n",
       "4   Griffin High School          1468      0.971390   0.933924   \n",
       "\n",
       "   Average Reading Score  Average Math Score  \n",
       "0              81.033963           77.048432  \n",
       "1              83.975780           83.061895  \n",
       "2              81.158020           76.711767  \n",
       "3              80.746258           77.102592  \n",
       "4              83.816757           83.351499  "
      ]
     },
     "execution_count": 26,
     "metadata": {},
     "output_type": "execute_result"
    }
   ],
   "source": [
    "#--GroupBy data to find count, mean, and sum in dataframe\n",
    "grouped_schools = school_sum.groupby(\"school_name\", as_index=False).agg({'student_name':'count',\n",
    "                                                                            'reading_pass':'mean',  \n",
    "                                                                            'math_pass':'mean',\n",
    "                                                                            'reading_score':'mean',                                                                   'reading_score':'mean',\n",
    "                                                                            'math_score':'mean',\n",
    "                                                                            }).rename(columns={\n",
    "                                                                            'reading_score':'Average Reading Score',\n",
    "                                                                             'math_score':'Average Math Score'})    \n",
    "grouped_schools.head()"
   ]
  },
  {
   "cell_type": "code",
   "execution_count": 27,
   "metadata": {},
   "outputs": [],
   "source": [
    "#--Calculate percentage of passing reading, math and overall\n",
    "grouped_schools['% Passing Math'] = grouped_schools[\"math_pass\"]*100\n",
    "grouped_schools['% Passing Reading'] = grouped_schools[\"reading_pass\"]*100\n",
    "grouped_schools['% Overall Passing Rate'] = (grouped_schools['% Passing Math']+grouped_schools['% Passing Reading'])/2\n",
    "\n",
    "# grouped_schools.head(14)"
   ]
  },
  {
   "cell_type": "code",
   "execution_count": 28,
   "metadata": {},
   "outputs": [],
   "source": [
    "#--Merge School_df with grouped_schools(calculate percentage of reading, math and overall)\n",
    "school_summary_table = pd.merge(school_df,grouped_schools, on=[\"school_name\",\"school_name\"])\n",
    "# school_summary_table.columns"
   ]
  },
  {
   "cell_type": "code",
   "execution_count": 29,
   "metadata": {},
   "outputs": [],
   "source": [
    "#--Calculate clumn 'Per Student Budget'\n",
    "student_count = school_summary_table[\"budget\"]/school_summary_table[\"size\"]\n",
    "school_summary_table['student_per_budget'] = student_count\n",
    "# school_summary_table.head()"
   ]
  },
  {
   "cell_type": "markdown",
   "metadata": {},
   "source": [
    "# --School Summary Report"
   ]
  },
  {
   "cell_type": "code",
   "execution_count": 30,
   "metadata": {},
   "outputs": [
    {
     "data": {
      "text/html": [
       "<style  type=\"text/css\" >\n",
       "</style><table id=\"T_a78a89d4_5aa5_11ea_ba79_b831b53c3674\" ><thead>    <tr>        <th class=\"col_heading level0 col0\" >School Name</th>        <th class=\"col_heading level0 col1\" >School Type</th>        <th class=\"col_heading level0 col2\" >Total Student</th>        <th class=\"col_heading level0 col3\" >Total School Budget</th>        <th class=\"col_heading level0 col4\" >Per Student Budget</th>        <th class=\"col_heading level0 col5\" >Average Math Score</th>        <th class=\"col_heading level0 col6\" >Average Reading Score</th>        <th class=\"col_heading level0 col7\" >% Passing Math</th>        <th class=\"col_heading level0 col8\" >% Passing Reading</th>        <th class=\"col_heading level0 col9\" >% Overall Passing Rate</th>    </tr></thead><tbody>\n",
       "                <tr>\n",
       "                                <td id=\"T_a78a89d4_5aa5_11ea_ba79_b831b53c3674row0_col0\" class=\"data row0 col0\" >Huang High School</td>\n",
       "                        <td id=\"T_a78a89d4_5aa5_11ea_ba79_b831b53c3674row0_col1\" class=\"data row0 col1\" >District</td>\n",
       "                        <td id=\"T_a78a89d4_5aa5_11ea_ba79_b831b53c3674row0_col2\" class=\"data row0 col2\" >2917</td>\n",
       "                        <td id=\"T_a78a89d4_5aa5_11ea_ba79_b831b53c3674row0_col3\" class=\"data row0 col3\" >1,910,635</td>\n",
       "                        <td id=\"T_a78a89d4_5aa5_11ea_ba79_b831b53c3674row0_col4\" class=\"data row0 col4\" >655.00</td>\n",
       "                        <td id=\"T_a78a89d4_5aa5_11ea_ba79_b831b53c3674row0_col5\" class=\"data row0 col5\" >76.63</td>\n",
       "                        <td id=\"T_a78a89d4_5aa5_11ea_ba79_b831b53c3674row0_col6\" class=\"data row0 col6\" >81.18</td>\n",
       "                        <td id=\"T_a78a89d4_5aa5_11ea_ba79_b831b53c3674row0_col7\" class=\"data row0 col7\" >65.68</td>\n",
       "                        <td id=\"T_a78a89d4_5aa5_11ea_ba79_b831b53c3674row0_col8\" class=\"data row0 col8\" >81.32</td>\n",
       "                        <td id=\"T_a78a89d4_5aa5_11ea_ba79_b831b53c3674row0_col9\" class=\"data row0 col9\" >73.50</td>\n",
       "            </tr>\n",
       "            <tr>\n",
       "                                <td id=\"T_a78a89d4_5aa5_11ea_ba79_b831b53c3674row1_col0\" class=\"data row1 col0\" >Figueroa High School</td>\n",
       "                        <td id=\"T_a78a89d4_5aa5_11ea_ba79_b831b53c3674row1_col1\" class=\"data row1 col1\" >District</td>\n",
       "                        <td id=\"T_a78a89d4_5aa5_11ea_ba79_b831b53c3674row1_col2\" class=\"data row1 col2\" >2949</td>\n",
       "                        <td id=\"T_a78a89d4_5aa5_11ea_ba79_b831b53c3674row1_col3\" class=\"data row1 col3\" >1,884,411</td>\n",
       "                        <td id=\"T_a78a89d4_5aa5_11ea_ba79_b831b53c3674row1_col4\" class=\"data row1 col4\" >639.00</td>\n",
       "                        <td id=\"T_a78a89d4_5aa5_11ea_ba79_b831b53c3674row1_col5\" class=\"data row1 col5\" >76.71</td>\n",
       "                        <td id=\"T_a78a89d4_5aa5_11ea_ba79_b831b53c3674row1_col6\" class=\"data row1 col6\" >81.16</td>\n",
       "                        <td id=\"T_a78a89d4_5aa5_11ea_ba79_b831b53c3674row1_col7\" class=\"data row1 col7\" >65.99</td>\n",
       "                        <td id=\"T_a78a89d4_5aa5_11ea_ba79_b831b53c3674row1_col8\" class=\"data row1 col8\" >80.74</td>\n",
       "                        <td id=\"T_a78a89d4_5aa5_11ea_ba79_b831b53c3674row1_col9\" class=\"data row1 col9\" >73.36</td>\n",
       "            </tr>\n",
       "            <tr>\n",
       "                                <td id=\"T_a78a89d4_5aa5_11ea_ba79_b831b53c3674row2_col0\" class=\"data row2 col0\" >Shelton High School</td>\n",
       "                        <td id=\"T_a78a89d4_5aa5_11ea_ba79_b831b53c3674row2_col1\" class=\"data row2 col1\" >Charter</td>\n",
       "                        <td id=\"T_a78a89d4_5aa5_11ea_ba79_b831b53c3674row2_col2\" class=\"data row2 col2\" >1761</td>\n",
       "                        <td id=\"T_a78a89d4_5aa5_11ea_ba79_b831b53c3674row2_col3\" class=\"data row2 col3\" >1,056,600</td>\n",
       "                        <td id=\"T_a78a89d4_5aa5_11ea_ba79_b831b53c3674row2_col4\" class=\"data row2 col4\" >600.00</td>\n",
       "                        <td id=\"T_a78a89d4_5aa5_11ea_ba79_b831b53c3674row2_col5\" class=\"data row2 col5\" >83.36</td>\n",
       "                        <td id=\"T_a78a89d4_5aa5_11ea_ba79_b831b53c3674row2_col6\" class=\"data row2 col6\" >83.73</td>\n",
       "                        <td id=\"T_a78a89d4_5aa5_11ea_ba79_b831b53c3674row2_col7\" class=\"data row2 col7\" >93.87</td>\n",
       "                        <td id=\"T_a78a89d4_5aa5_11ea_ba79_b831b53c3674row2_col8\" class=\"data row2 col8\" >95.85</td>\n",
       "                        <td id=\"T_a78a89d4_5aa5_11ea_ba79_b831b53c3674row2_col9\" class=\"data row2 col9\" >94.86</td>\n",
       "            </tr>\n",
       "            <tr>\n",
       "                                <td id=\"T_a78a89d4_5aa5_11ea_ba79_b831b53c3674row3_col0\" class=\"data row3 col0\" >Hernandez High School</td>\n",
       "                        <td id=\"T_a78a89d4_5aa5_11ea_ba79_b831b53c3674row3_col1\" class=\"data row3 col1\" >District</td>\n",
       "                        <td id=\"T_a78a89d4_5aa5_11ea_ba79_b831b53c3674row3_col2\" class=\"data row3 col2\" >4635</td>\n",
       "                        <td id=\"T_a78a89d4_5aa5_11ea_ba79_b831b53c3674row3_col3\" class=\"data row3 col3\" >3,022,020</td>\n",
       "                        <td id=\"T_a78a89d4_5aa5_11ea_ba79_b831b53c3674row3_col4\" class=\"data row3 col4\" >652.00</td>\n",
       "                        <td id=\"T_a78a89d4_5aa5_11ea_ba79_b831b53c3674row3_col5\" class=\"data row3 col5\" >77.29</td>\n",
       "                        <td id=\"T_a78a89d4_5aa5_11ea_ba79_b831b53c3674row3_col6\" class=\"data row3 col6\" >80.93</td>\n",
       "                        <td id=\"T_a78a89d4_5aa5_11ea_ba79_b831b53c3674row3_col7\" class=\"data row3 col7\" >66.75</td>\n",
       "                        <td id=\"T_a78a89d4_5aa5_11ea_ba79_b831b53c3674row3_col8\" class=\"data row3 col8\" >80.86</td>\n",
       "                        <td id=\"T_a78a89d4_5aa5_11ea_ba79_b831b53c3674row3_col9\" class=\"data row3 col9\" >73.81</td>\n",
       "            </tr>\n",
       "            <tr>\n",
       "                                <td id=\"T_a78a89d4_5aa5_11ea_ba79_b831b53c3674row4_col0\" class=\"data row4 col0\" >Griffin High School</td>\n",
       "                        <td id=\"T_a78a89d4_5aa5_11ea_ba79_b831b53c3674row4_col1\" class=\"data row4 col1\" >Charter</td>\n",
       "                        <td id=\"T_a78a89d4_5aa5_11ea_ba79_b831b53c3674row4_col2\" class=\"data row4 col2\" >1468</td>\n",
       "                        <td id=\"T_a78a89d4_5aa5_11ea_ba79_b831b53c3674row4_col3\" class=\"data row4 col3\" >917,500</td>\n",
       "                        <td id=\"T_a78a89d4_5aa5_11ea_ba79_b831b53c3674row4_col4\" class=\"data row4 col4\" >625.00</td>\n",
       "                        <td id=\"T_a78a89d4_5aa5_11ea_ba79_b831b53c3674row4_col5\" class=\"data row4 col5\" >83.35</td>\n",
       "                        <td id=\"T_a78a89d4_5aa5_11ea_ba79_b831b53c3674row4_col6\" class=\"data row4 col6\" >83.82</td>\n",
       "                        <td id=\"T_a78a89d4_5aa5_11ea_ba79_b831b53c3674row4_col7\" class=\"data row4 col7\" >93.39</td>\n",
       "                        <td id=\"T_a78a89d4_5aa5_11ea_ba79_b831b53c3674row4_col8\" class=\"data row4 col8\" >97.14</td>\n",
       "                        <td id=\"T_a78a89d4_5aa5_11ea_ba79_b831b53c3674row4_col9\" class=\"data row4 col9\" >95.27</td>\n",
       "            </tr>\n",
       "            <tr>\n",
       "                                <td id=\"T_a78a89d4_5aa5_11ea_ba79_b831b53c3674row5_col0\" class=\"data row5 col0\" >Wilson High School</td>\n",
       "                        <td id=\"T_a78a89d4_5aa5_11ea_ba79_b831b53c3674row5_col1\" class=\"data row5 col1\" >Charter</td>\n",
       "                        <td id=\"T_a78a89d4_5aa5_11ea_ba79_b831b53c3674row5_col2\" class=\"data row5 col2\" >2283</td>\n",
       "                        <td id=\"T_a78a89d4_5aa5_11ea_ba79_b831b53c3674row5_col3\" class=\"data row5 col3\" >1,319,574</td>\n",
       "                        <td id=\"T_a78a89d4_5aa5_11ea_ba79_b831b53c3674row5_col4\" class=\"data row5 col4\" >578.00</td>\n",
       "                        <td id=\"T_a78a89d4_5aa5_11ea_ba79_b831b53c3674row5_col5\" class=\"data row5 col5\" >83.27</td>\n",
       "                        <td id=\"T_a78a89d4_5aa5_11ea_ba79_b831b53c3674row5_col6\" class=\"data row5 col6\" >83.99</td>\n",
       "                        <td id=\"T_a78a89d4_5aa5_11ea_ba79_b831b53c3674row5_col7\" class=\"data row5 col7\" >93.87</td>\n",
       "                        <td id=\"T_a78a89d4_5aa5_11ea_ba79_b831b53c3674row5_col8\" class=\"data row5 col8\" >96.54</td>\n",
       "                        <td id=\"T_a78a89d4_5aa5_11ea_ba79_b831b53c3674row5_col9\" class=\"data row5 col9\" >95.20</td>\n",
       "            </tr>\n",
       "            <tr>\n",
       "                                <td id=\"T_a78a89d4_5aa5_11ea_ba79_b831b53c3674row6_col0\" class=\"data row6 col0\" >Cabrera High School</td>\n",
       "                        <td id=\"T_a78a89d4_5aa5_11ea_ba79_b831b53c3674row6_col1\" class=\"data row6 col1\" >Charter</td>\n",
       "                        <td id=\"T_a78a89d4_5aa5_11ea_ba79_b831b53c3674row6_col2\" class=\"data row6 col2\" >1858</td>\n",
       "                        <td id=\"T_a78a89d4_5aa5_11ea_ba79_b831b53c3674row6_col3\" class=\"data row6 col3\" >1,081,356</td>\n",
       "                        <td id=\"T_a78a89d4_5aa5_11ea_ba79_b831b53c3674row6_col4\" class=\"data row6 col4\" >582.00</td>\n",
       "                        <td id=\"T_a78a89d4_5aa5_11ea_ba79_b831b53c3674row6_col5\" class=\"data row6 col5\" >83.06</td>\n",
       "                        <td id=\"T_a78a89d4_5aa5_11ea_ba79_b831b53c3674row6_col6\" class=\"data row6 col6\" >83.98</td>\n",
       "                        <td id=\"T_a78a89d4_5aa5_11ea_ba79_b831b53c3674row6_col7\" class=\"data row6 col7\" >94.13</td>\n",
       "                        <td id=\"T_a78a89d4_5aa5_11ea_ba79_b831b53c3674row6_col8\" class=\"data row6 col8\" >97.04</td>\n",
       "                        <td id=\"T_a78a89d4_5aa5_11ea_ba79_b831b53c3674row6_col9\" class=\"data row6 col9\" >95.59</td>\n",
       "            </tr>\n",
       "            <tr>\n",
       "                                <td id=\"T_a78a89d4_5aa5_11ea_ba79_b831b53c3674row7_col0\" class=\"data row7 col0\" >Bailey High School</td>\n",
       "                        <td id=\"T_a78a89d4_5aa5_11ea_ba79_b831b53c3674row7_col1\" class=\"data row7 col1\" >District</td>\n",
       "                        <td id=\"T_a78a89d4_5aa5_11ea_ba79_b831b53c3674row7_col2\" class=\"data row7 col2\" >4976</td>\n",
       "                        <td id=\"T_a78a89d4_5aa5_11ea_ba79_b831b53c3674row7_col3\" class=\"data row7 col3\" >3,124,928</td>\n",
       "                        <td id=\"T_a78a89d4_5aa5_11ea_ba79_b831b53c3674row7_col4\" class=\"data row7 col4\" >628.00</td>\n",
       "                        <td id=\"T_a78a89d4_5aa5_11ea_ba79_b831b53c3674row7_col5\" class=\"data row7 col5\" >77.05</td>\n",
       "                        <td id=\"T_a78a89d4_5aa5_11ea_ba79_b831b53c3674row7_col6\" class=\"data row7 col6\" >81.03</td>\n",
       "                        <td id=\"T_a78a89d4_5aa5_11ea_ba79_b831b53c3674row7_col7\" class=\"data row7 col7\" >66.68</td>\n",
       "                        <td id=\"T_a78a89d4_5aa5_11ea_ba79_b831b53c3674row7_col8\" class=\"data row7 col8\" >81.93</td>\n",
       "                        <td id=\"T_a78a89d4_5aa5_11ea_ba79_b831b53c3674row7_col9\" class=\"data row7 col9\" >74.31</td>\n",
       "            </tr>\n",
       "            <tr>\n",
       "                                <td id=\"T_a78a89d4_5aa5_11ea_ba79_b831b53c3674row8_col0\" class=\"data row8 col0\" >Holden High School</td>\n",
       "                        <td id=\"T_a78a89d4_5aa5_11ea_ba79_b831b53c3674row8_col1\" class=\"data row8 col1\" >Charter</td>\n",
       "                        <td id=\"T_a78a89d4_5aa5_11ea_ba79_b831b53c3674row8_col2\" class=\"data row8 col2\" >427</td>\n",
       "                        <td id=\"T_a78a89d4_5aa5_11ea_ba79_b831b53c3674row8_col3\" class=\"data row8 col3\" >248,087</td>\n",
       "                        <td id=\"T_a78a89d4_5aa5_11ea_ba79_b831b53c3674row8_col4\" class=\"data row8 col4\" >581.00</td>\n",
       "                        <td id=\"T_a78a89d4_5aa5_11ea_ba79_b831b53c3674row8_col5\" class=\"data row8 col5\" >83.8</td>\n",
       "                        <td id=\"T_a78a89d4_5aa5_11ea_ba79_b831b53c3674row8_col6\" class=\"data row8 col6\" >83.81</td>\n",
       "                        <td id=\"T_a78a89d4_5aa5_11ea_ba79_b831b53c3674row8_col7\" class=\"data row8 col7\" >92.51</td>\n",
       "                        <td id=\"T_a78a89d4_5aa5_11ea_ba79_b831b53c3674row8_col8\" class=\"data row8 col8\" >96.25</td>\n",
       "                        <td id=\"T_a78a89d4_5aa5_11ea_ba79_b831b53c3674row8_col9\" class=\"data row8 col9\" >94.38</td>\n",
       "            </tr>\n",
       "            <tr>\n",
       "                                <td id=\"T_a78a89d4_5aa5_11ea_ba79_b831b53c3674row9_col0\" class=\"data row9 col0\" >Pena High School</td>\n",
       "                        <td id=\"T_a78a89d4_5aa5_11ea_ba79_b831b53c3674row9_col1\" class=\"data row9 col1\" >Charter</td>\n",
       "                        <td id=\"T_a78a89d4_5aa5_11ea_ba79_b831b53c3674row9_col2\" class=\"data row9 col2\" >962</td>\n",
       "                        <td id=\"T_a78a89d4_5aa5_11ea_ba79_b831b53c3674row9_col3\" class=\"data row9 col3\" >585,858</td>\n",
       "                        <td id=\"T_a78a89d4_5aa5_11ea_ba79_b831b53c3674row9_col4\" class=\"data row9 col4\" >609.00</td>\n",
       "                        <td id=\"T_a78a89d4_5aa5_11ea_ba79_b831b53c3674row9_col5\" class=\"data row9 col5\" >83.84</td>\n",
       "                        <td id=\"T_a78a89d4_5aa5_11ea_ba79_b831b53c3674row9_col6\" class=\"data row9 col6\" >84.04</td>\n",
       "                        <td id=\"T_a78a89d4_5aa5_11ea_ba79_b831b53c3674row9_col7\" class=\"data row9 col7\" >94.59</td>\n",
       "                        <td id=\"T_a78a89d4_5aa5_11ea_ba79_b831b53c3674row9_col8\" class=\"data row9 col8\" >95.95</td>\n",
       "                        <td id=\"T_a78a89d4_5aa5_11ea_ba79_b831b53c3674row9_col9\" class=\"data row9 col9\" >95.27</td>\n",
       "            </tr>\n",
       "            <tr>\n",
       "                                <td id=\"T_a78a89d4_5aa5_11ea_ba79_b831b53c3674row10_col0\" class=\"data row10 col0\" >Wright High School</td>\n",
       "                        <td id=\"T_a78a89d4_5aa5_11ea_ba79_b831b53c3674row10_col1\" class=\"data row10 col1\" >Charter</td>\n",
       "                        <td id=\"T_a78a89d4_5aa5_11ea_ba79_b831b53c3674row10_col2\" class=\"data row10 col2\" >1800</td>\n",
       "                        <td id=\"T_a78a89d4_5aa5_11ea_ba79_b831b53c3674row10_col3\" class=\"data row10 col3\" >1,049,400</td>\n",
       "                        <td id=\"T_a78a89d4_5aa5_11ea_ba79_b831b53c3674row10_col4\" class=\"data row10 col4\" >583.00</td>\n",
       "                        <td id=\"T_a78a89d4_5aa5_11ea_ba79_b831b53c3674row10_col5\" class=\"data row10 col5\" >83.68</td>\n",
       "                        <td id=\"T_a78a89d4_5aa5_11ea_ba79_b831b53c3674row10_col6\" class=\"data row10 col6\" >83.96</td>\n",
       "                        <td id=\"T_a78a89d4_5aa5_11ea_ba79_b831b53c3674row10_col7\" class=\"data row10 col7\" >93.33</td>\n",
       "                        <td id=\"T_a78a89d4_5aa5_11ea_ba79_b831b53c3674row10_col8\" class=\"data row10 col8\" >96.61</td>\n",
       "                        <td id=\"T_a78a89d4_5aa5_11ea_ba79_b831b53c3674row10_col9\" class=\"data row10 col9\" >94.97</td>\n",
       "            </tr>\n",
       "            <tr>\n",
       "                                <td id=\"T_a78a89d4_5aa5_11ea_ba79_b831b53c3674row11_col0\" class=\"data row11 col0\" >Rodriguez High School</td>\n",
       "                        <td id=\"T_a78a89d4_5aa5_11ea_ba79_b831b53c3674row11_col1\" class=\"data row11 col1\" >District</td>\n",
       "                        <td id=\"T_a78a89d4_5aa5_11ea_ba79_b831b53c3674row11_col2\" class=\"data row11 col2\" >3999</td>\n",
       "                        <td id=\"T_a78a89d4_5aa5_11ea_ba79_b831b53c3674row11_col3\" class=\"data row11 col3\" >2,547,363</td>\n",
       "                        <td id=\"T_a78a89d4_5aa5_11ea_ba79_b831b53c3674row11_col4\" class=\"data row11 col4\" >637.00</td>\n",
       "                        <td id=\"T_a78a89d4_5aa5_11ea_ba79_b831b53c3674row11_col5\" class=\"data row11 col5\" >76.84</td>\n",
       "                        <td id=\"T_a78a89d4_5aa5_11ea_ba79_b831b53c3674row11_col6\" class=\"data row11 col6\" >80.74</td>\n",
       "                        <td id=\"T_a78a89d4_5aa5_11ea_ba79_b831b53c3674row11_col7\" class=\"data row11 col7\" >66.37</td>\n",
       "                        <td id=\"T_a78a89d4_5aa5_11ea_ba79_b831b53c3674row11_col8\" class=\"data row11 col8\" >80.22</td>\n",
       "                        <td id=\"T_a78a89d4_5aa5_11ea_ba79_b831b53c3674row11_col9\" class=\"data row11 col9\" >73.29</td>\n",
       "            </tr>\n",
       "            <tr>\n",
       "                                <td id=\"T_a78a89d4_5aa5_11ea_ba79_b831b53c3674row12_col0\" class=\"data row12 col0\" >Johnson High School</td>\n",
       "                        <td id=\"T_a78a89d4_5aa5_11ea_ba79_b831b53c3674row12_col1\" class=\"data row12 col1\" >District</td>\n",
       "                        <td id=\"T_a78a89d4_5aa5_11ea_ba79_b831b53c3674row12_col2\" class=\"data row12 col2\" >4761</td>\n",
       "                        <td id=\"T_a78a89d4_5aa5_11ea_ba79_b831b53c3674row12_col3\" class=\"data row12 col3\" >3,094,650</td>\n",
       "                        <td id=\"T_a78a89d4_5aa5_11ea_ba79_b831b53c3674row12_col4\" class=\"data row12 col4\" >650.00</td>\n",
       "                        <td id=\"T_a78a89d4_5aa5_11ea_ba79_b831b53c3674row12_col5\" class=\"data row12 col5\" >77.07</td>\n",
       "                        <td id=\"T_a78a89d4_5aa5_11ea_ba79_b831b53c3674row12_col6\" class=\"data row12 col6\" >80.97</td>\n",
       "                        <td id=\"T_a78a89d4_5aa5_11ea_ba79_b831b53c3674row12_col7\" class=\"data row12 col7\" >66.06</td>\n",
       "                        <td id=\"T_a78a89d4_5aa5_11ea_ba79_b831b53c3674row12_col8\" class=\"data row12 col8\" >81.22</td>\n",
       "                        <td id=\"T_a78a89d4_5aa5_11ea_ba79_b831b53c3674row12_col9\" class=\"data row12 col9\" >73.64</td>\n",
       "            </tr>\n",
       "            <tr>\n",
       "                                <td id=\"T_a78a89d4_5aa5_11ea_ba79_b831b53c3674row13_col0\" class=\"data row13 col0\" >Ford High School</td>\n",
       "                        <td id=\"T_a78a89d4_5aa5_11ea_ba79_b831b53c3674row13_col1\" class=\"data row13 col1\" >District</td>\n",
       "                        <td id=\"T_a78a89d4_5aa5_11ea_ba79_b831b53c3674row13_col2\" class=\"data row13 col2\" >2739</td>\n",
       "                        <td id=\"T_a78a89d4_5aa5_11ea_ba79_b831b53c3674row13_col3\" class=\"data row13 col3\" >1,763,916</td>\n",
       "                        <td id=\"T_a78a89d4_5aa5_11ea_ba79_b831b53c3674row13_col4\" class=\"data row13 col4\" >644.00</td>\n",
       "                        <td id=\"T_a78a89d4_5aa5_11ea_ba79_b831b53c3674row13_col5\" class=\"data row13 col5\" >77.1</td>\n",
       "                        <td id=\"T_a78a89d4_5aa5_11ea_ba79_b831b53c3674row13_col6\" class=\"data row13 col6\" >80.75</td>\n",
       "                        <td id=\"T_a78a89d4_5aa5_11ea_ba79_b831b53c3674row13_col7\" class=\"data row13 col7\" >68.31</td>\n",
       "                        <td id=\"T_a78a89d4_5aa5_11ea_ba79_b831b53c3674row13_col8\" class=\"data row13 col8\" >79.30</td>\n",
       "                        <td id=\"T_a78a89d4_5aa5_11ea_ba79_b831b53c3674row13_col9\" class=\"data row13 col9\" >73.80</td>\n",
       "            </tr>\n",
       "            <tr>\n",
       "                                <td id=\"T_a78a89d4_5aa5_11ea_ba79_b831b53c3674row14_col0\" class=\"data row14 col0\" >Thomas High School</td>\n",
       "                        <td id=\"T_a78a89d4_5aa5_11ea_ba79_b831b53c3674row14_col1\" class=\"data row14 col1\" >Charter</td>\n",
       "                        <td id=\"T_a78a89d4_5aa5_11ea_ba79_b831b53c3674row14_col2\" class=\"data row14 col2\" >1635</td>\n",
       "                        <td id=\"T_a78a89d4_5aa5_11ea_ba79_b831b53c3674row14_col3\" class=\"data row14 col3\" >1,043,130</td>\n",
       "                        <td id=\"T_a78a89d4_5aa5_11ea_ba79_b831b53c3674row14_col4\" class=\"data row14 col4\" >638.00</td>\n",
       "                        <td id=\"T_a78a89d4_5aa5_11ea_ba79_b831b53c3674row14_col5\" class=\"data row14 col5\" >83.42</td>\n",
       "                        <td id=\"T_a78a89d4_5aa5_11ea_ba79_b831b53c3674row14_col6\" class=\"data row14 col6\" >83.85</td>\n",
       "                        <td id=\"T_a78a89d4_5aa5_11ea_ba79_b831b53c3674row14_col7\" class=\"data row14 col7\" >93.27</td>\n",
       "                        <td id=\"T_a78a89d4_5aa5_11ea_ba79_b831b53c3674row14_col8\" class=\"data row14 col8\" >97.31</td>\n",
       "                        <td id=\"T_a78a89d4_5aa5_11ea_ba79_b831b53c3674row14_col9\" class=\"data row14 col9\" >95.29</td>\n",
       "            </tr>\n",
       "    </tbody></table>"
      ],
      "text/plain": [
       "<pandas.io.formats.style.Styler at 0x1c2eb2af748>"
      ]
     },
     "execution_count": 30,
     "metadata": {},
     "output_type": "execute_result"
    }
   ],
   "source": [
    "#--Select Column in dataframe and organize columns\n",
    "school_summary_table1 = school_summary_table[[\"school_name\",\"type\",\"size\",\n",
    "                                              \"budget\",\"student_per_budget\",\n",
    "                                               'Average Math Score','Average Reading Score',\n",
    "                                               '% Passing Math','% Passing Reading',\n",
    "                                                '% Overall Passing Rate']]\n",
    "#--Format numeric to two decimals\n",
    "school_summary_table2=school_summary_table1.round({'Average Math Score':2,'Average Reading Score':2,\n",
    "                                               '% Passing Math':2,'% Passing Reading':2,\n",
    "                                                '% Overall Passing Rate':2})\n",
    "#--Rename the columns\n",
    "school_summary_report=school_summary_table2.rename(columns ={'school_name':'School Name',\n",
    "                                                            'type':'School Type',\n",
    "                                                            'size':'Total Student',\n",
    "                                                             'budget':'Total School Budget',\n",
    "                                                            'student_per_budget':'Per Student Budget'\n",
    "                                                             })\n",
    "#--Use Map to format all the columns\n",
    "school_summary_report['Total School Budget']=school_summary_report['Total School Budget'].map(\"{:,}\".format)\n",
    "school_summary_report['Per Student Budget'] = school_summary_report['Per Student Budget'].map(\"{:.2f}\".format)\n",
    "school_summary_report['% Passing Math'] = school_summary_report['% Passing Math'].map(\"{:.2f}\".format)\n",
    "school_summary_report['% Passing Reading'] = school_summary_report['% Passing Reading'].map(\"{:.2f}\".format)\n",
    "school_summary_report['% Overall Passing Rate'] = school_summary_report['% Overall Passing Rate'].map(\"{:.2f}\".format)\n",
    "\n",
    "#--Print by hiding index\n",
    "school_summary_report.style.hide_index()\n"
   ]
  },
  {
   "cell_type": "markdown",
   "metadata": {},
   "source": [
    "# --Top Performing Schools (By Passing Rate)"
   ]
  },
  {
   "cell_type": "code",
   "execution_count": 31,
   "metadata": {},
   "outputs": [
    {
     "data": {
      "text/html": [
       "<style  type=\"text/css\" >\n",
       "</style><table id=\"T_ac51159c_5aa5_11ea_a231_b831b53c3674\" ><thead>    <tr>        <th class=\"col_heading level0 col0\" >School Name</th>        <th class=\"col_heading level0 col1\" >School Type</th>        <th class=\"col_heading level0 col2\" >Total Student</th>        <th class=\"col_heading level0 col3\" >Total School Budget</th>        <th class=\"col_heading level0 col4\" >Per Student Budget</th>        <th class=\"col_heading level0 col5\" >Average Math Score</th>        <th class=\"col_heading level0 col6\" >Average Reading Score</th>        <th class=\"col_heading level0 col7\" >% Passing Math</th>        <th class=\"col_heading level0 col8\" >% Passing Reading</th>        <th class=\"col_heading level0 col9\" >% Overall Passing Rate</th>    </tr></thead><tbody>\n",
       "                <tr>\n",
       "                                <td id=\"T_ac51159c_5aa5_11ea_a231_b831b53c3674row0_col0\" class=\"data row0 col0\" >Cabrera High School</td>\n",
       "                        <td id=\"T_ac51159c_5aa5_11ea_a231_b831b53c3674row0_col1\" class=\"data row0 col1\" >Charter</td>\n",
       "                        <td id=\"T_ac51159c_5aa5_11ea_a231_b831b53c3674row0_col2\" class=\"data row0 col2\" >1858</td>\n",
       "                        <td id=\"T_ac51159c_5aa5_11ea_a231_b831b53c3674row0_col3\" class=\"data row0 col3\" >1,081,356</td>\n",
       "                        <td id=\"T_ac51159c_5aa5_11ea_a231_b831b53c3674row0_col4\" class=\"data row0 col4\" >582.00</td>\n",
       "                        <td id=\"T_ac51159c_5aa5_11ea_a231_b831b53c3674row0_col5\" class=\"data row0 col5\" >83.06</td>\n",
       "                        <td id=\"T_ac51159c_5aa5_11ea_a231_b831b53c3674row0_col6\" class=\"data row0 col6\" >83.98</td>\n",
       "                        <td id=\"T_ac51159c_5aa5_11ea_a231_b831b53c3674row0_col7\" class=\"data row0 col7\" >94.13</td>\n",
       "                        <td id=\"T_ac51159c_5aa5_11ea_a231_b831b53c3674row0_col8\" class=\"data row0 col8\" >97.04</td>\n",
       "                        <td id=\"T_ac51159c_5aa5_11ea_a231_b831b53c3674row0_col9\" class=\"data row0 col9\" >95.59</td>\n",
       "            </tr>\n",
       "            <tr>\n",
       "                                <td id=\"T_ac51159c_5aa5_11ea_a231_b831b53c3674row1_col0\" class=\"data row1 col0\" >Thomas High School</td>\n",
       "                        <td id=\"T_ac51159c_5aa5_11ea_a231_b831b53c3674row1_col1\" class=\"data row1 col1\" >Charter</td>\n",
       "                        <td id=\"T_ac51159c_5aa5_11ea_a231_b831b53c3674row1_col2\" class=\"data row1 col2\" >1635</td>\n",
       "                        <td id=\"T_ac51159c_5aa5_11ea_a231_b831b53c3674row1_col3\" class=\"data row1 col3\" >1,043,130</td>\n",
       "                        <td id=\"T_ac51159c_5aa5_11ea_a231_b831b53c3674row1_col4\" class=\"data row1 col4\" >638.00</td>\n",
       "                        <td id=\"T_ac51159c_5aa5_11ea_a231_b831b53c3674row1_col5\" class=\"data row1 col5\" >83.42</td>\n",
       "                        <td id=\"T_ac51159c_5aa5_11ea_a231_b831b53c3674row1_col6\" class=\"data row1 col6\" >83.85</td>\n",
       "                        <td id=\"T_ac51159c_5aa5_11ea_a231_b831b53c3674row1_col7\" class=\"data row1 col7\" >93.27</td>\n",
       "                        <td id=\"T_ac51159c_5aa5_11ea_a231_b831b53c3674row1_col8\" class=\"data row1 col8\" >97.31</td>\n",
       "                        <td id=\"T_ac51159c_5aa5_11ea_a231_b831b53c3674row1_col9\" class=\"data row1 col9\" >95.29</td>\n",
       "            </tr>\n",
       "            <tr>\n",
       "                                <td id=\"T_ac51159c_5aa5_11ea_a231_b831b53c3674row2_col0\" class=\"data row2 col0\" >Griffin High School</td>\n",
       "                        <td id=\"T_ac51159c_5aa5_11ea_a231_b831b53c3674row2_col1\" class=\"data row2 col1\" >Charter</td>\n",
       "                        <td id=\"T_ac51159c_5aa5_11ea_a231_b831b53c3674row2_col2\" class=\"data row2 col2\" >1468</td>\n",
       "                        <td id=\"T_ac51159c_5aa5_11ea_a231_b831b53c3674row2_col3\" class=\"data row2 col3\" >917,500</td>\n",
       "                        <td id=\"T_ac51159c_5aa5_11ea_a231_b831b53c3674row2_col4\" class=\"data row2 col4\" >625.00</td>\n",
       "                        <td id=\"T_ac51159c_5aa5_11ea_a231_b831b53c3674row2_col5\" class=\"data row2 col5\" >83.35</td>\n",
       "                        <td id=\"T_ac51159c_5aa5_11ea_a231_b831b53c3674row2_col6\" class=\"data row2 col6\" >83.82</td>\n",
       "                        <td id=\"T_ac51159c_5aa5_11ea_a231_b831b53c3674row2_col7\" class=\"data row2 col7\" >93.39</td>\n",
       "                        <td id=\"T_ac51159c_5aa5_11ea_a231_b831b53c3674row2_col8\" class=\"data row2 col8\" >97.14</td>\n",
       "                        <td id=\"T_ac51159c_5aa5_11ea_a231_b831b53c3674row2_col9\" class=\"data row2 col9\" >95.27</td>\n",
       "            </tr>\n",
       "            <tr>\n",
       "                                <td id=\"T_ac51159c_5aa5_11ea_a231_b831b53c3674row3_col0\" class=\"data row3 col0\" >Pena High School</td>\n",
       "                        <td id=\"T_ac51159c_5aa5_11ea_a231_b831b53c3674row3_col1\" class=\"data row3 col1\" >Charter</td>\n",
       "                        <td id=\"T_ac51159c_5aa5_11ea_a231_b831b53c3674row3_col2\" class=\"data row3 col2\" >962</td>\n",
       "                        <td id=\"T_ac51159c_5aa5_11ea_a231_b831b53c3674row3_col3\" class=\"data row3 col3\" >585,858</td>\n",
       "                        <td id=\"T_ac51159c_5aa5_11ea_a231_b831b53c3674row3_col4\" class=\"data row3 col4\" >609.00</td>\n",
       "                        <td id=\"T_ac51159c_5aa5_11ea_a231_b831b53c3674row3_col5\" class=\"data row3 col5\" >83.84</td>\n",
       "                        <td id=\"T_ac51159c_5aa5_11ea_a231_b831b53c3674row3_col6\" class=\"data row3 col6\" >84.04</td>\n",
       "                        <td id=\"T_ac51159c_5aa5_11ea_a231_b831b53c3674row3_col7\" class=\"data row3 col7\" >94.59</td>\n",
       "                        <td id=\"T_ac51159c_5aa5_11ea_a231_b831b53c3674row3_col8\" class=\"data row3 col8\" >95.95</td>\n",
       "                        <td id=\"T_ac51159c_5aa5_11ea_a231_b831b53c3674row3_col9\" class=\"data row3 col9\" >95.27</td>\n",
       "            </tr>\n",
       "            <tr>\n",
       "                                <td id=\"T_ac51159c_5aa5_11ea_a231_b831b53c3674row4_col0\" class=\"data row4 col0\" >Wilson High School</td>\n",
       "                        <td id=\"T_ac51159c_5aa5_11ea_a231_b831b53c3674row4_col1\" class=\"data row4 col1\" >Charter</td>\n",
       "                        <td id=\"T_ac51159c_5aa5_11ea_a231_b831b53c3674row4_col2\" class=\"data row4 col2\" >2283</td>\n",
       "                        <td id=\"T_ac51159c_5aa5_11ea_a231_b831b53c3674row4_col3\" class=\"data row4 col3\" >1,319,574</td>\n",
       "                        <td id=\"T_ac51159c_5aa5_11ea_a231_b831b53c3674row4_col4\" class=\"data row4 col4\" >578.00</td>\n",
       "                        <td id=\"T_ac51159c_5aa5_11ea_a231_b831b53c3674row4_col5\" class=\"data row4 col5\" >83.27</td>\n",
       "                        <td id=\"T_ac51159c_5aa5_11ea_a231_b831b53c3674row4_col6\" class=\"data row4 col6\" >83.99</td>\n",
       "                        <td id=\"T_ac51159c_5aa5_11ea_a231_b831b53c3674row4_col7\" class=\"data row4 col7\" >93.87</td>\n",
       "                        <td id=\"T_ac51159c_5aa5_11ea_a231_b831b53c3674row4_col8\" class=\"data row4 col8\" >96.54</td>\n",
       "                        <td id=\"T_ac51159c_5aa5_11ea_a231_b831b53c3674row4_col9\" class=\"data row4 col9\" >95.20</td>\n",
       "            </tr>\n",
       "            <tr>\n",
       "                                <td id=\"T_ac51159c_5aa5_11ea_a231_b831b53c3674row5_col0\" class=\"data row5 col0\" >Wright High School</td>\n",
       "                        <td id=\"T_ac51159c_5aa5_11ea_a231_b831b53c3674row5_col1\" class=\"data row5 col1\" >Charter</td>\n",
       "                        <td id=\"T_ac51159c_5aa5_11ea_a231_b831b53c3674row5_col2\" class=\"data row5 col2\" >1800</td>\n",
       "                        <td id=\"T_ac51159c_5aa5_11ea_a231_b831b53c3674row5_col3\" class=\"data row5 col3\" >1,049,400</td>\n",
       "                        <td id=\"T_ac51159c_5aa5_11ea_a231_b831b53c3674row5_col4\" class=\"data row5 col4\" >583.00</td>\n",
       "                        <td id=\"T_ac51159c_5aa5_11ea_a231_b831b53c3674row5_col5\" class=\"data row5 col5\" >83.68</td>\n",
       "                        <td id=\"T_ac51159c_5aa5_11ea_a231_b831b53c3674row5_col6\" class=\"data row5 col6\" >83.96</td>\n",
       "                        <td id=\"T_ac51159c_5aa5_11ea_a231_b831b53c3674row5_col7\" class=\"data row5 col7\" >93.33</td>\n",
       "                        <td id=\"T_ac51159c_5aa5_11ea_a231_b831b53c3674row5_col8\" class=\"data row5 col8\" >96.61</td>\n",
       "                        <td id=\"T_ac51159c_5aa5_11ea_a231_b831b53c3674row5_col9\" class=\"data row5 col9\" >94.97</td>\n",
       "            </tr>\n",
       "            <tr>\n",
       "                                <td id=\"T_ac51159c_5aa5_11ea_a231_b831b53c3674row6_col0\" class=\"data row6 col0\" >Shelton High School</td>\n",
       "                        <td id=\"T_ac51159c_5aa5_11ea_a231_b831b53c3674row6_col1\" class=\"data row6 col1\" >Charter</td>\n",
       "                        <td id=\"T_ac51159c_5aa5_11ea_a231_b831b53c3674row6_col2\" class=\"data row6 col2\" >1761</td>\n",
       "                        <td id=\"T_ac51159c_5aa5_11ea_a231_b831b53c3674row6_col3\" class=\"data row6 col3\" >1,056,600</td>\n",
       "                        <td id=\"T_ac51159c_5aa5_11ea_a231_b831b53c3674row6_col4\" class=\"data row6 col4\" >600.00</td>\n",
       "                        <td id=\"T_ac51159c_5aa5_11ea_a231_b831b53c3674row6_col5\" class=\"data row6 col5\" >83.36</td>\n",
       "                        <td id=\"T_ac51159c_5aa5_11ea_a231_b831b53c3674row6_col6\" class=\"data row6 col6\" >83.73</td>\n",
       "                        <td id=\"T_ac51159c_5aa5_11ea_a231_b831b53c3674row6_col7\" class=\"data row6 col7\" >93.87</td>\n",
       "                        <td id=\"T_ac51159c_5aa5_11ea_a231_b831b53c3674row6_col8\" class=\"data row6 col8\" >95.85</td>\n",
       "                        <td id=\"T_ac51159c_5aa5_11ea_a231_b831b53c3674row6_col9\" class=\"data row6 col9\" >94.86</td>\n",
       "            </tr>\n",
       "            <tr>\n",
       "                                <td id=\"T_ac51159c_5aa5_11ea_a231_b831b53c3674row7_col0\" class=\"data row7 col0\" >Holden High School</td>\n",
       "                        <td id=\"T_ac51159c_5aa5_11ea_a231_b831b53c3674row7_col1\" class=\"data row7 col1\" >Charter</td>\n",
       "                        <td id=\"T_ac51159c_5aa5_11ea_a231_b831b53c3674row7_col2\" class=\"data row7 col2\" >427</td>\n",
       "                        <td id=\"T_ac51159c_5aa5_11ea_a231_b831b53c3674row7_col3\" class=\"data row7 col3\" >248,087</td>\n",
       "                        <td id=\"T_ac51159c_5aa5_11ea_a231_b831b53c3674row7_col4\" class=\"data row7 col4\" >581.00</td>\n",
       "                        <td id=\"T_ac51159c_5aa5_11ea_a231_b831b53c3674row7_col5\" class=\"data row7 col5\" >83.8</td>\n",
       "                        <td id=\"T_ac51159c_5aa5_11ea_a231_b831b53c3674row7_col6\" class=\"data row7 col6\" >83.81</td>\n",
       "                        <td id=\"T_ac51159c_5aa5_11ea_a231_b831b53c3674row7_col7\" class=\"data row7 col7\" >92.51</td>\n",
       "                        <td id=\"T_ac51159c_5aa5_11ea_a231_b831b53c3674row7_col8\" class=\"data row7 col8\" >96.25</td>\n",
       "                        <td id=\"T_ac51159c_5aa5_11ea_a231_b831b53c3674row7_col9\" class=\"data row7 col9\" >94.38</td>\n",
       "            </tr>\n",
       "            <tr>\n",
       "                                <td id=\"T_ac51159c_5aa5_11ea_a231_b831b53c3674row8_col0\" class=\"data row8 col0\" >Bailey High School</td>\n",
       "                        <td id=\"T_ac51159c_5aa5_11ea_a231_b831b53c3674row8_col1\" class=\"data row8 col1\" >District</td>\n",
       "                        <td id=\"T_ac51159c_5aa5_11ea_a231_b831b53c3674row8_col2\" class=\"data row8 col2\" >4976</td>\n",
       "                        <td id=\"T_ac51159c_5aa5_11ea_a231_b831b53c3674row8_col3\" class=\"data row8 col3\" >3,124,928</td>\n",
       "                        <td id=\"T_ac51159c_5aa5_11ea_a231_b831b53c3674row8_col4\" class=\"data row8 col4\" >628.00</td>\n",
       "                        <td id=\"T_ac51159c_5aa5_11ea_a231_b831b53c3674row8_col5\" class=\"data row8 col5\" >77.05</td>\n",
       "                        <td id=\"T_ac51159c_5aa5_11ea_a231_b831b53c3674row8_col6\" class=\"data row8 col6\" >81.03</td>\n",
       "                        <td id=\"T_ac51159c_5aa5_11ea_a231_b831b53c3674row8_col7\" class=\"data row8 col7\" >66.68</td>\n",
       "                        <td id=\"T_ac51159c_5aa5_11ea_a231_b831b53c3674row8_col8\" class=\"data row8 col8\" >81.93</td>\n",
       "                        <td id=\"T_ac51159c_5aa5_11ea_a231_b831b53c3674row8_col9\" class=\"data row8 col9\" >74.31</td>\n",
       "            </tr>\n",
       "            <tr>\n",
       "                                <td id=\"T_ac51159c_5aa5_11ea_a231_b831b53c3674row9_col0\" class=\"data row9 col0\" >Hernandez High School</td>\n",
       "                        <td id=\"T_ac51159c_5aa5_11ea_a231_b831b53c3674row9_col1\" class=\"data row9 col1\" >District</td>\n",
       "                        <td id=\"T_ac51159c_5aa5_11ea_a231_b831b53c3674row9_col2\" class=\"data row9 col2\" >4635</td>\n",
       "                        <td id=\"T_ac51159c_5aa5_11ea_a231_b831b53c3674row9_col3\" class=\"data row9 col3\" >3,022,020</td>\n",
       "                        <td id=\"T_ac51159c_5aa5_11ea_a231_b831b53c3674row9_col4\" class=\"data row9 col4\" >652.00</td>\n",
       "                        <td id=\"T_ac51159c_5aa5_11ea_a231_b831b53c3674row9_col5\" class=\"data row9 col5\" >77.29</td>\n",
       "                        <td id=\"T_ac51159c_5aa5_11ea_a231_b831b53c3674row9_col6\" class=\"data row9 col6\" >80.93</td>\n",
       "                        <td id=\"T_ac51159c_5aa5_11ea_a231_b831b53c3674row9_col7\" class=\"data row9 col7\" >66.75</td>\n",
       "                        <td id=\"T_ac51159c_5aa5_11ea_a231_b831b53c3674row9_col8\" class=\"data row9 col8\" >80.86</td>\n",
       "                        <td id=\"T_ac51159c_5aa5_11ea_a231_b831b53c3674row9_col9\" class=\"data row9 col9\" >73.81</td>\n",
       "            </tr>\n",
       "            <tr>\n",
       "                                <td id=\"T_ac51159c_5aa5_11ea_a231_b831b53c3674row10_col0\" class=\"data row10 col0\" >Ford High School</td>\n",
       "                        <td id=\"T_ac51159c_5aa5_11ea_a231_b831b53c3674row10_col1\" class=\"data row10 col1\" >District</td>\n",
       "                        <td id=\"T_ac51159c_5aa5_11ea_a231_b831b53c3674row10_col2\" class=\"data row10 col2\" >2739</td>\n",
       "                        <td id=\"T_ac51159c_5aa5_11ea_a231_b831b53c3674row10_col3\" class=\"data row10 col3\" >1,763,916</td>\n",
       "                        <td id=\"T_ac51159c_5aa5_11ea_a231_b831b53c3674row10_col4\" class=\"data row10 col4\" >644.00</td>\n",
       "                        <td id=\"T_ac51159c_5aa5_11ea_a231_b831b53c3674row10_col5\" class=\"data row10 col5\" >77.1</td>\n",
       "                        <td id=\"T_ac51159c_5aa5_11ea_a231_b831b53c3674row10_col6\" class=\"data row10 col6\" >80.75</td>\n",
       "                        <td id=\"T_ac51159c_5aa5_11ea_a231_b831b53c3674row10_col7\" class=\"data row10 col7\" >68.31</td>\n",
       "                        <td id=\"T_ac51159c_5aa5_11ea_a231_b831b53c3674row10_col8\" class=\"data row10 col8\" >79.30</td>\n",
       "                        <td id=\"T_ac51159c_5aa5_11ea_a231_b831b53c3674row10_col9\" class=\"data row10 col9\" >73.80</td>\n",
       "            </tr>\n",
       "            <tr>\n",
       "                                <td id=\"T_ac51159c_5aa5_11ea_a231_b831b53c3674row11_col0\" class=\"data row11 col0\" >Johnson High School</td>\n",
       "                        <td id=\"T_ac51159c_5aa5_11ea_a231_b831b53c3674row11_col1\" class=\"data row11 col1\" >District</td>\n",
       "                        <td id=\"T_ac51159c_5aa5_11ea_a231_b831b53c3674row11_col2\" class=\"data row11 col2\" >4761</td>\n",
       "                        <td id=\"T_ac51159c_5aa5_11ea_a231_b831b53c3674row11_col3\" class=\"data row11 col3\" >3,094,650</td>\n",
       "                        <td id=\"T_ac51159c_5aa5_11ea_a231_b831b53c3674row11_col4\" class=\"data row11 col4\" >650.00</td>\n",
       "                        <td id=\"T_ac51159c_5aa5_11ea_a231_b831b53c3674row11_col5\" class=\"data row11 col5\" >77.07</td>\n",
       "                        <td id=\"T_ac51159c_5aa5_11ea_a231_b831b53c3674row11_col6\" class=\"data row11 col6\" >80.97</td>\n",
       "                        <td id=\"T_ac51159c_5aa5_11ea_a231_b831b53c3674row11_col7\" class=\"data row11 col7\" >66.06</td>\n",
       "                        <td id=\"T_ac51159c_5aa5_11ea_a231_b831b53c3674row11_col8\" class=\"data row11 col8\" >81.22</td>\n",
       "                        <td id=\"T_ac51159c_5aa5_11ea_a231_b831b53c3674row11_col9\" class=\"data row11 col9\" >73.64</td>\n",
       "            </tr>\n",
       "            <tr>\n",
       "                                <td id=\"T_ac51159c_5aa5_11ea_a231_b831b53c3674row12_col0\" class=\"data row12 col0\" >Huang High School</td>\n",
       "                        <td id=\"T_ac51159c_5aa5_11ea_a231_b831b53c3674row12_col1\" class=\"data row12 col1\" >District</td>\n",
       "                        <td id=\"T_ac51159c_5aa5_11ea_a231_b831b53c3674row12_col2\" class=\"data row12 col2\" >2917</td>\n",
       "                        <td id=\"T_ac51159c_5aa5_11ea_a231_b831b53c3674row12_col3\" class=\"data row12 col3\" >1,910,635</td>\n",
       "                        <td id=\"T_ac51159c_5aa5_11ea_a231_b831b53c3674row12_col4\" class=\"data row12 col4\" >655.00</td>\n",
       "                        <td id=\"T_ac51159c_5aa5_11ea_a231_b831b53c3674row12_col5\" class=\"data row12 col5\" >76.63</td>\n",
       "                        <td id=\"T_ac51159c_5aa5_11ea_a231_b831b53c3674row12_col6\" class=\"data row12 col6\" >81.18</td>\n",
       "                        <td id=\"T_ac51159c_5aa5_11ea_a231_b831b53c3674row12_col7\" class=\"data row12 col7\" >65.68</td>\n",
       "                        <td id=\"T_ac51159c_5aa5_11ea_a231_b831b53c3674row12_col8\" class=\"data row12 col8\" >81.32</td>\n",
       "                        <td id=\"T_ac51159c_5aa5_11ea_a231_b831b53c3674row12_col9\" class=\"data row12 col9\" >73.50</td>\n",
       "            </tr>\n",
       "            <tr>\n",
       "                                <td id=\"T_ac51159c_5aa5_11ea_a231_b831b53c3674row13_col0\" class=\"data row13 col0\" >Figueroa High School</td>\n",
       "                        <td id=\"T_ac51159c_5aa5_11ea_a231_b831b53c3674row13_col1\" class=\"data row13 col1\" >District</td>\n",
       "                        <td id=\"T_ac51159c_5aa5_11ea_a231_b831b53c3674row13_col2\" class=\"data row13 col2\" >2949</td>\n",
       "                        <td id=\"T_ac51159c_5aa5_11ea_a231_b831b53c3674row13_col3\" class=\"data row13 col3\" >1,884,411</td>\n",
       "                        <td id=\"T_ac51159c_5aa5_11ea_a231_b831b53c3674row13_col4\" class=\"data row13 col4\" >639.00</td>\n",
       "                        <td id=\"T_ac51159c_5aa5_11ea_a231_b831b53c3674row13_col5\" class=\"data row13 col5\" >76.71</td>\n",
       "                        <td id=\"T_ac51159c_5aa5_11ea_a231_b831b53c3674row13_col6\" class=\"data row13 col6\" >81.16</td>\n",
       "                        <td id=\"T_ac51159c_5aa5_11ea_a231_b831b53c3674row13_col7\" class=\"data row13 col7\" >65.99</td>\n",
       "                        <td id=\"T_ac51159c_5aa5_11ea_a231_b831b53c3674row13_col8\" class=\"data row13 col8\" >80.74</td>\n",
       "                        <td id=\"T_ac51159c_5aa5_11ea_a231_b831b53c3674row13_col9\" class=\"data row13 col9\" >73.36</td>\n",
       "            </tr>\n",
       "            <tr>\n",
       "                                <td id=\"T_ac51159c_5aa5_11ea_a231_b831b53c3674row14_col0\" class=\"data row14 col0\" >Rodriguez High School</td>\n",
       "                        <td id=\"T_ac51159c_5aa5_11ea_a231_b831b53c3674row14_col1\" class=\"data row14 col1\" >District</td>\n",
       "                        <td id=\"T_ac51159c_5aa5_11ea_a231_b831b53c3674row14_col2\" class=\"data row14 col2\" >3999</td>\n",
       "                        <td id=\"T_ac51159c_5aa5_11ea_a231_b831b53c3674row14_col3\" class=\"data row14 col3\" >2,547,363</td>\n",
       "                        <td id=\"T_ac51159c_5aa5_11ea_a231_b831b53c3674row14_col4\" class=\"data row14 col4\" >637.00</td>\n",
       "                        <td id=\"T_ac51159c_5aa5_11ea_a231_b831b53c3674row14_col5\" class=\"data row14 col5\" >76.84</td>\n",
       "                        <td id=\"T_ac51159c_5aa5_11ea_a231_b831b53c3674row14_col6\" class=\"data row14 col6\" >80.74</td>\n",
       "                        <td id=\"T_ac51159c_5aa5_11ea_a231_b831b53c3674row14_col7\" class=\"data row14 col7\" >66.37</td>\n",
       "                        <td id=\"T_ac51159c_5aa5_11ea_a231_b831b53c3674row14_col8\" class=\"data row14 col8\" >80.22</td>\n",
       "                        <td id=\"T_ac51159c_5aa5_11ea_a231_b831b53c3674row14_col9\" class=\"data row14 col9\" >73.29</td>\n",
       "            </tr>\n",
       "    </tbody></table>"
      ],
      "text/plain": [
       "<pandas.io.formats.style.Styler at 0x1c2eb35cc88>"
      ]
     },
     "execution_count": 31,
     "metadata": {},
     "output_type": "execute_result"
    }
   ],
   "source": [
    "#--Sort Data Decending \n",
    "top_School = school_summary_report.sort_values('% Overall Passing Rate',ascending=False)\n",
    "top_School.style.hide_index()"
   ]
  },
  {
   "cell_type": "markdown",
   "metadata": {},
   "source": [
    "# --Bottom Performing Schools (By Passing Rate)"
   ]
  },
  {
   "cell_type": "code",
   "execution_count": 32,
   "metadata": {},
   "outputs": [
    {
     "data": {
      "text/html": [
       "<style  type=\"text/css\" >\n",
       "</style><table id=\"T_ad4c5fb6_5aa5_11ea_b587_b831b53c3674\" ><thead>    <tr>        <th class=\"col_heading level0 col0\" >School Name</th>        <th class=\"col_heading level0 col1\" >School Type</th>        <th class=\"col_heading level0 col2\" >Total Student</th>        <th class=\"col_heading level0 col3\" >Total School Budget</th>        <th class=\"col_heading level0 col4\" >Per Student Budget</th>        <th class=\"col_heading level0 col5\" >Average Math Score</th>        <th class=\"col_heading level0 col6\" >Average Reading Score</th>        <th class=\"col_heading level0 col7\" >% Passing Math</th>        <th class=\"col_heading level0 col8\" >% Passing Reading</th>        <th class=\"col_heading level0 col9\" >% Overall Passing Rate</th>    </tr></thead><tbody>\n",
       "                <tr>\n",
       "                                <td id=\"T_ad4c5fb6_5aa5_11ea_b587_b831b53c3674row0_col0\" class=\"data row0 col0\" >Rodriguez High School</td>\n",
       "                        <td id=\"T_ad4c5fb6_5aa5_11ea_b587_b831b53c3674row0_col1\" class=\"data row0 col1\" >District</td>\n",
       "                        <td id=\"T_ad4c5fb6_5aa5_11ea_b587_b831b53c3674row0_col2\" class=\"data row0 col2\" >3999</td>\n",
       "                        <td id=\"T_ad4c5fb6_5aa5_11ea_b587_b831b53c3674row0_col3\" class=\"data row0 col3\" >2,547,363</td>\n",
       "                        <td id=\"T_ad4c5fb6_5aa5_11ea_b587_b831b53c3674row0_col4\" class=\"data row0 col4\" >637.00</td>\n",
       "                        <td id=\"T_ad4c5fb6_5aa5_11ea_b587_b831b53c3674row0_col5\" class=\"data row0 col5\" >76.84</td>\n",
       "                        <td id=\"T_ad4c5fb6_5aa5_11ea_b587_b831b53c3674row0_col6\" class=\"data row0 col6\" >80.74</td>\n",
       "                        <td id=\"T_ad4c5fb6_5aa5_11ea_b587_b831b53c3674row0_col7\" class=\"data row0 col7\" >66.37</td>\n",
       "                        <td id=\"T_ad4c5fb6_5aa5_11ea_b587_b831b53c3674row0_col8\" class=\"data row0 col8\" >80.22</td>\n",
       "                        <td id=\"T_ad4c5fb6_5aa5_11ea_b587_b831b53c3674row0_col9\" class=\"data row0 col9\" >73.29</td>\n",
       "            </tr>\n",
       "            <tr>\n",
       "                                <td id=\"T_ad4c5fb6_5aa5_11ea_b587_b831b53c3674row1_col0\" class=\"data row1 col0\" >Figueroa High School</td>\n",
       "                        <td id=\"T_ad4c5fb6_5aa5_11ea_b587_b831b53c3674row1_col1\" class=\"data row1 col1\" >District</td>\n",
       "                        <td id=\"T_ad4c5fb6_5aa5_11ea_b587_b831b53c3674row1_col2\" class=\"data row1 col2\" >2949</td>\n",
       "                        <td id=\"T_ad4c5fb6_5aa5_11ea_b587_b831b53c3674row1_col3\" class=\"data row1 col3\" >1,884,411</td>\n",
       "                        <td id=\"T_ad4c5fb6_5aa5_11ea_b587_b831b53c3674row1_col4\" class=\"data row1 col4\" >639.00</td>\n",
       "                        <td id=\"T_ad4c5fb6_5aa5_11ea_b587_b831b53c3674row1_col5\" class=\"data row1 col5\" >76.71</td>\n",
       "                        <td id=\"T_ad4c5fb6_5aa5_11ea_b587_b831b53c3674row1_col6\" class=\"data row1 col6\" >81.16</td>\n",
       "                        <td id=\"T_ad4c5fb6_5aa5_11ea_b587_b831b53c3674row1_col7\" class=\"data row1 col7\" >65.99</td>\n",
       "                        <td id=\"T_ad4c5fb6_5aa5_11ea_b587_b831b53c3674row1_col8\" class=\"data row1 col8\" >80.74</td>\n",
       "                        <td id=\"T_ad4c5fb6_5aa5_11ea_b587_b831b53c3674row1_col9\" class=\"data row1 col9\" >73.36</td>\n",
       "            </tr>\n",
       "            <tr>\n",
       "                                <td id=\"T_ad4c5fb6_5aa5_11ea_b587_b831b53c3674row2_col0\" class=\"data row2 col0\" >Huang High School</td>\n",
       "                        <td id=\"T_ad4c5fb6_5aa5_11ea_b587_b831b53c3674row2_col1\" class=\"data row2 col1\" >District</td>\n",
       "                        <td id=\"T_ad4c5fb6_5aa5_11ea_b587_b831b53c3674row2_col2\" class=\"data row2 col2\" >2917</td>\n",
       "                        <td id=\"T_ad4c5fb6_5aa5_11ea_b587_b831b53c3674row2_col3\" class=\"data row2 col3\" >1,910,635</td>\n",
       "                        <td id=\"T_ad4c5fb6_5aa5_11ea_b587_b831b53c3674row2_col4\" class=\"data row2 col4\" >655.00</td>\n",
       "                        <td id=\"T_ad4c5fb6_5aa5_11ea_b587_b831b53c3674row2_col5\" class=\"data row2 col5\" >76.63</td>\n",
       "                        <td id=\"T_ad4c5fb6_5aa5_11ea_b587_b831b53c3674row2_col6\" class=\"data row2 col6\" >81.18</td>\n",
       "                        <td id=\"T_ad4c5fb6_5aa5_11ea_b587_b831b53c3674row2_col7\" class=\"data row2 col7\" >65.68</td>\n",
       "                        <td id=\"T_ad4c5fb6_5aa5_11ea_b587_b831b53c3674row2_col8\" class=\"data row2 col8\" >81.32</td>\n",
       "                        <td id=\"T_ad4c5fb6_5aa5_11ea_b587_b831b53c3674row2_col9\" class=\"data row2 col9\" >73.50</td>\n",
       "            </tr>\n",
       "            <tr>\n",
       "                                <td id=\"T_ad4c5fb6_5aa5_11ea_b587_b831b53c3674row3_col0\" class=\"data row3 col0\" >Johnson High School</td>\n",
       "                        <td id=\"T_ad4c5fb6_5aa5_11ea_b587_b831b53c3674row3_col1\" class=\"data row3 col1\" >District</td>\n",
       "                        <td id=\"T_ad4c5fb6_5aa5_11ea_b587_b831b53c3674row3_col2\" class=\"data row3 col2\" >4761</td>\n",
       "                        <td id=\"T_ad4c5fb6_5aa5_11ea_b587_b831b53c3674row3_col3\" class=\"data row3 col3\" >3,094,650</td>\n",
       "                        <td id=\"T_ad4c5fb6_5aa5_11ea_b587_b831b53c3674row3_col4\" class=\"data row3 col4\" >650.00</td>\n",
       "                        <td id=\"T_ad4c5fb6_5aa5_11ea_b587_b831b53c3674row3_col5\" class=\"data row3 col5\" >77.07</td>\n",
       "                        <td id=\"T_ad4c5fb6_5aa5_11ea_b587_b831b53c3674row3_col6\" class=\"data row3 col6\" >80.97</td>\n",
       "                        <td id=\"T_ad4c5fb6_5aa5_11ea_b587_b831b53c3674row3_col7\" class=\"data row3 col7\" >66.06</td>\n",
       "                        <td id=\"T_ad4c5fb6_5aa5_11ea_b587_b831b53c3674row3_col8\" class=\"data row3 col8\" >81.22</td>\n",
       "                        <td id=\"T_ad4c5fb6_5aa5_11ea_b587_b831b53c3674row3_col9\" class=\"data row3 col9\" >73.64</td>\n",
       "            </tr>\n",
       "            <tr>\n",
       "                                <td id=\"T_ad4c5fb6_5aa5_11ea_b587_b831b53c3674row4_col0\" class=\"data row4 col0\" >Ford High School</td>\n",
       "                        <td id=\"T_ad4c5fb6_5aa5_11ea_b587_b831b53c3674row4_col1\" class=\"data row4 col1\" >District</td>\n",
       "                        <td id=\"T_ad4c5fb6_5aa5_11ea_b587_b831b53c3674row4_col2\" class=\"data row4 col2\" >2739</td>\n",
       "                        <td id=\"T_ad4c5fb6_5aa5_11ea_b587_b831b53c3674row4_col3\" class=\"data row4 col3\" >1,763,916</td>\n",
       "                        <td id=\"T_ad4c5fb6_5aa5_11ea_b587_b831b53c3674row4_col4\" class=\"data row4 col4\" >644.00</td>\n",
       "                        <td id=\"T_ad4c5fb6_5aa5_11ea_b587_b831b53c3674row4_col5\" class=\"data row4 col5\" >77.1</td>\n",
       "                        <td id=\"T_ad4c5fb6_5aa5_11ea_b587_b831b53c3674row4_col6\" class=\"data row4 col6\" >80.75</td>\n",
       "                        <td id=\"T_ad4c5fb6_5aa5_11ea_b587_b831b53c3674row4_col7\" class=\"data row4 col7\" >68.31</td>\n",
       "                        <td id=\"T_ad4c5fb6_5aa5_11ea_b587_b831b53c3674row4_col8\" class=\"data row4 col8\" >79.30</td>\n",
       "                        <td id=\"T_ad4c5fb6_5aa5_11ea_b587_b831b53c3674row4_col9\" class=\"data row4 col9\" >73.80</td>\n",
       "            </tr>\n",
       "            <tr>\n",
       "                                <td id=\"T_ad4c5fb6_5aa5_11ea_b587_b831b53c3674row5_col0\" class=\"data row5 col0\" >Hernandez High School</td>\n",
       "                        <td id=\"T_ad4c5fb6_5aa5_11ea_b587_b831b53c3674row5_col1\" class=\"data row5 col1\" >District</td>\n",
       "                        <td id=\"T_ad4c5fb6_5aa5_11ea_b587_b831b53c3674row5_col2\" class=\"data row5 col2\" >4635</td>\n",
       "                        <td id=\"T_ad4c5fb6_5aa5_11ea_b587_b831b53c3674row5_col3\" class=\"data row5 col3\" >3,022,020</td>\n",
       "                        <td id=\"T_ad4c5fb6_5aa5_11ea_b587_b831b53c3674row5_col4\" class=\"data row5 col4\" >652.00</td>\n",
       "                        <td id=\"T_ad4c5fb6_5aa5_11ea_b587_b831b53c3674row5_col5\" class=\"data row5 col5\" >77.29</td>\n",
       "                        <td id=\"T_ad4c5fb6_5aa5_11ea_b587_b831b53c3674row5_col6\" class=\"data row5 col6\" >80.93</td>\n",
       "                        <td id=\"T_ad4c5fb6_5aa5_11ea_b587_b831b53c3674row5_col7\" class=\"data row5 col7\" >66.75</td>\n",
       "                        <td id=\"T_ad4c5fb6_5aa5_11ea_b587_b831b53c3674row5_col8\" class=\"data row5 col8\" >80.86</td>\n",
       "                        <td id=\"T_ad4c5fb6_5aa5_11ea_b587_b831b53c3674row5_col9\" class=\"data row5 col9\" >73.81</td>\n",
       "            </tr>\n",
       "            <tr>\n",
       "                                <td id=\"T_ad4c5fb6_5aa5_11ea_b587_b831b53c3674row6_col0\" class=\"data row6 col0\" >Bailey High School</td>\n",
       "                        <td id=\"T_ad4c5fb6_5aa5_11ea_b587_b831b53c3674row6_col1\" class=\"data row6 col1\" >District</td>\n",
       "                        <td id=\"T_ad4c5fb6_5aa5_11ea_b587_b831b53c3674row6_col2\" class=\"data row6 col2\" >4976</td>\n",
       "                        <td id=\"T_ad4c5fb6_5aa5_11ea_b587_b831b53c3674row6_col3\" class=\"data row6 col3\" >3,124,928</td>\n",
       "                        <td id=\"T_ad4c5fb6_5aa5_11ea_b587_b831b53c3674row6_col4\" class=\"data row6 col4\" >628.00</td>\n",
       "                        <td id=\"T_ad4c5fb6_5aa5_11ea_b587_b831b53c3674row6_col5\" class=\"data row6 col5\" >77.05</td>\n",
       "                        <td id=\"T_ad4c5fb6_5aa5_11ea_b587_b831b53c3674row6_col6\" class=\"data row6 col6\" >81.03</td>\n",
       "                        <td id=\"T_ad4c5fb6_5aa5_11ea_b587_b831b53c3674row6_col7\" class=\"data row6 col7\" >66.68</td>\n",
       "                        <td id=\"T_ad4c5fb6_5aa5_11ea_b587_b831b53c3674row6_col8\" class=\"data row6 col8\" >81.93</td>\n",
       "                        <td id=\"T_ad4c5fb6_5aa5_11ea_b587_b831b53c3674row6_col9\" class=\"data row6 col9\" >74.31</td>\n",
       "            </tr>\n",
       "            <tr>\n",
       "                                <td id=\"T_ad4c5fb6_5aa5_11ea_b587_b831b53c3674row7_col0\" class=\"data row7 col0\" >Holden High School</td>\n",
       "                        <td id=\"T_ad4c5fb6_5aa5_11ea_b587_b831b53c3674row7_col1\" class=\"data row7 col1\" >Charter</td>\n",
       "                        <td id=\"T_ad4c5fb6_5aa5_11ea_b587_b831b53c3674row7_col2\" class=\"data row7 col2\" >427</td>\n",
       "                        <td id=\"T_ad4c5fb6_5aa5_11ea_b587_b831b53c3674row7_col3\" class=\"data row7 col3\" >248,087</td>\n",
       "                        <td id=\"T_ad4c5fb6_5aa5_11ea_b587_b831b53c3674row7_col4\" class=\"data row7 col4\" >581.00</td>\n",
       "                        <td id=\"T_ad4c5fb6_5aa5_11ea_b587_b831b53c3674row7_col5\" class=\"data row7 col5\" >83.8</td>\n",
       "                        <td id=\"T_ad4c5fb6_5aa5_11ea_b587_b831b53c3674row7_col6\" class=\"data row7 col6\" >83.81</td>\n",
       "                        <td id=\"T_ad4c5fb6_5aa5_11ea_b587_b831b53c3674row7_col7\" class=\"data row7 col7\" >92.51</td>\n",
       "                        <td id=\"T_ad4c5fb6_5aa5_11ea_b587_b831b53c3674row7_col8\" class=\"data row7 col8\" >96.25</td>\n",
       "                        <td id=\"T_ad4c5fb6_5aa5_11ea_b587_b831b53c3674row7_col9\" class=\"data row7 col9\" >94.38</td>\n",
       "            </tr>\n",
       "            <tr>\n",
       "                                <td id=\"T_ad4c5fb6_5aa5_11ea_b587_b831b53c3674row8_col0\" class=\"data row8 col0\" >Shelton High School</td>\n",
       "                        <td id=\"T_ad4c5fb6_5aa5_11ea_b587_b831b53c3674row8_col1\" class=\"data row8 col1\" >Charter</td>\n",
       "                        <td id=\"T_ad4c5fb6_5aa5_11ea_b587_b831b53c3674row8_col2\" class=\"data row8 col2\" >1761</td>\n",
       "                        <td id=\"T_ad4c5fb6_5aa5_11ea_b587_b831b53c3674row8_col3\" class=\"data row8 col3\" >1,056,600</td>\n",
       "                        <td id=\"T_ad4c5fb6_5aa5_11ea_b587_b831b53c3674row8_col4\" class=\"data row8 col4\" >600.00</td>\n",
       "                        <td id=\"T_ad4c5fb6_5aa5_11ea_b587_b831b53c3674row8_col5\" class=\"data row8 col5\" >83.36</td>\n",
       "                        <td id=\"T_ad4c5fb6_5aa5_11ea_b587_b831b53c3674row8_col6\" class=\"data row8 col6\" >83.73</td>\n",
       "                        <td id=\"T_ad4c5fb6_5aa5_11ea_b587_b831b53c3674row8_col7\" class=\"data row8 col7\" >93.87</td>\n",
       "                        <td id=\"T_ad4c5fb6_5aa5_11ea_b587_b831b53c3674row8_col8\" class=\"data row8 col8\" >95.85</td>\n",
       "                        <td id=\"T_ad4c5fb6_5aa5_11ea_b587_b831b53c3674row8_col9\" class=\"data row8 col9\" >94.86</td>\n",
       "            </tr>\n",
       "            <tr>\n",
       "                                <td id=\"T_ad4c5fb6_5aa5_11ea_b587_b831b53c3674row9_col0\" class=\"data row9 col0\" >Wright High School</td>\n",
       "                        <td id=\"T_ad4c5fb6_5aa5_11ea_b587_b831b53c3674row9_col1\" class=\"data row9 col1\" >Charter</td>\n",
       "                        <td id=\"T_ad4c5fb6_5aa5_11ea_b587_b831b53c3674row9_col2\" class=\"data row9 col2\" >1800</td>\n",
       "                        <td id=\"T_ad4c5fb6_5aa5_11ea_b587_b831b53c3674row9_col3\" class=\"data row9 col3\" >1,049,400</td>\n",
       "                        <td id=\"T_ad4c5fb6_5aa5_11ea_b587_b831b53c3674row9_col4\" class=\"data row9 col4\" >583.00</td>\n",
       "                        <td id=\"T_ad4c5fb6_5aa5_11ea_b587_b831b53c3674row9_col5\" class=\"data row9 col5\" >83.68</td>\n",
       "                        <td id=\"T_ad4c5fb6_5aa5_11ea_b587_b831b53c3674row9_col6\" class=\"data row9 col6\" >83.96</td>\n",
       "                        <td id=\"T_ad4c5fb6_5aa5_11ea_b587_b831b53c3674row9_col7\" class=\"data row9 col7\" >93.33</td>\n",
       "                        <td id=\"T_ad4c5fb6_5aa5_11ea_b587_b831b53c3674row9_col8\" class=\"data row9 col8\" >96.61</td>\n",
       "                        <td id=\"T_ad4c5fb6_5aa5_11ea_b587_b831b53c3674row9_col9\" class=\"data row9 col9\" >94.97</td>\n",
       "            </tr>\n",
       "            <tr>\n",
       "                                <td id=\"T_ad4c5fb6_5aa5_11ea_b587_b831b53c3674row10_col0\" class=\"data row10 col0\" >Wilson High School</td>\n",
       "                        <td id=\"T_ad4c5fb6_5aa5_11ea_b587_b831b53c3674row10_col1\" class=\"data row10 col1\" >Charter</td>\n",
       "                        <td id=\"T_ad4c5fb6_5aa5_11ea_b587_b831b53c3674row10_col2\" class=\"data row10 col2\" >2283</td>\n",
       "                        <td id=\"T_ad4c5fb6_5aa5_11ea_b587_b831b53c3674row10_col3\" class=\"data row10 col3\" >1,319,574</td>\n",
       "                        <td id=\"T_ad4c5fb6_5aa5_11ea_b587_b831b53c3674row10_col4\" class=\"data row10 col4\" >578.00</td>\n",
       "                        <td id=\"T_ad4c5fb6_5aa5_11ea_b587_b831b53c3674row10_col5\" class=\"data row10 col5\" >83.27</td>\n",
       "                        <td id=\"T_ad4c5fb6_5aa5_11ea_b587_b831b53c3674row10_col6\" class=\"data row10 col6\" >83.99</td>\n",
       "                        <td id=\"T_ad4c5fb6_5aa5_11ea_b587_b831b53c3674row10_col7\" class=\"data row10 col7\" >93.87</td>\n",
       "                        <td id=\"T_ad4c5fb6_5aa5_11ea_b587_b831b53c3674row10_col8\" class=\"data row10 col8\" >96.54</td>\n",
       "                        <td id=\"T_ad4c5fb6_5aa5_11ea_b587_b831b53c3674row10_col9\" class=\"data row10 col9\" >95.20</td>\n",
       "            </tr>\n",
       "            <tr>\n",
       "                                <td id=\"T_ad4c5fb6_5aa5_11ea_b587_b831b53c3674row11_col0\" class=\"data row11 col0\" >Griffin High School</td>\n",
       "                        <td id=\"T_ad4c5fb6_5aa5_11ea_b587_b831b53c3674row11_col1\" class=\"data row11 col1\" >Charter</td>\n",
       "                        <td id=\"T_ad4c5fb6_5aa5_11ea_b587_b831b53c3674row11_col2\" class=\"data row11 col2\" >1468</td>\n",
       "                        <td id=\"T_ad4c5fb6_5aa5_11ea_b587_b831b53c3674row11_col3\" class=\"data row11 col3\" >917,500</td>\n",
       "                        <td id=\"T_ad4c5fb6_5aa5_11ea_b587_b831b53c3674row11_col4\" class=\"data row11 col4\" >625.00</td>\n",
       "                        <td id=\"T_ad4c5fb6_5aa5_11ea_b587_b831b53c3674row11_col5\" class=\"data row11 col5\" >83.35</td>\n",
       "                        <td id=\"T_ad4c5fb6_5aa5_11ea_b587_b831b53c3674row11_col6\" class=\"data row11 col6\" >83.82</td>\n",
       "                        <td id=\"T_ad4c5fb6_5aa5_11ea_b587_b831b53c3674row11_col7\" class=\"data row11 col7\" >93.39</td>\n",
       "                        <td id=\"T_ad4c5fb6_5aa5_11ea_b587_b831b53c3674row11_col8\" class=\"data row11 col8\" >97.14</td>\n",
       "                        <td id=\"T_ad4c5fb6_5aa5_11ea_b587_b831b53c3674row11_col9\" class=\"data row11 col9\" >95.27</td>\n",
       "            </tr>\n",
       "            <tr>\n",
       "                                <td id=\"T_ad4c5fb6_5aa5_11ea_b587_b831b53c3674row12_col0\" class=\"data row12 col0\" >Pena High School</td>\n",
       "                        <td id=\"T_ad4c5fb6_5aa5_11ea_b587_b831b53c3674row12_col1\" class=\"data row12 col1\" >Charter</td>\n",
       "                        <td id=\"T_ad4c5fb6_5aa5_11ea_b587_b831b53c3674row12_col2\" class=\"data row12 col2\" >962</td>\n",
       "                        <td id=\"T_ad4c5fb6_5aa5_11ea_b587_b831b53c3674row12_col3\" class=\"data row12 col3\" >585,858</td>\n",
       "                        <td id=\"T_ad4c5fb6_5aa5_11ea_b587_b831b53c3674row12_col4\" class=\"data row12 col4\" >609.00</td>\n",
       "                        <td id=\"T_ad4c5fb6_5aa5_11ea_b587_b831b53c3674row12_col5\" class=\"data row12 col5\" >83.84</td>\n",
       "                        <td id=\"T_ad4c5fb6_5aa5_11ea_b587_b831b53c3674row12_col6\" class=\"data row12 col6\" >84.04</td>\n",
       "                        <td id=\"T_ad4c5fb6_5aa5_11ea_b587_b831b53c3674row12_col7\" class=\"data row12 col7\" >94.59</td>\n",
       "                        <td id=\"T_ad4c5fb6_5aa5_11ea_b587_b831b53c3674row12_col8\" class=\"data row12 col8\" >95.95</td>\n",
       "                        <td id=\"T_ad4c5fb6_5aa5_11ea_b587_b831b53c3674row12_col9\" class=\"data row12 col9\" >95.27</td>\n",
       "            </tr>\n",
       "            <tr>\n",
       "                                <td id=\"T_ad4c5fb6_5aa5_11ea_b587_b831b53c3674row13_col0\" class=\"data row13 col0\" >Thomas High School</td>\n",
       "                        <td id=\"T_ad4c5fb6_5aa5_11ea_b587_b831b53c3674row13_col1\" class=\"data row13 col1\" >Charter</td>\n",
       "                        <td id=\"T_ad4c5fb6_5aa5_11ea_b587_b831b53c3674row13_col2\" class=\"data row13 col2\" >1635</td>\n",
       "                        <td id=\"T_ad4c5fb6_5aa5_11ea_b587_b831b53c3674row13_col3\" class=\"data row13 col3\" >1,043,130</td>\n",
       "                        <td id=\"T_ad4c5fb6_5aa5_11ea_b587_b831b53c3674row13_col4\" class=\"data row13 col4\" >638.00</td>\n",
       "                        <td id=\"T_ad4c5fb6_5aa5_11ea_b587_b831b53c3674row13_col5\" class=\"data row13 col5\" >83.42</td>\n",
       "                        <td id=\"T_ad4c5fb6_5aa5_11ea_b587_b831b53c3674row13_col6\" class=\"data row13 col6\" >83.85</td>\n",
       "                        <td id=\"T_ad4c5fb6_5aa5_11ea_b587_b831b53c3674row13_col7\" class=\"data row13 col7\" >93.27</td>\n",
       "                        <td id=\"T_ad4c5fb6_5aa5_11ea_b587_b831b53c3674row13_col8\" class=\"data row13 col8\" >97.31</td>\n",
       "                        <td id=\"T_ad4c5fb6_5aa5_11ea_b587_b831b53c3674row13_col9\" class=\"data row13 col9\" >95.29</td>\n",
       "            </tr>\n",
       "            <tr>\n",
       "                                <td id=\"T_ad4c5fb6_5aa5_11ea_b587_b831b53c3674row14_col0\" class=\"data row14 col0\" >Cabrera High School</td>\n",
       "                        <td id=\"T_ad4c5fb6_5aa5_11ea_b587_b831b53c3674row14_col1\" class=\"data row14 col1\" >Charter</td>\n",
       "                        <td id=\"T_ad4c5fb6_5aa5_11ea_b587_b831b53c3674row14_col2\" class=\"data row14 col2\" >1858</td>\n",
       "                        <td id=\"T_ad4c5fb6_5aa5_11ea_b587_b831b53c3674row14_col3\" class=\"data row14 col3\" >1,081,356</td>\n",
       "                        <td id=\"T_ad4c5fb6_5aa5_11ea_b587_b831b53c3674row14_col4\" class=\"data row14 col4\" >582.00</td>\n",
       "                        <td id=\"T_ad4c5fb6_5aa5_11ea_b587_b831b53c3674row14_col5\" class=\"data row14 col5\" >83.06</td>\n",
       "                        <td id=\"T_ad4c5fb6_5aa5_11ea_b587_b831b53c3674row14_col6\" class=\"data row14 col6\" >83.98</td>\n",
       "                        <td id=\"T_ad4c5fb6_5aa5_11ea_b587_b831b53c3674row14_col7\" class=\"data row14 col7\" >94.13</td>\n",
       "                        <td id=\"T_ad4c5fb6_5aa5_11ea_b587_b831b53c3674row14_col8\" class=\"data row14 col8\" >97.04</td>\n",
       "                        <td id=\"T_ad4c5fb6_5aa5_11ea_b587_b831b53c3674row14_col9\" class=\"data row14 col9\" >95.59</td>\n",
       "            </tr>\n",
       "    </tbody></table>"
      ],
      "text/plain": [
       "<pandas.io.formats.style.Styler at 0x1c2ece9a5c8>"
      ]
     },
     "execution_count": 32,
     "metadata": {},
     "output_type": "execute_result"
    }
   ],
   "source": [
    "#--Sort Data Ascending\n",
    "bottom_School = school_summary_report.sort_values('% Overall Passing Rate',ascending=True)\n",
    "bottom_School.style.hide_index()"
   ]
  },
  {
   "cell_type": "markdown",
   "metadata": {},
   "source": [
    "# --Math Score by grades"
   ]
  },
  {
   "cell_type": "code",
   "execution_count": 33,
   "metadata": {},
   "outputs": [
    {
     "data": {
      "text/html": [
       "<div>\n",
       "<style scoped>\n",
       "    .dataframe tbody tr th:only-of-type {\n",
       "        vertical-align: middle;\n",
       "    }\n",
       "\n",
       "    .dataframe tbody tr th {\n",
       "        vertical-align: top;\n",
       "    }\n",
       "\n",
       "    .dataframe thead th {\n",
       "        text-align: right;\n",
       "    }\n",
       "</style>\n",
       "<table border=\"1\" class=\"dataframe\">\n",
       "  <thead>\n",
       "    <tr style=\"text-align: right;\">\n",
       "      <th></th>\n",
       "      <th>school_name</th>\n",
       "      <th>grade</th>\n",
       "      <th>math_score</th>\n",
       "    </tr>\n",
       "  </thead>\n",
       "  <tbody>\n",
       "    <tr>\n",
       "      <td>0</td>\n",
       "      <td>Huang High School</td>\n",
       "      <td>9</td>\n",
       "      <td>79</td>\n",
       "    </tr>\n",
       "    <tr>\n",
       "      <td>1</td>\n",
       "      <td>Huang High School</td>\n",
       "      <td>12</td>\n",
       "      <td>61</td>\n",
       "    </tr>\n",
       "    <tr>\n",
       "      <td>2</td>\n",
       "      <td>Huang High School</td>\n",
       "      <td>12</td>\n",
       "      <td>60</td>\n",
       "    </tr>\n",
       "    <tr>\n",
       "      <td>3</td>\n",
       "      <td>Huang High School</td>\n",
       "      <td>12</td>\n",
       "      <td>58</td>\n",
       "    </tr>\n",
       "    <tr>\n",
       "      <td>4</td>\n",
       "      <td>Huang High School</td>\n",
       "      <td>9</td>\n",
       "      <td>84</td>\n",
       "    </tr>\n",
       "  </tbody>\n",
       "</table>\n",
       "</div>"
      ],
      "text/plain": [
       "         school_name  grade  math_score\n",
       "0  Huang High School      9          79\n",
       "1  Huang High School     12          61\n",
       "2  Huang High School     12          60\n",
       "3  Huang High School     12          58\n",
       "4  Huang High School      9          84"
      ]
     },
     "execution_count": 33,
     "metadata": {},
     "output_type": "execute_result"
    }
   ],
   "source": [
    "math_score_df = student_df[['school_name','grade','math_score']]\n",
    "# df.replace({'A': {0: 100, 4: 400}})\n",
    "replace_math_score = math_score_df.replace({'grade': {'9th': 9, '10th': 10,'11th':11,'12th':12}})\n",
    "replace_math_score.head()"
   ]
  },
  {
   "cell_type": "code",
   "execution_count": 34,
   "metadata": {},
   "outputs": [
    {
     "data": {
      "text/html": [
       "<div>\n",
       "<style scoped>\n",
       "    .dataframe tbody tr th:only-of-type {\n",
       "        vertical-align: middle;\n",
       "    }\n",
       "\n",
       "    .dataframe tbody tr th {\n",
       "        vertical-align: top;\n",
       "    }\n",
       "\n",
       "    .dataframe thead th {\n",
       "        text-align: right;\n",
       "    }\n",
       "</style>\n",
       "<table border=\"1\" class=\"dataframe\">\n",
       "  <thead>\n",
       "    <tr style=\"text-align: right;\">\n",
       "      <th>grade</th>\n",
       "      <th>School Name</th>\n",
       "      <th>9</th>\n",
       "      <th>10</th>\n",
       "      <th>11</th>\n",
       "      <th>12</th>\n",
       "    </tr>\n",
       "  </thead>\n",
       "  <tbody>\n",
       "    <tr>\n",
       "      <td>0</td>\n",
       "      <td>Bailey High School</td>\n",
       "      <td>77.083676</td>\n",
       "      <td>76.996772</td>\n",
       "      <td>77.515588</td>\n",
       "      <td>76.492218</td>\n",
       "    </tr>\n",
       "    <tr>\n",
       "      <td>1</td>\n",
       "      <td>Cabrera High School</td>\n",
       "      <td>83.094697</td>\n",
       "      <td>83.154506</td>\n",
       "      <td>82.765560</td>\n",
       "      <td>83.277487</td>\n",
       "    </tr>\n",
       "    <tr>\n",
       "      <td>2</td>\n",
       "      <td>Figueroa High School</td>\n",
       "      <td>76.403037</td>\n",
       "      <td>76.539974</td>\n",
       "      <td>76.884344</td>\n",
       "      <td>77.151369</td>\n",
       "    </tr>\n",
       "    <tr>\n",
       "      <td>3</td>\n",
       "      <td>Ford High School</td>\n",
       "      <td>77.361345</td>\n",
       "      <td>77.672316</td>\n",
       "      <td>76.918058</td>\n",
       "      <td>76.179963</td>\n",
       "    </tr>\n",
       "    <tr>\n",
       "      <td>4</td>\n",
       "      <td>Griffin High School</td>\n",
       "      <td>82.044010</td>\n",
       "      <td>84.229064</td>\n",
       "      <td>83.842105</td>\n",
       "      <td>83.356164</td>\n",
       "    </tr>\n",
       "  </tbody>\n",
       "</table>\n",
       "</div>"
      ],
      "text/plain": [
       "grade           School Name          9         10         11         12\n",
       "0        Bailey High School  77.083676  76.996772  77.515588  76.492218\n",
       "1       Cabrera High School  83.094697  83.154506  82.765560  83.277487\n",
       "2      Figueroa High School  76.403037  76.539974  76.884344  77.151369\n",
       "3          Ford High School  77.361345  77.672316  76.918058  76.179963\n",
       "4       Griffin High School  82.044010  84.229064  83.842105  83.356164"
      ]
     },
     "execution_count": 34,
     "metadata": {},
     "output_type": "execute_result"
    }
   ],
   "source": [
    "# pivot_grade = reading_score_df.pivot( \n",
    "#                              index='school_name',                             \n",
    "#                              columns='grade',\n",
    "#                              values='reading_score')\n",
    "pivot_math = pd.pivot_table(replace_math_score, \n",
    "                             index='school_name',                             \n",
    "                             columns='grade',\n",
    "                             values='math_score').reset_index()\n",
    "rename_pivot_math = pivot_math.rename(columns ={'school_name':'School Name','9':'9th','10':'10th','11':'11th','12':'12th'})\n",
    "rename_pivot_math.head()"
   ]
  },
  {
   "cell_type": "markdown",
   "metadata": {},
   "source": [
    "# --Reading Score by Grade Report"
   ]
  },
  {
   "cell_type": "code",
   "execution_count": 35,
   "metadata": {},
   "outputs": [
    {
     "data": {
      "text/html": [
       "<div>\n",
       "<style scoped>\n",
       "    .dataframe tbody tr th:only-of-type {\n",
       "        vertical-align: middle;\n",
       "    }\n",
       "\n",
       "    .dataframe tbody tr th {\n",
       "        vertical-align: top;\n",
       "    }\n",
       "\n",
       "    .dataframe thead th {\n",
       "        text-align: right;\n",
       "    }\n",
       "</style>\n",
       "<table border=\"1\" class=\"dataframe\">\n",
       "  <thead>\n",
       "    <tr style=\"text-align: right;\">\n",
       "      <th></th>\n",
       "      <th>school_name</th>\n",
       "      <th>grade</th>\n",
       "      <th>reading_score</th>\n",
       "    </tr>\n",
       "  </thead>\n",
       "  <tbody>\n",
       "    <tr>\n",
       "      <td>0</td>\n",
       "      <td>Huang High School</td>\n",
       "      <td>9</td>\n",
       "      <td>66</td>\n",
       "    </tr>\n",
       "    <tr>\n",
       "      <td>1</td>\n",
       "      <td>Huang High School</td>\n",
       "      <td>12</td>\n",
       "      <td>94</td>\n",
       "    </tr>\n",
       "    <tr>\n",
       "      <td>2</td>\n",
       "      <td>Huang High School</td>\n",
       "      <td>12</td>\n",
       "      <td>90</td>\n",
       "    </tr>\n",
       "    <tr>\n",
       "      <td>3</td>\n",
       "      <td>Huang High School</td>\n",
       "      <td>12</td>\n",
       "      <td>67</td>\n",
       "    </tr>\n",
       "    <tr>\n",
       "      <td>4</td>\n",
       "      <td>Huang High School</td>\n",
       "      <td>9</td>\n",
       "      <td>97</td>\n",
       "    </tr>\n",
       "  </tbody>\n",
       "</table>\n",
       "</div>"
      ],
      "text/plain": [
       "         school_name  grade  reading_score\n",
       "0  Huang High School      9             66\n",
       "1  Huang High School     12             94\n",
       "2  Huang High School     12             90\n",
       "3  Huang High School     12             67\n",
       "4  Huang High School      9             97"
      ]
     },
     "execution_count": 35,
     "metadata": {},
     "output_type": "execute_result"
    }
   ],
   "source": [
    "reading_score_df = student_df[['school_name','grade','reading_score']]\n",
    "# df.replace({'A': {0: 100, 4: 400}})\n",
    "replace_reading_score = reading_score_df.replace({'grade': {'9th': 9, '10th': 10,'11th':11,'12th':12}})\n",
    "replace_reading_score.head()"
   ]
  },
  {
   "cell_type": "code",
   "execution_count": null,
   "metadata": {},
   "outputs": [],
   "source": []
  },
  {
   "cell_type": "code",
   "execution_count": 36,
   "metadata": {},
   "outputs": [
    {
     "data": {
      "text/html": [
       "<div>\n",
       "<style scoped>\n",
       "    .dataframe tbody tr th:only-of-type {\n",
       "        vertical-align: middle;\n",
       "    }\n",
       "\n",
       "    .dataframe tbody tr th {\n",
       "        vertical-align: top;\n",
       "    }\n",
       "\n",
       "    .dataframe thead th {\n",
       "        text-align: right;\n",
       "    }\n",
       "</style>\n",
       "<table border=\"1\" class=\"dataframe\">\n",
       "  <thead>\n",
       "    <tr style=\"text-align: right;\">\n",
       "      <th>grade</th>\n",
       "      <th>School Name</th>\n",
       "      <th>9</th>\n",
       "      <th>10</th>\n",
       "      <th>11</th>\n",
       "      <th>12</th>\n",
       "    </tr>\n",
       "  </thead>\n",
       "  <tbody>\n",
       "    <tr>\n",
       "      <td>0</td>\n",
       "      <td>Bailey High School</td>\n",
       "      <td>81.303155</td>\n",
       "      <td>80.907183</td>\n",
       "      <td>80.945643</td>\n",
       "      <td>80.912451</td>\n",
       "    </tr>\n",
       "    <tr>\n",
       "      <td>1</td>\n",
       "      <td>Cabrera High School</td>\n",
       "      <td>83.676136</td>\n",
       "      <td>84.253219</td>\n",
       "      <td>83.788382</td>\n",
       "      <td>84.287958</td>\n",
       "    </tr>\n",
       "    <tr>\n",
       "      <td>2</td>\n",
       "      <td>Figueroa High School</td>\n",
       "      <td>81.198598</td>\n",
       "      <td>81.408912</td>\n",
       "      <td>80.640339</td>\n",
       "      <td>81.384863</td>\n",
       "    </tr>\n",
       "    <tr>\n",
       "      <td>3</td>\n",
       "      <td>Ford High School</td>\n",
       "      <td>80.632653</td>\n",
       "      <td>81.262712</td>\n",
       "      <td>80.403642</td>\n",
       "      <td>80.662338</td>\n",
       "    </tr>\n",
       "    <tr>\n",
       "      <td>4</td>\n",
       "      <td>Griffin High School</td>\n",
       "      <td>83.369193</td>\n",
       "      <td>83.706897</td>\n",
       "      <td>84.288089</td>\n",
       "      <td>84.013699</td>\n",
       "    </tr>\n",
       "  </tbody>\n",
       "</table>\n",
       "</div>"
      ],
      "text/plain": [
       "grade           School Name          9         10         11         12\n",
       "0        Bailey High School  81.303155  80.907183  80.945643  80.912451\n",
       "1       Cabrera High School  83.676136  84.253219  83.788382  84.287958\n",
       "2      Figueroa High School  81.198598  81.408912  80.640339  81.384863\n",
       "3          Ford High School  80.632653  81.262712  80.403642  80.662338\n",
       "4       Griffin High School  83.369193  83.706897  84.288089  84.013699"
      ]
     },
     "execution_count": 36,
     "metadata": {},
     "output_type": "execute_result"
    }
   ],
   "source": [
    "pivot_reading = pd.pivot_table(replace_reading_score, \n",
    "                             index='school_name',                             \n",
    "                             columns='grade',\n",
    "                             values='reading_score').reset_index()\n",
    "\n",
    "rename_pivot_reading = pivot_reading.rename(columns ={'school_name':'School Name','9':'9th','10':'10th','11':'11th','12':'12th'})\n",
    "\n",
    "# raname_pivot_reading1 = rename_pivot_reading.rename(columns ={'school_name':'School Name','9':'9th','10':'10th','11':'11th','12':'12th'})\n",
    "\n",
    "# rename_pivot_reading = pivot_reading.rename_axis(index={'school_name':'School Name','9':'9th','10':'10th','11':'11th','12':'12th'})\n",
    "rename_pivot_reading.head()\n",
    "# pivot_reading.style.hide_index()"
   ]
  },
  {
   "cell_type": "markdown",
   "metadata": {},
   "source": [
    "# --Scores by School Spending"
   ]
  },
  {
   "cell_type": "code",
   "execution_count": 37,
   "metadata": {},
   "outputs": [
    {
     "data": {
      "text/plain": [
       "Index(['School Name', 'School Type', 'Total Student', 'Total School Budget',\n",
       "       'Per Student Budget', 'Average Math Score', 'Average Reading Score',\n",
       "       '% Passing Math', '% Passing Reading', '% Overall Passing Rate'],\n",
       "      dtype='object')"
      ]
     },
     "execution_count": 37,
     "metadata": {},
     "output_type": "execute_result"
    }
   ],
   "source": [
    "school_summary_report.columns"
   ]
  },
  {
   "cell_type": "code",
   "execution_count": 41,
   "metadata": {},
   "outputs": [
    {
     "data": {
      "text/html": [
       "<div>\n",
       "<style scoped>\n",
       "    .dataframe tbody tr th:only-of-type {\n",
       "        vertical-align: middle;\n",
       "    }\n",
       "\n",
       "    .dataframe tbody tr th {\n",
       "        vertical-align: top;\n",
       "    }\n",
       "\n",
       "    .dataframe thead th {\n",
       "        text-align: right;\n",
       "    }\n",
       "</style>\n",
       "<table border=\"1\" class=\"dataframe\">\n",
       "  <thead>\n",
       "    <tr style=\"text-align: right;\">\n",
       "      <th></th>\n",
       "      <th>Per Student Budget</th>\n",
       "      <th>Average Math Score</th>\n",
       "      <th>Average Reading Score</th>\n",
       "      <th>% Passing Math</th>\n",
       "      <th>% Passing Reading</th>\n",
       "      <th>% Overall Passing Rate</th>\n",
       "    </tr>\n",
       "  </thead>\n",
       "  <tbody>\n",
       "    <tr>\n",
       "      <td>0</td>\n",
       "      <td>655.00</td>\n",
       "      <td>76.63</td>\n",
       "      <td>81.18</td>\n",
       "      <td>65.68</td>\n",
       "      <td>81.32</td>\n",
       "      <td>73.50</td>\n",
       "    </tr>\n",
       "    <tr>\n",
       "      <td>1</td>\n",
       "      <td>639.00</td>\n",
       "      <td>76.71</td>\n",
       "      <td>81.16</td>\n",
       "      <td>65.99</td>\n",
       "      <td>80.74</td>\n",
       "      <td>73.36</td>\n",
       "    </tr>\n",
       "    <tr>\n",
       "      <td>2</td>\n",
       "      <td>600.00</td>\n",
       "      <td>83.36</td>\n",
       "      <td>83.73</td>\n",
       "      <td>93.87</td>\n",
       "      <td>95.85</td>\n",
       "      <td>94.86</td>\n",
       "    </tr>\n",
       "    <tr>\n",
       "      <td>3</td>\n",
       "      <td>652.00</td>\n",
       "      <td>77.29</td>\n",
       "      <td>80.93</td>\n",
       "      <td>66.75</td>\n",
       "      <td>80.86</td>\n",
       "      <td>73.81</td>\n",
       "    </tr>\n",
       "    <tr>\n",
       "      <td>4</td>\n",
       "      <td>625.00</td>\n",
       "      <td>83.35</td>\n",
       "      <td>83.82</td>\n",
       "      <td>93.39</td>\n",
       "      <td>97.14</td>\n",
       "      <td>95.27</td>\n",
       "    </tr>\n",
       "  </tbody>\n",
       "</table>\n",
       "</div>"
      ],
      "text/plain": [
       "  Per Student Budget  Average Math Score  Average Reading Score  \\\n",
       "0             655.00               76.63                  81.18   \n",
       "1             639.00               76.71                  81.16   \n",
       "2             600.00               83.36                  83.73   \n",
       "3             652.00               77.29                  80.93   \n",
       "4             625.00               83.35                  83.82   \n",
       "\n",
       "  % Passing Math % Passing Reading % Overall Passing Rate  \n",
       "0          65.68             81.32                  73.50  \n",
       "1          65.99             80.74                  73.36  \n",
       "2          93.87             95.85                  94.86  \n",
       "3          66.75             80.86                  73.81  \n",
       "4          93.39             97.14                  95.27  "
      ]
     },
     "execution_count": 41,
     "metadata": {},
     "output_type": "execute_result"
    }
   ],
   "source": [
    "#--Returning a copy using .loc (faster way than returning a view)\n",
    "# dfmi.loc[:, ('one', 'second')]\n",
    "scores_spending_df = school_summary_report.loc[:,('Per Student Budget',\n",
    "                                           'Average Math Score', 'Average Reading Score',\n",
    "                                           '% Passing Math', '% Passing Reading', \n",
    "                                            '% Overall Passing Rate')]\n",
    "scores_spending_df.head()"
   ]
  },
  {
   "cell_type": "code",
   "execution_count": 42,
   "metadata": {},
   "outputs": [],
   "source": [
    "#--pandas.cut\n",
    "# Parameters:\n",
    "#   --right : bool, default True\n",
    "#     Indicates whether bins includes the rightmost edge or not. \n",
    "#     If right == True (the default), then the bins [1, 2, 3, 4] \n",
    "#     indicate (1,2], (2,3], (3,4]. This argument is ignored \n",
    "#     when bins is an IntervalIndex."
   ]
  },
  {
   "cell_type": "code",
   "execution_count": 44,
   "metadata": {},
   "outputs": [],
   "source": [
    "# Create the bins in which Data will be held\n",
    "  \n",
    "bins = [0,585, 615, 645, 675]\n",
    "group_names = ['<585', '585-615', '615-645','645-675']\n",
    "  \n",
    "# bins = [0,586, 616, 646, 675]\n",
    "# # Create the names for the bins\n",
    "# group_names = ['<585', '585-615', '615-645','645-675']"
   ]
  },
  {
   "cell_type": "code",
   "execution_count": 45,
   "metadata": {},
   "outputs": [
    {
     "ename": "TypeError",
     "evalue": "'<' not supported between instances of 'int' and 'str'",
     "output_type": "error",
     "traceback": [
      "\u001b[1;31m---------------------------------------------------------------------------\u001b[0m",
      "\u001b[1;31mTypeError\u001b[0m                                 Traceback (most recent call last)",
      "\u001b[1;32m<ipython-input-45-c64edd81f2fc>\u001b[0m in \u001b[0;36m<module>\u001b[1;34m\u001b[0m\n\u001b[0;32m      1\u001b[0m \u001b[1;31m#--From old one\u001b[0m\u001b[1;33m\u001b[0m\u001b[1;33m\u001b[0m\u001b[1;33m\u001b[0m\u001b[0m\n\u001b[0;32m      2\u001b[0m \u001b[0mscores_spending_bin\u001b[0m \u001b[1;33m=\u001b[0m \u001b[0mscores_spending_df\u001b[0m\u001b[1;33m\u001b[0m\u001b[1;33m\u001b[0m\u001b[0m\n\u001b[1;32m----> 3\u001b[1;33m \u001b[0mscores_spending_bin\u001b[0m\u001b[1;33m[\u001b[0m\u001b[1;34m\"Spending Ranges(Per Student)\"\u001b[0m\u001b[1;33m]\u001b[0m \u001b[1;33m=\u001b[0m \u001b[0mpd\u001b[0m\u001b[1;33m.\u001b[0m\u001b[0mcut\u001b[0m\u001b[1;33m(\u001b[0m\u001b[0mscores_spending_df\u001b[0m\u001b[1;33m[\u001b[0m\u001b[1;34m\"Per Student Budget\"\u001b[0m\u001b[1;33m]\u001b[0m\u001b[1;33m,\u001b[0m \u001b[0mbins\u001b[0m\u001b[1;33m,\u001b[0m \u001b[0mlabels\u001b[0m\u001b[1;33m=\u001b[0m\u001b[0mgroup_names\u001b[0m\u001b[1;33m)\u001b[0m\u001b[1;33m\u001b[0m\u001b[1;33m\u001b[0m\u001b[0m\n\u001b[0m\u001b[0;32m      4\u001b[0m \u001b[1;33m\u001b[0m\u001b[0m\n\u001b[0;32m      5\u001b[0m \u001b[0mscores_spending_bin_report\u001b[0m \u001b[1;33m=\u001b[0m \u001b[0mscores_spending_bin\u001b[0m\u001b[1;33m.\u001b[0m\u001b[0mgroupby\u001b[0m\u001b[1;33m(\u001b[0m\u001b[1;34m'Spending Ranges(Per Student)'\u001b[0m\u001b[1;33m)\u001b[0m\u001b[1;33m\u001b[0m\u001b[1;33m\u001b[0m\u001b[0m\n",
      "\u001b[1;32m~\\Anaconda3\\lib\\site-packages\\pandas\\core\\reshape\\tile.py\u001b[0m in \u001b[0;36mcut\u001b[1;34m(x, bins, right, labels, retbins, precision, include_lowest, duplicates)\u001b[0m\n\u001b[0;32m    268\u001b[0m         \u001b[0minclude_lowest\u001b[0m\u001b[1;33m=\u001b[0m\u001b[0minclude_lowest\u001b[0m\u001b[1;33m,\u001b[0m\u001b[1;33m\u001b[0m\u001b[1;33m\u001b[0m\u001b[0m\n\u001b[0;32m    269\u001b[0m         \u001b[0mdtype\u001b[0m\u001b[1;33m=\u001b[0m\u001b[0mdtype\u001b[0m\u001b[1;33m,\u001b[0m\u001b[1;33m\u001b[0m\u001b[1;33m\u001b[0m\u001b[0m\n\u001b[1;32m--> 270\u001b[1;33m         \u001b[0mduplicates\u001b[0m\u001b[1;33m=\u001b[0m\u001b[0mduplicates\u001b[0m\u001b[1;33m,\u001b[0m\u001b[1;33m\u001b[0m\u001b[1;33m\u001b[0m\u001b[0m\n\u001b[0m\u001b[0;32m    271\u001b[0m     )\n\u001b[0;32m    272\u001b[0m \u001b[1;33m\u001b[0m\u001b[0m\n",
      "\u001b[1;32m~\\Anaconda3\\lib\\site-packages\\pandas\\core\\reshape\\tile.py\u001b[0m in \u001b[0;36m_bins_to_cuts\u001b[1;34m(x, bins, right, labels, precision, include_lowest, dtype, duplicates)\u001b[0m\n\u001b[0;32m    391\u001b[0m \u001b[1;33m\u001b[0m\u001b[0m\n\u001b[0;32m    392\u001b[0m     \u001b[0mside\u001b[0m \u001b[1;33m=\u001b[0m \u001b[1;34m\"left\"\u001b[0m \u001b[1;32mif\u001b[0m \u001b[0mright\u001b[0m \u001b[1;32melse\u001b[0m \u001b[1;34m\"right\"\u001b[0m\u001b[1;33m\u001b[0m\u001b[1;33m\u001b[0m\u001b[0m\n\u001b[1;32m--> 393\u001b[1;33m     \u001b[0mids\u001b[0m \u001b[1;33m=\u001b[0m \u001b[0mensure_int64\u001b[0m\u001b[1;33m(\u001b[0m\u001b[0mbins\u001b[0m\u001b[1;33m.\u001b[0m\u001b[0msearchsorted\u001b[0m\u001b[1;33m(\u001b[0m\u001b[0mx\u001b[0m\u001b[1;33m,\u001b[0m \u001b[0mside\u001b[0m\u001b[1;33m=\u001b[0m\u001b[0mside\u001b[0m\u001b[1;33m)\u001b[0m\u001b[1;33m)\u001b[0m\u001b[1;33m\u001b[0m\u001b[1;33m\u001b[0m\u001b[0m\n\u001b[0m\u001b[0;32m    394\u001b[0m \u001b[1;33m\u001b[0m\u001b[0m\n\u001b[0;32m    395\u001b[0m     \u001b[1;32mif\u001b[0m \u001b[0minclude_lowest\u001b[0m\u001b[1;33m:\u001b[0m\u001b[1;33m\u001b[0m\u001b[1;33m\u001b[0m\u001b[0m\n",
      "\u001b[1;31mTypeError\u001b[0m: '<' not supported between instances of 'int' and 'str'"
     ]
    }
   ],
   "source": [
    "#--From old one\n",
    "scores_spending_bin = scores_spending_df\n",
    "scores_spending_bin[\"Spending Ranges(Per Student)\"] = pd.cut(scores_spending_df[\"Per Student Budget\"], bins, labels=group_names)\n",
    "\n",
    "scores_spending_bin_report = scores_spending_bin.groupby('Spending Ranges(Per Student)')                                             \n",
    "scores_spending_bin_report.max()"
   ]
  },
  {
   "cell_type": "code",
   "execution_count": 46,
   "metadata": {},
   "outputs": [],
   "source": [
    "# scores_spending_bin = scores_spending_df\n",
    "# scores_spending_bin[\"Spending Ranges(Per Student)\"] = pd.cut(scores_spending_bin[\"Per Student Budget\"], bins, \n",
    "#                                                              labels=group_names)\n",
    "# scores_spending_bin_report = scores_spending_bin.groupby('Spending Ranges(Per Student)')\n",
    "# scores_spending_bin_report.max()\n",
    "\n",
    "#--example\n",
    "# scores_schooSize_bin = scores_schoolSize_df\n",
    "# scores_schooSize_bin[\"School Size\"] = pd.cut(scores_schooSize_bin[\"Total Student\"], bins, labels=group_names)\n",
    "\n",
    "# scores_schooSize_bin_report = scores_schooSize_bin.groupby('School Size')\n",
    "# scores_schooSize_bin_report.max()\n",
    "#--\n",
    "\n",
    "\n",
    "\n",
    "# scores_spending_bin_report = scores_spending_bin.groupby('Spending Ranges(Per Student)')\n",
    "# scores_spending_bin = scores_spending_df\n",
    "# scores_spending_bin[\"Spending Ranges(Per Student)\"] = pd.cut(scores_spending_df[\"Per Student Budget\"], bins, labels=group_names)\n",
    "\n",
    "\n",
    "\n",
    "# scores_spending_bin_report.reset_index()\n",
    "# scores_spending_bin_report = scores_spending_bin.loc[['Spending Ranges(Per Student)','Average Math Score', 'Average Reading Score',\n",
    "#                                            '% Passing Math', '% Passing Reading', \n",
    "#                                             '% Overall Passing Rate']]\n",
    "\n",
    "\n",
    "\n"
   ]
  },
  {
   "cell_type": "markdown",
   "metadata": {},
   "source": [
    "# --Scores by School Size\n"
   ]
  },
  {
   "cell_type": "code",
   "execution_count": 47,
   "metadata": {},
   "outputs": [],
   "source": [
    "# size_bins = [0, 1000, 2000, 5000]\n",
    "# group_names = [\"Small (<1000)\", \"Medium (1000-2000)\", \"Large (2000-5000)\"]"
   ]
  },
  {
   "cell_type": "code",
   "execution_count": 48,
   "metadata": {},
   "outputs": [],
   "source": [
    "# school_summary_report.columns"
   ]
  },
  {
   "cell_type": "code",
   "execution_count": 49,
   "metadata": {},
   "outputs": [],
   "source": [
    "# school_summary_report[\"Total Student\"]"
   ]
  },
  {
   "cell_type": "code",
   "execution_count": 50,
   "metadata": {},
   "outputs": [],
   "source": [
    "#--Returning a copy using .loc (faster way than returning a view)\n",
    "# dfmi.loc[:, ('one', 'second')]\n",
    "scores_schoolSize_df = school_summary_report.loc[:,('Total Student',\n",
    "                                           'Average Math Score', 'Average Reading Score',\n",
    "                                           '% Passing Math', '% Passing Reading', \n",
    "                                            '% Overall Passing Rate')]\n",
    "# scores_schoolSize_df.head(16)"
   ]
  },
  {
   "cell_type": "code",
   "execution_count": 51,
   "metadata": {},
   "outputs": [],
   "source": [
    "#--Alternative --Warning message--\n",
    "# scores_schoolSize_df = school_summary_report[['Total Student',\n",
    "#                                            'Average Math Score', 'Average Reading Score',\n",
    "#                                            '% Passing Math', '% Passing Reading', \n",
    "#                                             '% Overall Passing Rate']]\n",
    "# scores_schoolSize_df.head()"
   ]
  },
  {
   "cell_type": "code",
   "execution_count": 52,
   "metadata": {},
   "outputs": [],
   "source": [
    "# Create the bins in which Data will be held\n",
    "bins = [0,1000, 2001, 5001]\n",
    "# Create the names for the bins\n",
    "group_names = ['Small (<1000)', 'Medium (1000-2000)', 'Large (2000-5000)']"
   ]
  },
  {
   "cell_type": "code",
   "execution_count": 53,
   "metadata": {},
   "outputs": [
    {
     "data": {
      "text/html": [
       "<div>\n",
       "<style scoped>\n",
       "    .dataframe tbody tr th:only-of-type {\n",
       "        vertical-align: middle;\n",
       "    }\n",
       "\n",
       "    .dataframe tbody tr th {\n",
       "        vertical-align: top;\n",
       "    }\n",
       "\n",
       "    .dataframe thead th {\n",
       "        text-align: right;\n",
       "    }\n",
       "</style>\n",
       "<table border=\"1\" class=\"dataframe\">\n",
       "  <thead>\n",
       "    <tr style=\"text-align: right;\">\n",
       "      <th></th>\n",
       "      <th>Total Student</th>\n",
       "      <th>Average Math Score</th>\n",
       "      <th>Average Reading Score</th>\n",
       "      <th>% Passing Math</th>\n",
       "      <th>% Passing Reading</th>\n",
       "      <th>% Overall Passing Rate</th>\n",
       "    </tr>\n",
       "    <tr>\n",
       "      <th>School Size</th>\n",
       "      <th></th>\n",
       "      <th></th>\n",
       "      <th></th>\n",
       "      <th></th>\n",
       "      <th></th>\n",
       "      <th></th>\n",
       "    </tr>\n",
       "  </thead>\n",
       "  <tbody>\n",
       "    <tr>\n",
       "      <td>Small (&lt;1000)</td>\n",
       "      <td>962</td>\n",
       "      <td>83.84</td>\n",
       "      <td>84.04</td>\n",
       "      <td>94.59</td>\n",
       "      <td>96.25</td>\n",
       "      <td>95.27</td>\n",
       "    </tr>\n",
       "    <tr>\n",
       "      <td>Medium (1000-2000)</td>\n",
       "      <td>1858</td>\n",
       "      <td>83.68</td>\n",
       "      <td>83.98</td>\n",
       "      <td>94.13</td>\n",
       "      <td>97.31</td>\n",
       "      <td>95.59</td>\n",
       "    </tr>\n",
       "    <tr>\n",
       "      <td>Large (2000-5000)</td>\n",
       "      <td>4976</td>\n",
       "      <td>83.27</td>\n",
       "      <td>83.99</td>\n",
       "      <td>93.87</td>\n",
       "      <td>96.54</td>\n",
       "      <td>95.20</td>\n",
       "    </tr>\n",
       "  </tbody>\n",
       "</table>\n",
       "</div>"
      ],
      "text/plain": [
       "                    Total Student  Average Math Score  Average Reading Score  \\\n",
       "School Size                                                                    \n",
       "Small (<1000)                 962               83.84                  84.04   \n",
       "Medium (1000-2000)           1858               83.68                  83.98   \n",
       "Large (2000-5000)            4976               83.27                  83.99   \n",
       "\n",
       "                   % Passing Math % Passing Reading % Overall Passing Rate  \n",
       "School Size                                                                 \n",
       "Small (<1000)               94.59             96.25                  95.27  \n",
       "Medium (1000-2000)          94.13             97.31                  95.59  \n",
       "Large (2000-5000)           93.87             96.54                  95.20  "
      ]
     },
     "execution_count": 53,
     "metadata": {},
     "output_type": "execute_result"
    }
   ],
   "source": [
    "scores_schooSize_bin = scores_schoolSize_df\n",
    "scores_schooSize_bin[\"School Size\"] = pd.cut(scores_schooSize_bin[\"Total Student\"], bins, labels=group_names)\n",
    "\n",
    "scores_schooSize_bin_report = scores_schooSize_bin.groupby('School Size')\n",
    "scores_schooSize_bin_report.max()"
   ]
  },
  {
   "cell_type": "markdown",
   "metadata": {},
   "source": [
    "# --Scores by School Type"
   ]
  },
  {
   "cell_type": "code",
   "execution_count": 54,
   "metadata": {},
   "outputs": [
    {
     "data": {
      "text/plain": [
       "Index(['School Name', 'School Type', 'Total Student', 'Total School Budget',\n",
       "       'Per Student Budget', 'Average Math Score', 'Average Reading Score',\n",
       "       '% Passing Math', '% Passing Reading', '% Overall Passing Rate'],\n",
       "      dtype='object')"
      ]
     },
     "execution_count": 54,
     "metadata": {},
     "output_type": "execute_result"
    }
   ],
   "source": [
    "school_summary_report.columns"
   ]
  },
  {
   "cell_type": "code",
   "execution_count": 55,
   "metadata": {},
   "outputs": [
    {
     "data": {
      "text/html": [
       "<div>\n",
       "<style scoped>\n",
       "    .dataframe tbody tr th:only-of-type {\n",
       "        vertical-align: middle;\n",
       "    }\n",
       "\n",
       "    .dataframe tbody tr th {\n",
       "        vertical-align: top;\n",
       "    }\n",
       "\n",
       "    .dataframe thead th {\n",
       "        text-align: right;\n",
       "    }\n",
       "</style>\n",
       "<table border=\"1\" class=\"dataframe\">\n",
       "  <thead>\n",
       "    <tr style=\"text-align: right;\">\n",
       "      <th></th>\n",
       "      <th>Average Math Score</th>\n",
       "      <th>Average Reading Score</th>\n",
       "    </tr>\n",
       "    <tr>\n",
       "      <th>School Type</th>\n",
       "      <th></th>\n",
       "      <th></th>\n",
       "    </tr>\n",
       "  </thead>\n",
       "  <tbody>\n",
       "    <tr>\n",
       "      <td>Charter</td>\n",
       "      <td>83.472500</td>\n",
       "      <td>83.897500</td>\n",
       "    </tr>\n",
       "    <tr>\n",
       "      <td>District</td>\n",
       "      <td>76.955714</td>\n",
       "      <td>80.965714</td>\n",
       "    </tr>\n",
       "  </tbody>\n",
       "</table>\n",
       "</div>"
      ],
      "text/plain": [
       "             Average Math Score  Average Reading Score\n",
       "School Type                                           \n",
       "Charter               83.472500              83.897500\n",
       "District              76.955714              80.965714"
      ]
     },
     "execution_count": 55,
     "metadata": {},
     "output_type": "execute_result"
    }
   ],
   "source": [
    "score_school_type = school_summary_report.loc[:,('School Type','Average Math Score', 'Average Reading Score',\n",
    "       '% Passing Math', '% Passing Reading', '% Overall Passing Rate')]\n",
    "\n",
    "groupby_school_type = score_school_type.groupby('School Type').mean()\n",
    "groupby_school_type.head()\n",
    "\n",
    "# score_school_type.head()\n",
    "# df.groupby(['col2','col3'], as_index=False).sum()\n",
    "# groupby_school_type.reset_index()\n",
    "\n",
    "\n",
    "\n"
   ]
  },
  {
   "cell_type": "code",
   "execution_count": null,
   "metadata": {},
   "outputs": [],
   "source": []
  },
  {
   "cell_type": "code",
   "execution_count": null,
   "metadata": {},
   "outputs": [],
   "source": []
  },
  {
   "cell_type": "code",
   "execution_count": null,
   "metadata": {},
   "outputs": [],
   "source": []
  },
  {
   "cell_type": "code",
   "execution_count": null,
   "metadata": {},
   "outputs": [],
   "source": []
  },
  {
   "cell_type": "code",
   "execution_count": null,
   "metadata": {},
   "outputs": [],
   "source": []
  }
 ],
 "metadata": {
  "kernelspec": {
   "display_name": "Python 3",
   "language": "python",
   "name": "python3"
  },
  "language_info": {
   "codemirror_mode": {
    "name": "ipython",
    "version": 3
   },
   "file_extension": ".py",
   "mimetype": "text/x-python",
   "name": "python",
   "nbconvert_exporter": "python",
   "pygments_lexer": "ipython3",
   "version": "3.7.4"
  }
 },
 "nbformat": 4,
 "nbformat_minor": 2
}
