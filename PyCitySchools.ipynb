{
 "cells": [
  {
   "cell_type": "code",
   "execution_count": 128,
   "metadata": {},
   "outputs": [],
   "source": [
    "#--Dependencies and Setup\n",
    "import pandas as pd\n",
    "import numpy as np"
   ]
  },
  {
   "cell_type": "markdown",
   "metadata": {},
   "source": [
    "Delete line 10, 41"
   ]
  },
  {
   "cell_type": "code",
   "execution_count": 129,
   "metadata": {},
   "outputs": [],
   "source": [
    "#--Point to csv files\n",
    "school_path = \"Resources/schools_complete.csv\"\n",
    "student_path = \"Resources/students_complete.csv\""
   ]
  },
  {
   "cell_type": "code",
   "execution_count": 130,
   "metadata": {},
   "outputs": [],
   "source": [
    "#--Read data and store in dataframe\n",
    "school_df = pd.read_csv(school_path)\n",
    "student_df = pd.read_csv(student_path)\n"
   ]
  },
  {
   "cell_type": "code",
   "execution_count": 131,
   "metadata": {},
   "outputs": [
    {
     "ename": "NameError",
     "evalue": "name 'school_total' is not defined",
     "output_type": "error",
     "traceback": [
      "\u001b[1;31m---------------------------------------------------------------------------\u001b[0m",
      "\u001b[1;31mNameError\u001b[0m                                 Traceback (most recent call last)",
      "\u001b[1;32m<ipython-input-131-12acc1f87d1c>\u001b[0m in \u001b[0;36m<module>\u001b[1;34m\u001b[0m\n\u001b[0;32m      1\u001b[0m \u001b[1;31m#--District Summary Variables\u001b[0m\u001b[1;33m\u001b[0m\u001b[1;33m\u001b[0m\u001b[1;33m\u001b[0m\u001b[0m\n\u001b[1;32m----> 2\u001b[1;33m \u001b[0mschool_total\u001b[0m\u001b[1;33m\u001b[0m\u001b[1;33m\u001b[0m\u001b[0m\n\u001b[0m\u001b[0;32m      3\u001b[0m \u001b[0mstudents_total\u001b[0m\u001b[1;33m\u001b[0m\u001b[1;33m\u001b[0m\u001b[0m\n\u001b[0;32m      4\u001b[0m \u001b[0mbudget_total\u001b[0m\u001b[1;33m\u001b[0m\u001b[1;33m\u001b[0m\u001b[0m\n\u001b[0;32m      5\u001b[0m \u001b[0mmath_avg\u001b[0m\u001b[1;33m\u001b[0m\u001b[1;33m\u001b[0m\u001b[0m\n",
      "\u001b[1;31mNameError\u001b[0m: name 'school_total' is not defined"
     ]
    }
   ],
   "source": [
    "#--District Summary Variables\n",
    "school_total\n",
    "students_total\n",
    "budget_total\n",
    "math_avg\n",
    "reading_avg\n",
    "overall_avg\n",
    "student_math70_greater\n",
    "student_reading70_greater\n",
    "student_math70_greater_count\n",
    "student_reading70_greater_count\n",
    "student_overall_70greater\n",
    "student_overall_70greater_count\n",
    "percent_pass_math\n",
    "percent_pass_reading\n",
    "percent_pass_overall\n",
    "#--School Summary Variables"
   ]
  },
  {
   "cell_type": "code",
   "execution_count": 132,
   "metadata": {},
   "outputs": [
    {
     "data": {
      "text/plain": [
       "(15, 5)"
      ]
     },
     "execution_count": 132,
     "metadata": {},
     "output_type": "execute_result"
    }
   ],
   "source": [
    "#--Check number of rows and columns\n",
    "school_df.shape"
   ]
  },
  {
   "cell_type": "code",
   "execution_count": 133,
   "metadata": {},
   "outputs": [
    {
     "data": {
      "text/plain": [
       "School ID      15\n",
       "school_name    15\n",
       "type           15\n",
       "size           15\n",
       "budget         15\n",
       "dtype: int64"
      ]
     },
     "execution_count": 133,
     "metadata": {},
     "output_type": "execute_result"
    }
   ],
   "source": [
    "#--Check missin data (if some rows is missing)\n",
    "school_df.count()"
   ]
  },
  {
   "cell_type": "code",
   "execution_count": 134,
   "metadata": {},
   "outputs": [
    {
     "data": {
      "text/plain": [
       "(39170, 7)"
      ]
     },
     "execution_count": 134,
     "metadata": {},
     "output_type": "execute_result"
    }
   ],
   "source": [
    "#--Check number of rows and columns\n",
    "student_df.shape\n"
   ]
  },
  {
   "cell_type": "code",
   "execution_count": 135,
   "metadata": {},
   "outputs": [
    {
     "data": {
      "text/plain": [
       "Student ID       39170\n",
       "student_name     39170\n",
       "gender           39170\n",
       "grade            39170\n",
       "school_name      39170\n",
       "reading_score    39170\n",
       "math_score       39170\n",
       "dtype: int64"
      ]
     },
     "execution_count": 135,
     "metadata": {},
     "output_type": "execute_result"
    }
   ],
   "source": [
    "#--Check missin data (if some rows is missing)\n",
    "student_df.count()"
   ]
  },
  {
   "cell_type": "markdown",
   "metadata": {},
   "source": [
    "# --District Summary--##"
   ]
  },
  {
   "cell_type": "code",
   "execution_count": 136,
   "metadata": {},
   "outputs": [
    {
     "data": {
      "text/plain": [
       "15"
      ]
     },
     "execution_count": 136,
     "metadata": {},
     "output_type": "execute_result"
    }
   ],
   "source": [
    "schools_total = school_df[\"school_name\"].count()\n",
    "schools_total"
   ]
  },
  {
   "cell_type": "code",
   "execution_count": 137,
   "metadata": {},
   "outputs": [
    {
     "data": {
      "text/plain": [
       "39170"
      ]
     },
     "execution_count": 137,
     "metadata": {},
     "output_type": "execute_result"
    }
   ],
   "source": [
    "students_total = student_df[\"student_name\"].count()\n",
    "students_total"
   ]
  },
  {
   "cell_type": "code",
   "execution_count": 138,
   "metadata": {},
   "outputs": [
    {
     "data": {
      "text/plain": [
       "24649428"
      ]
     },
     "execution_count": 138,
     "metadata": {},
     "output_type": "execute_result"
    }
   ],
   "source": [
    "budget_total = school_df[\"budget\"].sum()\n",
    "budget_total"
   ]
  },
  {
   "cell_type": "code",
   "execution_count": 139,
   "metadata": {},
   "outputs": [
    {
     "data": {
      "text/plain": [
       "78.98537145774827"
      ]
     },
     "execution_count": 139,
     "metadata": {},
     "output_type": "execute_result"
    }
   ],
   "source": [
    "math_avg = student_df[\"math_score\"].mean()\n",
    "math_avg"
   ]
  },
  {
   "cell_type": "code",
   "execution_count": 140,
   "metadata": {},
   "outputs": [
    {
     "data": {
      "text/plain": [
       "81.87784018381414"
      ]
     },
     "execution_count": 140,
     "metadata": {},
     "output_type": "execute_result"
    }
   ],
   "source": [
    "reading_avg = student_df[\"reading_score\"].mean()\n",
    "reading_avg"
   ]
  },
  {
   "cell_type": "code",
   "execution_count": 141,
   "metadata": {},
   "outputs": [
    {
     "data": {
      "text/plain": [
       "80.43160582078121"
      ]
     },
     "execution_count": 141,
     "metadata": {},
     "output_type": "execute_result"
    }
   ],
   "source": [
    "overall_avg = (math_avg + reading_avg)/2\n",
    "overall_avg"
   ]
  },
  {
   "cell_type": "code",
   "execution_count": 142,
   "metadata": {},
   "outputs": [
    {
     "data": {
      "text/plain": [
       "29370"
      ]
     },
     "execution_count": 142,
     "metadata": {},
     "output_type": "execute_result"
    }
   ],
   "source": [
    "student_math70_greater = student_df.loc[student_df[\"math_score\"]>=70]\n",
    "student_math70_greater_count = student_math70_greater[\"Student ID\"].count()\n",
    "student_math70_greater_count"
   ]
  },
  {
   "cell_type": "code",
   "execution_count": 143,
   "metadata": {},
   "outputs": [
    {
     "data": {
      "text/plain": [
       "74.9808526933878"
      ]
     },
     "execution_count": 143,
     "metadata": {},
     "output_type": "execute_result"
    }
   ],
   "source": [
    "percent_pass_math = (student_math70_greater_count/students_total)*100\n",
    "percent_pass_math"
   ]
  },
  {
   "cell_type": "code",
   "execution_count": 144,
   "metadata": {},
   "outputs": [
    {
     "data": {
      "text/plain": [
       "33610"
      ]
     },
     "execution_count": 144,
     "metadata": {},
     "output_type": "execute_result"
    }
   ],
   "source": [
    "student_reading70_greater = student_df.loc[student_df[\"reading_score\"]>=70]\n",
    "student_reading70_greater_count = student_reading70_greater[\"Student ID\"].count()\n",
    "student_reading70_greater_count\n"
   ]
  },
  {
   "cell_type": "code",
   "execution_count": 145,
   "metadata": {},
   "outputs": [
    {
     "data": {
      "text/plain": [
       "85.80546336482001"
      ]
     },
     "execution_count": 145,
     "metadata": {},
     "output_type": "execute_result"
    }
   ],
   "source": [
    "percent_pass_reading = (student_reading70_greater_count/students_total)*100\n",
    "percent_pass_reading"
   ]
  },
  {
   "cell_type": "code",
   "execution_count": 146,
   "metadata": {},
   "outputs": [
    {
     "data": {
      "text/plain": [
       "25528"
      ]
     },
     "execution_count": 146,
     "metadata": {},
     "output_type": "execute_result"
    }
   ],
   "source": [
    "student_overall_70greater = student_df.loc[(student_df[\"math_score\"]>=70) & (student_df[\"reading_score\"]>=70)]\n",
    "student_overall_70greater_count = student_overall_70greater[\"Student ID\"].count()\n",
    "student_overall_70greater_count"
   ]
  },
  {
   "cell_type": "code",
   "execution_count": 147,
   "metadata": {},
   "outputs": [
    {
     "data": {
      "text/plain": [
       "65.17232575950983"
      ]
     },
     "execution_count": 147,
     "metadata": {},
     "output_type": "execute_result"
    }
   ],
   "source": [
    "#--calculate using | result = 95% using & result = 65%\n",
    "percent_pass_overall = (student_overall_70greater_count/students_total)*100\n",
    "percent_pass_overall"
   ]
  },
  {
   "cell_type": "code",
   "execution_count": 148,
   "metadata": {},
   "outputs": [
    {
     "data": {
      "text/html": [
       "<div>\n",
       "<style scoped>\n",
       "    .dataframe tbody tr th:only-of-type {\n",
       "        vertical-align: middle;\n",
       "    }\n",
       "\n",
       "    .dataframe tbody tr th {\n",
       "        vertical-align: top;\n",
       "    }\n",
       "\n",
       "    .dataframe thead th {\n",
       "        text-align: right;\n",
       "    }\n",
       "</style>\n",
       "<table border=\"1\" class=\"dataframe\">\n",
       "  <thead>\n",
       "    <tr style=\"text-align: right;\">\n",
       "      <th></th>\n",
       "      <th>Total Schools</th>\n",
       "      <th>Total Students</th>\n",
       "      <th>Total Budget</th>\n",
       "      <th>Average Math Score</th>\n",
       "      <th>Average Reading Score</th>\n",
       "      <th>% Passing Math</th>\n",
       "      <th>% Passing Reading</th>\n",
       "      <th>% Overall Passing Rate</th>\n",
       "    </tr>\n",
       "  </thead>\n",
       "  <tbody>\n",
       "    <tr>\n",
       "      <td>0</td>\n",
       "      <td>15</td>\n",
       "      <td>39170</td>\n",
       "      <td>24649428</td>\n",
       "      <td>78.985371</td>\n",
       "      <td>81.87784</td>\n",
       "      <td>74.980853</td>\n",
       "      <td>85.805463</td>\n",
       "      <td>80.431606</td>\n",
       "    </tr>\n",
       "  </tbody>\n",
       "</table>\n",
       "</div>"
      ],
      "text/plain": [
       "   Total Schools  Total Students  Total Budget  Average Math Score  \\\n",
       "0             15           39170      24649428           78.985371   \n",
       "\n",
       "   Average Reading Score  % Passing Math  % Passing Reading  \\\n",
       "0               81.87784       74.980853          85.805463   \n",
       "\n",
       "   % Overall Passing Rate  \n",
       "0               80.431606  "
      ]
     },
     "execution_count": 148,
     "metadata": {},
     "output_type": "execute_result"
    }
   ],
   "source": [
    "#--Create Dataframe from variables\n",
    "\n",
    "district_summary = {\n",
    "                \"Total Schools\" : [schools_total],\n",
    "                \"Total Students\": [students_total],\n",
    "                \"Total Budget\" : [budget_total],\n",
    "                \"Average Math Score\" : [math_avg],\n",
    "                \"Average Reading Score\" :[reading_avg],\n",
    "                \"% Passing Math\" : [percent_pass_math],\n",
    "                \"% Passing Reading\": [percent_pass_reading],\n",
    "                \"% Overall Passing Rate\" : [overall_avg]\n",
    "                }\n",
    "pd.DataFrame.from_dict(district_summary)"
   ]
  },
  {
   "cell_type": "markdown",
   "metadata": {},
   "source": [
    "# --School Summary--##"
   ]
  },
  {
   "cell_type": "code",
   "execution_count": 149,
   "metadata": {},
   "outputs": [],
   "source": [
    "# #--Combine school_df and student_df\n",
    "# school_summary = pd.merge(school_df, student_df, how = \"left\", on=[\"school_name\",\"school_name\"])\n",
    "# school_summary.head(14)"
   ]
  },
  {
   "cell_type": "code",
   "execution_count": 150,
   "metadata": {},
   "outputs": [],
   "source": [
    "#--Show merging dataframe index\n",
    "# school_summary.columns\n"
   ]
  },
  {
   "cell_type": "code",
   "execution_count": 151,
   "metadata": {},
   "outputs": [
    {
     "data": {
      "text/html": [
       "<div>\n",
       "<style scoped>\n",
       "    .dataframe tbody tr th:only-of-type {\n",
       "        vertical-align: middle;\n",
       "    }\n",
       "\n",
       "    .dataframe tbody tr th {\n",
       "        vertical-align: top;\n",
       "    }\n",
       "\n",
       "    .dataframe thead th {\n",
       "        text-align: right;\n",
       "    }\n",
       "</style>\n",
       "<table border=\"1\" class=\"dataframe\">\n",
       "  <thead>\n",
       "    <tr style=\"text-align: right;\">\n",
       "      <th></th>\n",
       "      <th>Student ID</th>\n",
       "      <th>student_name</th>\n",
       "      <th>gender</th>\n",
       "      <th>grade</th>\n",
       "      <th>school_name</th>\n",
       "      <th>reading_score</th>\n",
       "      <th>math_score</th>\n",
       "    </tr>\n",
       "  </thead>\n",
       "  <tbody>\n",
       "    <tr>\n",
       "      <td>0</td>\n",
       "      <td>0</td>\n",
       "      <td>Paul Bradley</td>\n",
       "      <td>M</td>\n",
       "      <td>9th</td>\n",
       "      <td>Huang High School</td>\n",
       "      <td>66</td>\n",
       "      <td>79</td>\n",
       "    </tr>\n",
       "    <tr>\n",
       "      <td>1</td>\n",
       "      <td>1</td>\n",
       "      <td>Victor Smith</td>\n",
       "      <td>M</td>\n",
       "      <td>12th</td>\n",
       "      <td>Huang High School</td>\n",
       "      <td>94</td>\n",
       "      <td>61</td>\n",
       "    </tr>\n",
       "    <tr>\n",
       "      <td>2</td>\n",
       "      <td>2</td>\n",
       "      <td>Kevin Rodriguez</td>\n",
       "      <td>M</td>\n",
       "      <td>12th</td>\n",
       "      <td>Huang High School</td>\n",
       "      <td>90</td>\n",
       "      <td>60</td>\n",
       "    </tr>\n",
       "    <tr>\n",
       "      <td>3</td>\n",
       "      <td>3</td>\n",
       "      <td>Dr. Richard Scott</td>\n",
       "      <td>M</td>\n",
       "      <td>12th</td>\n",
       "      <td>Huang High School</td>\n",
       "      <td>67</td>\n",
       "      <td>58</td>\n",
       "    </tr>\n",
       "    <tr>\n",
       "      <td>4</td>\n",
       "      <td>4</td>\n",
       "      <td>Bonnie Ray</td>\n",
       "      <td>F</td>\n",
       "      <td>9th</td>\n",
       "      <td>Huang High School</td>\n",
       "      <td>97</td>\n",
       "      <td>84</td>\n",
       "    </tr>\n",
       "  </tbody>\n",
       "</table>\n",
       "</div>"
      ],
      "text/plain": [
       "   Student ID       student_name gender grade        school_name  \\\n",
       "0           0       Paul Bradley      M   9th  Huang High School   \n",
       "1           1       Victor Smith      M  12th  Huang High School   \n",
       "2           2    Kevin Rodriguez      M  12th  Huang High School   \n",
       "3           3  Dr. Richard Scott      M  12th  Huang High School   \n",
       "4           4         Bonnie Ray      F   9th  Huang High School   \n",
       "\n",
       "   reading_score  math_score  \n",
       "0             66          79  \n",
       "1             94          61  \n",
       "2             90          60  \n",
       "3             67          58  \n",
       "4             97          84  "
      ]
     },
     "execution_count": 151,
     "metadata": {},
     "output_type": "execute_result"
    }
   ],
   "source": [
    "student_df.head()\n"
   ]
  },
  {
   "cell_type": "code",
   "execution_count": 152,
   "metadata": {},
   "outputs": [],
   "source": [
    "#--Adding new data using conditions\n",
    "# reading_math_pass.loc[(reading_math_pass[\"reading_score\"] >= 70) & (reading_math_pass[\"math_score\"] >= 70), \"overall\"] = 1\n",
    "# reading_math_pass.loc[(reading_math_pass[\"reading_score\"] < 70) & (reading_math_pass[\"math_score\"] < 70), \"overall\"] = 0\n",
    "# reading_math_pass.loc[reading_math_pass[\"reading_score\"] >= 70, \"reading_pass\"] = 1\n",
    "# reading_math_pass.loc[reading_math_pass[\"reading_score\"] < 70, \"reading_pass\"] = 0\n",
    "# reading_math_pass.loc[reading_math_pass[\"math_score\"] >= 70, \"math_pass\"] = 1\n",
    "# reading_math_pass.loc[reading_math_pass[\"math_score\"] < 70, \"math_pass\"] = 0\n",
    "# reading_math_pass.loc[reading_math_pass[\"student_name\"] != \"\",\"student\"] = 1\n",
    "\n",
    "# reading_math_pass.head()\n"
   ]
  },
  {
   "cell_type": "code",
   "execution_count": 153,
   "metadata": {},
   "outputs": [
    {
     "data": {
      "text/html": [
       "<div>\n",
       "<style scoped>\n",
       "    .dataframe tbody tr th:only-of-type {\n",
       "        vertical-align: middle;\n",
       "    }\n",
       "\n",
       "    .dataframe tbody tr th {\n",
       "        vertical-align: top;\n",
       "    }\n",
       "\n",
       "    .dataframe thead th {\n",
       "        text-align: right;\n",
       "    }\n",
       "</style>\n",
       "<table border=\"1\" class=\"dataframe\">\n",
       "  <thead>\n",
       "    <tr style=\"text-align: right;\">\n",
       "      <th></th>\n",
       "      <th>school_name</th>\n",
       "      <th>student_name</th>\n",
       "      <th>reading_score</th>\n",
       "      <th>math_score</th>\n",
       "    </tr>\n",
       "  </thead>\n",
       "  <tbody>\n",
       "    <tr>\n",
       "      <td>0</td>\n",
       "      <td>Huang High School</td>\n",
       "      <td>Paul Bradley</td>\n",
       "      <td>66</td>\n",
       "      <td>79</td>\n",
       "    </tr>\n",
       "    <tr>\n",
       "      <td>1</td>\n",
       "      <td>Huang High School</td>\n",
       "      <td>Victor Smith</td>\n",
       "      <td>94</td>\n",
       "      <td>61</td>\n",
       "    </tr>\n",
       "    <tr>\n",
       "      <td>2</td>\n",
       "      <td>Huang High School</td>\n",
       "      <td>Kevin Rodriguez</td>\n",
       "      <td>90</td>\n",
       "      <td>60</td>\n",
       "    </tr>\n",
       "    <tr>\n",
       "      <td>3</td>\n",
       "      <td>Huang High School</td>\n",
       "      <td>Dr. Richard Scott</td>\n",
       "      <td>67</td>\n",
       "      <td>58</td>\n",
       "    </tr>\n",
       "    <tr>\n",
       "      <td>4</td>\n",
       "      <td>Huang High School</td>\n",
       "      <td>Bonnie Ray</td>\n",
       "      <td>97</td>\n",
       "      <td>84</td>\n",
       "    </tr>\n",
       "  </tbody>\n",
       "</table>\n",
       "</div>"
      ],
      "text/plain": [
       "         school_name       student_name  reading_score  math_score\n",
       "0  Huang High School       Paul Bradley             66          79\n",
       "1  Huang High School       Victor Smith             94          61\n",
       "2  Huang High School    Kevin Rodriguez             90          60\n",
       "3  Huang High School  Dr. Richard Scott             67          58\n",
       "4  Huang High School         Bonnie Ray             97          84"
      ]
     },
     "execution_count": 153,
     "metadata": {},
     "output_type": "execute_result"
    }
   ],
   "source": [
    "school_sum = student_df[['school_name','student_name','reading_score','math_score']]\n",
    "school_sum.head()\n",
    "# overall = (school_sum_df['reading_score']) / 2\n",
    "# school_sum_df['overall'] = overall"
   ]
  },
  {
   "cell_type": "code",
   "execution_count": 154,
   "metadata": {},
   "outputs": [],
   "source": [
    "school_sum.loc[school_sum[\"reading_score\"] >= 70, \"reading_pass\"] = 1\n",
    "school_sum.loc[school_sum[\"reading_score\"] < 70, \"reading_pass\"] = 0\n",
    "school_sum.loc[school_sum[\"math_score\"] >= 70, \"math_pass\"] = 1\n",
    "school_sum.loc[school_sum[\"math_score\"] < 70, \"math_pass\"] = 0"
   ]
  },
  {
   "cell_type": "code",
   "execution_count": 155,
   "metadata": {},
   "outputs": [
    {
     "data": {
      "text/html": [
       "<div>\n",
       "<style scoped>\n",
       "    .dataframe tbody tr th:only-of-type {\n",
       "        vertical-align: middle;\n",
       "    }\n",
       "\n",
       "    .dataframe tbody tr th {\n",
       "        vertical-align: top;\n",
       "    }\n",
       "\n",
       "    .dataframe thead th {\n",
       "        text-align: right;\n",
       "    }\n",
       "</style>\n",
       "<table border=\"1\" class=\"dataframe\">\n",
       "  <thead>\n",
       "    <tr style=\"text-align: right;\">\n",
       "      <th></th>\n",
       "      <th>reading_score</th>\n",
       "      <th>math_score</th>\n",
       "      <th>reading_pass</th>\n",
       "      <th>math_pass</th>\n",
       "    </tr>\n",
       "  </thead>\n",
       "  <tbody>\n",
       "    <tr>\n",
       "      <td>count</td>\n",
       "      <td>39170.00000</td>\n",
       "      <td>39170.000000</td>\n",
       "      <td>39170.000000</td>\n",
       "      <td>39170.000000</td>\n",
       "    </tr>\n",
       "    <tr>\n",
       "      <td>mean</td>\n",
       "      <td>81.87784</td>\n",
       "      <td>78.985371</td>\n",
       "      <td>0.858055</td>\n",
       "      <td>0.749809</td>\n",
       "    </tr>\n",
       "    <tr>\n",
       "      <td>std</td>\n",
       "      <td>10.23958</td>\n",
       "      <td>12.309968</td>\n",
       "      <td>0.348999</td>\n",
       "      <td>0.433129</td>\n",
       "    </tr>\n",
       "    <tr>\n",
       "      <td>min</td>\n",
       "      <td>63.00000</td>\n",
       "      <td>55.000000</td>\n",
       "      <td>0.000000</td>\n",
       "      <td>0.000000</td>\n",
       "    </tr>\n",
       "    <tr>\n",
       "      <td>25%</td>\n",
       "      <td>73.00000</td>\n",
       "      <td>69.000000</td>\n",
       "      <td>1.000000</td>\n",
       "      <td>0.000000</td>\n",
       "    </tr>\n",
       "    <tr>\n",
       "      <td>50%</td>\n",
       "      <td>82.00000</td>\n",
       "      <td>79.000000</td>\n",
       "      <td>1.000000</td>\n",
       "      <td>1.000000</td>\n",
       "    </tr>\n",
       "    <tr>\n",
       "      <td>75%</td>\n",
       "      <td>91.00000</td>\n",
       "      <td>89.000000</td>\n",
       "      <td>1.000000</td>\n",
       "      <td>1.000000</td>\n",
       "    </tr>\n",
       "    <tr>\n",
       "      <td>max</td>\n",
       "      <td>99.00000</td>\n",
       "      <td>99.000000</td>\n",
       "      <td>1.000000</td>\n",
       "      <td>1.000000</td>\n",
       "    </tr>\n",
       "  </tbody>\n",
       "</table>\n",
       "</div>"
      ],
      "text/plain": [
       "       reading_score    math_score  reading_pass     math_pass\n",
       "count    39170.00000  39170.000000  39170.000000  39170.000000\n",
       "mean        81.87784     78.985371      0.858055      0.749809\n",
       "std         10.23958     12.309968      0.348999      0.433129\n",
       "min         63.00000     55.000000      0.000000      0.000000\n",
       "25%         73.00000     69.000000      1.000000      0.000000\n",
       "50%         82.00000     79.000000      1.000000      1.000000\n",
       "75%         91.00000     89.000000      1.000000      1.000000\n",
       "max         99.00000     99.000000      1.000000      1.000000"
      ]
     },
     "execution_count": 155,
     "metadata": {},
     "output_type": "execute_result"
    }
   ],
   "source": [
    "school_sum.describe()"
   ]
  },
  {
   "cell_type": "code",
   "execution_count": null,
   "metadata": {},
   "outputs": [],
   "source": [
    "\n"
   ]
  },
  {
   "cell_type": "code",
   "execution_count": 156,
   "metadata": {},
   "outputs": [
    {
     "data": {
      "text/html": [
       "<div>\n",
       "<style scoped>\n",
       "    .dataframe tbody tr th:only-of-type {\n",
       "        vertical-align: middle;\n",
       "    }\n",
       "\n",
       "    .dataframe tbody tr th {\n",
       "        vertical-align: top;\n",
       "    }\n",
       "\n",
       "    .dataframe thead th {\n",
       "        text-align: right;\n",
       "    }\n",
       "</style>\n",
       "<table border=\"1\" class=\"dataframe\">\n",
       "  <thead>\n",
       "    <tr style=\"text-align: right;\">\n",
       "      <th></th>\n",
       "      <th>school_name</th>\n",
       "      <th>Average Reading Score</th>\n",
       "      <th>Average Math Score</th>\n",
       "      <th>reading_pass</th>\n",
       "      <th>math_pass</th>\n",
       "    </tr>\n",
       "  </thead>\n",
       "  <tbody>\n",
       "    <tr>\n",
       "      <td>0</td>\n",
       "      <td>Bailey High School</td>\n",
       "      <td>81.033963</td>\n",
       "      <td>77.048432</td>\n",
       "      <td>0.819333</td>\n",
       "      <td>0.666801</td>\n",
       "    </tr>\n",
       "    <tr>\n",
       "      <td>1</td>\n",
       "      <td>Cabrera High School</td>\n",
       "      <td>83.975780</td>\n",
       "      <td>83.061895</td>\n",
       "      <td>0.970398</td>\n",
       "      <td>0.941335</td>\n",
       "    </tr>\n",
       "    <tr>\n",
       "      <td>2</td>\n",
       "      <td>Figueroa High School</td>\n",
       "      <td>81.158020</td>\n",
       "      <td>76.711767</td>\n",
       "      <td>0.807392</td>\n",
       "      <td>0.659885</td>\n",
       "    </tr>\n",
       "    <tr>\n",
       "      <td>3</td>\n",
       "      <td>Ford High School</td>\n",
       "      <td>80.746258</td>\n",
       "      <td>77.102592</td>\n",
       "      <td>0.792990</td>\n",
       "      <td>0.683096</td>\n",
       "    </tr>\n",
       "    <tr>\n",
       "      <td>4</td>\n",
       "      <td>Griffin High School</td>\n",
       "      <td>83.816757</td>\n",
       "      <td>83.351499</td>\n",
       "      <td>0.971390</td>\n",
       "      <td>0.933924</td>\n",
       "    </tr>\n",
       "    <tr>\n",
       "      <td>5</td>\n",
       "      <td>Hernandez High School</td>\n",
       "      <td>80.934412</td>\n",
       "      <td>77.289752</td>\n",
       "      <td>0.808630</td>\n",
       "      <td>0.667530</td>\n",
       "    </tr>\n",
       "    <tr>\n",
       "      <td>6</td>\n",
       "      <td>Holden High School</td>\n",
       "      <td>83.814988</td>\n",
       "      <td>83.803279</td>\n",
       "      <td>0.962529</td>\n",
       "      <td>0.925059</td>\n",
       "    </tr>\n",
       "    <tr>\n",
       "      <td>7</td>\n",
       "      <td>Huang High School</td>\n",
       "      <td>81.182722</td>\n",
       "      <td>76.629414</td>\n",
       "      <td>0.813164</td>\n",
       "      <td>0.656839</td>\n",
       "    </tr>\n",
       "    <tr>\n",
       "      <td>8</td>\n",
       "      <td>Johnson High School</td>\n",
       "      <td>80.966394</td>\n",
       "      <td>77.072464</td>\n",
       "      <td>0.812224</td>\n",
       "      <td>0.660576</td>\n",
       "    </tr>\n",
       "    <tr>\n",
       "      <td>9</td>\n",
       "      <td>Pena High School</td>\n",
       "      <td>84.044699</td>\n",
       "      <td>83.839917</td>\n",
       "      <td>0.959459</td>\n",
       "      <td>0.945946</td>\n",
       "    </tr>\n",
       "    <tr>\n",
       "      <td>10</td>\n",
       "      <td>Rodriguez High School</td>\n",
       "      <td>80.744686</td>\n",
       "      <td>76.842711</td>\n",
       "      <td>0.802201</td>\n",
       "      <td>0.663666</td>\n",
       "    </tr>\n",
       "    <tr>\n",
       "      <td>11</td>\n",
       "      <td>Shelton High School</td>\n",
       "      <td>83.725724</td>\n",
       "      <td>83.359455</td>\n",
       "      <td>0.958546</td>\n",
       "      <td>0.938671</td>\n",
       "    </tr>\n",
       "    <tr>\n",
       "      <td>12</td>\n",
       "      <td>Thomas High School</td>\n",
       "      <td>83.848930</td>\n",
       "      <td>83.418349</td>\n",
       "      <td>0.973089</td>\n",
       "      <td>0.932722</td>\n",
       "    </tr>\n",
       "    <tr>\n",
       "      <td>13</td>\n",
       "      <td>Wilson High School</td>\n",
       "      <td>83.989488</td>\n",
       "      <td>83.274201</td>\n",
       "      <td>0.965396</td>\n",
       "      <td>0.938677</td>\n",
       "    </tr>\n",
       "  </tbody>\n",
       "</table>\n",
       "</div>"
      ],
      "text/plain": [
       "              school_name  Average Reading Score  Average Math Score  \\\n",
       "0      Bailey High School              81.033963           77.048432   \n",
       "1     Cabrera High School              83.975780           83.061895   \n",
       "2    Figueroa High School              81.158020           76.711767   \n",
       "3        Ford High School              80.746258           77.102592   \n",
       "4     Griffin High School              83.816757           83.351499   \n",
       "5   Hernandez High School              80.934412           77.289752   \n",
       "6      Holden High School              83.814988           83.803279   \n",
       "7       Huang High School              81.182722           76.629414   \n",
       "8     Johnson High School              80.966394           77.072464   \n",
       "9        Pena High School              84.044699           83.839917   \n",
       "10  Rodriguez High School              80.744686           76.842711   \n",
       "11    Shelton High School              83.725724           83.359455   \n",
       "12     Thomas High School              83.848930           83.418349   \n",
       "13     Wilson High School              83.989488           83.274201   \n",
       "\n",
       "    reading_pass  math_pass  \n",
       "0       0.819333   0.666801  \n",
       "1       0.970398   0.941335  \n",
       "2       0.807392   0.659885  \n",
       "3       0.792990   0.683096  \n",
       "4       0.971390   0.933924  \n",
       "5       0.808630   0.667530  \n",
       "6       0.962529   0.925059  \n",
       "7       0.813164   0.656839  \n",
       "8       0.812224   0.660576  \n",
       "9       0.959459   0.945946  \n",
       "10      0.802201   0.663666  \n",
       "11      0.958546   0.938671  \n",
       "12      0.973089   0.932722  \n",
       "13      0.965396   0.938677  "
      ]
     },
     "execution_count": 156,
     "metadata": {},
     "output_type": "execute_result"
    }
   ],
   "source": [
    "#--GroupBy data\n",
    "grouped_schools = school_sum.groupby(\"school_name\", as_index=False).agg({'reading_score':'mean',\n",
    "                                                                         'math_score':'mean',\n",
    "                                                                         'reading_pass':'mean',\n",
    "                                                                         'math_pass':'mean',\n",
    "                                 }).rename(columns={'reading_score':'Average Reading Score',\n",
    "                                                    'math_score':'Average Math Score',\n",
    "                                                   })    \n",
    "# grouped_schools = school_summary_df.groupby(\"school_name\")\n",
    "#g_schools_sum = grouped_schools.mean()\n",
    "#g_schools_sum.head(14)\n",
    "grouped_schools.head(14)\n",
    "\n",
    "# df = (df.groupby('Name', as_index=False)\n",
    "#        .agg({'Missed':'sum', 'Credit':'sum','Grade':'mean'})\n",
    "#        .rename(columns={'Missed':'Sum1', 'Credit':'Sum2','Grade':'Average'}))"
   ]
  },
  {
   "cell_type": "code",
   "execution_count": 157,
   "metadata": {},
   "outputs": [
    {
     "data": {
      "text/html": [
       "<div>\n",
       "<style scoped>\n",
       "    .dataframe tbody tr th:only-of-type {\n",
       "        vertical-align: middle;\n",
       "    }\n",
       "\n",
       "    .dataframe tbody tr th {\n",
       "        vertical-align: top;\n",
       "    }\n",
       "\n",
       "    .dataframe thead th {\n",
       "        text-align: right;\n",
       "    }\n",
       "</style>\n",
       "<table border=\"1\" class=\"dataframe\">\n",
       "  <thead>\n",
       "    <tr style=\"text-align: right;\">\n",
       "      <th></th>\n",
       "      <th>school_name</th>\n",
       "      <th>Average Reading Score</th>\n",
       "      <th>Average Math Score</th>\n",
       "      <th>reading_pass</th>\n",
       "      <th>math_pass</th>\n",
       "      <th>% Passing Math</th>\n",
       "      <th>% Passing Reading</th>\n",
       "      <th>% Overall Passing Rate</th>\n",
       "    </tr>\n",
       "  </thead>\n",
       "  <tbody>\n",
       "    <tr>\n",
       "      <td>0</td>\n",
       "      <td>Bailey High School</td>\n",
       "      <td>81.033963</td>\n",
       "      <td>77.048432</td>\n",
       "      <td>0.819333</td>\n",
       "      <td>0.666801</td>\n",
       "      <td>66.680064</td>\n",
       "      <td>81.933280</td>\n",
       "      <td>74.306672</td>\n",
       "    </tr>\n",
       "    <tr>\n",
       "      <td>1</td>\n",
       "      <td>Cabrera High School</td>\n",
       "      <td>83.975780</td>\n",
       "      <td>83.061895</td>\n",
       "      <td>0.970398</td>\n",
       "      <td>0.941335</td>\n",
       "      <td>94.133477</td>\n",
       "      <td>97.039828</td>\n",
       "      <td>95.586652</td>\n",
       "    </tr>\n",
       "    <tr>\n",
       "      <td>2</td>\n",
       "      <td>Figueroa High School</td>\n",
       "      <td>81.158020</td>\n",
       "      <td>76.711767</td>\n",
       "      <td>0.807392</td>\n",
       "      <td>0.659885</td>\n",
       "      <td>65.988471</td>\n",
       "      <td>80.739234</td>\n",
       "      <td>73.363852</td>\n",
       "    </tr>\n",
       "    <tr>\n",
       "      <td>3</td>\n",
       "      <td>Ford High School</td>\n",
       "      <td>80.746258</td>\n",
       "      <td>77.102592</td>\n",
       "      <td>0.792990</td>\n",
       "      <td>0.683096</td>\n",
       "      <td>68.309602</td>\n",
       "      <td>79.299014</td>\n",
       "      <td>73.804308</td>\n",
       "    </tr>\n",
       "    <tr>\n",
       "      <td>4</td>\n",
       "      <td>Griffin High School</td>\n",
       "      <td>83.816757</td>\n",
       "      <td>83.351499</td>\n",
       "      <td>0.971390</td>\n",
       "      <td>0.933924</td>\n",
       "      <td>93.392371</td>\n",
       "      <td>97.138965</td>\n",
       "      <td>95.265668</td>\n",
       "    </tr>\n",
       "    <tr>\n",
       "      <td>5</td>\n",
       "      <td>Hernandez High School</td>\n",
       "      <td>80.934412</td>\n",
       "      <td>77.289752</td>\n",
       "      <td>0.808630</td>\n",
       "      <td>0.667530</td>\n",
       "      <td>66.752967</td>\n",
       "      <td>80.862999</td>\n",
       "      <td>73.807983</td>\n",
       "    </tr>\n",
       "    <tr>\n",
       "      <td>6</td>\n",
       "      <td>Holden High School</td>\n",
       "      <td>83.814988</td>\n",
       "      <td>83.803279</td>\n",
       "      <td>0.962529</td>\n",
       "      <td>0.925059</td>\n",
       "      <td>92.505855</td>\n",
       "      <td>96.252927</td>\n",
       "      <td>94.379391</td>\n",
       "    </tr>\n",
       "    <tr>\n",
       "      <td>7</td>\n",
       "      <td>Huang High School</td>\n",
       "      <td>81.182722</td>\n",
       "      <td>76.629414</td>\n",
       "      <td>0.813164</td>\n",
       "      <td>0.656839</td>\n",
       "      <td>65.683922</td>\n",
       "      <td>81.316421</td>\n",
       "      <td>73.500171</td>\n",
       "    </tr>\n",
       "    <tr>\n",
       "      <td>8</td>\n",
       "      <td>Johnson High School</td>\n",
       "      <td>80.966394</td>\n",
       "      <td>77.072464</td>\n",
       "      <td>0.812224</td>\n",
       "      <td>0.660576</td>\n",
       "      <td>66.057551</td>\n",
       "      <td>81.222432</td>\n",
       "      <td>73.639992</td>\n",
       "    </tr>\n",
       "    <tr>\n",
       "      <td>9</td>\n",
       "      <td>Pena High School</td>\n",
       "      <td>84.044699</td>\n",
       "      <td>83.839917</td>\n",
       "      <td>0.959459</td>\n",
       "      <td>0.945946</td>\n",
       "      <td>94.594595</td>\n",
       "      <td>95.945946</td>\n",
       "      <td>95.270270</td>\n",
       "    </tr>\n",
       "    <tr>\n",
       "      <td>10</td>\n",
       "      <td>Rodriguez High School</td>\n",
       "      <td>80.744686</td>\n",
       "      <td>76.842711</td>\n",
       "      <td>0.802201</td>\n",
       "      <td>0.663666</td>\n",
       "      <td>66.366592</td>\n",
       "      <td>80.220055</td>\n",
       "      <td>73.293323</td>\n",
       "    </tr>\n",
       "    <tr>\n",
       "      <td>11</td>\n",
       "      <td>Shelton High School</td>\n",
       "      <td>83.725724</td>\n",
       "      <td>83.359455</td>\n",
       "      <td>0.958546</td>\n",
       "      <td>0.938671</td>\n",
       "      <td>93.867121</td>\n",
       "      <td>95.854628</td>\n",
       "      <td>94.860875</td>\n",
       "    </tr>\n",
       "    <tr>\n",
       "      <td>12</td>\n",
       "      <td>Thomas High School</td>\n",
       "      <td>83.848930</td>\n",
       "      <td>83.418349</td>\n",
       "      <td>0.973089</td>\n",
       "      <td>0.932722</td>\n",
       "      <td>93.272171</td>\n",
       "      <td>97.308869</td>\n",
       "      <td>95.290520</td>\n",
       "    </tr>\n",
       "    <tr>\n",
       "      <td>13</td>\n",
       "      <td>Wilson High School</td>\n",
       "      <td>83.989488</td>\n",
       "      <td>83.274201</td>\n",
       "      <td>0.965396</td>\n",
       "      <td>0.938677</td>\n",
       "      <td>93.867718</td>\n",
       "      <td>96.539641</td>\n",
       "      <td>95.203679</td>\n",
       "    </tr>\n",
       "  </tbody>\n",
       "</table>\n",
       "</div>"
      ],
      "text/plain": [
       "              school_name  Average Reading Score  Average Math Score  \\\n",
       "0      Bailey High School              81.033963           77.048432   \n",
       "1     Cabrera High School              83.975780           83.061895   \n",
       "2    Figueroa High School              81.158020           76.711767   \n",
       "3        Ford High School              80.746258           77.102592   \n",
       "4     Griffin High School              83.816757           83.351499   \n",
       "5   Hernandez High School              80.934412           77.289752   \n",
       "6      Holden High School              83.814988           83.803279   \n",
       "7       Huang High School              81.182722           76.629414   \n",
       "8     Johnson High School              80.966394           77.072464   \n",
       "9        Pena High School              84.044699           83.839917   \n",
       "10  Rodriguez High School              80.744686           76.842711   \n",
       "11    Shelton High School              83.725724           83.359455   \n",
       "12     Thomas High School              83.848930           83.418349   \n",
       "13     Wilson High School              83.989488           83.274201   \n",
       "\n",
       "    reading_pass  math_pass  % Passing Math  % Passing Reading  \\\n",
       "0       0.819333   0.666801       66.680064          81.933280   \n",
       "1       0.970398   0.941335       94.133477          97.039828   \n",
       "2       0.807392   0.659885       65.988471          80.739234   \n",
       "3       0.792990   0.683096       68.309602          79.299014   \n",
       "4       0.971390   0.933924       93.392371          97.138965   \n",
       "5       0.808630   0.667530       66.752967          80.862999   \n",
       "6       0.962529   0.925059       92.505855          96.252927   \n",
       "7       0.813164   0.656839       65.683922          81.316421   \n",
       "8       0.812224   0.660576       66.057551          81.222432   \n",
       "9       0.959459   0.945946       94.594595          95.945946   \n",
       "10      0.802201   0.663666       66.366592          80.220055   \n",
       "11      0.958546   0.938671       93.867121          95.854628   \n",
       "12      0.973089   0.932722       93.272171          97.308869   \n",
       "13      0.965396   0.938677       93.867718          96.539641   \n",
       "\n",
       "    % Overall Passing Rate  \n",
       "0                74.306672  \n",
       "1                95.586652  \n",
       "2                73.363852  \n",
       "3                73.804308  \n",
       "4                95.265668  \n",
       "5                73.807983  \n",
       "6                94.379391  \n",
       "7                73.500171  \n",
       "8                73.639992  \n",
       "9                95.270270  \n",
       "10               73.293323  \n",
       "11               94.860875  \n",
       "12               95.290520  \n",
       "13               95.203679  "
      ]
     },
     "execution_count": 157,
     "metadata": {},
     "output_type": "execute_result"
    }
   ],
   "source": [
    "grouped_schools['% Passing Math'] = grouped_schools[\"math_pass\"]*100\n",
    "grouped_schools['% Passing Reading'] = grouped_schools[\"reading_pass\"]*100\n",
    "grouped_schools['% Overall Passing Rate'] = (grouped_schools['% Passing Math']+grouped_schools['% Passing Reading'])/2\n",
    "\n",
    "grouped_schools.head(14)"
   ]
  },
  {
   "cell_type": "code",
   "execution_count": 158,
   "metadata": {},
   "outputs": [
    {
     "data": {
      "text/plain": [
       "Index(['school_name', 'Average Reading Score', 'Average Math Score',\n",
       "       'reading_pass', 'math_pass', '% Passing Math', '% Passing Reading',\n",
       "       '% Overall Passing Rate'],\n",
       "      dtype='object')"
      ]
     },
     "execution_count": 158,
     "metadata": {},
     "output_type": "execute_result"
    }
   ],
   "source": [
    "grouped_schools.columns"
   ]
  },
  {
   "cell_type": "code",
   "execution_count": 159,
   "metadata": {},
   "outputs": [
    {
     "data": {
      "text/plain": [
       "Index(['School ID', 'school_name', 'type', 'size', 'budget',\n",
       "       'Average Reading Score', 'Average Math Score', 'reading_pass',\n",
       "       'math_pass', '% Passing Math', '% Passing Reading',\n",
       "       '% Overall Passing Rate'],\n",
       "      dtype='object')"
      ]
     },
     "execution_count": 159,
     "metadata": {},
     "output_type": "execute_result"
    }
   ],
   "source": [
    "school_summary_table = pd.merge(school_df,grouped_schools, on=[\"school_name\",\"school_name\"])\n",
    "school_summary_table.columns"
   ]
  },
  {
   "cell_type": "code",
   "execution_count": 160,
   "metadata": {},
   "outputs": [
    {
     "data": {
      "text/html": [
       "<div>\n",
       "<style scoped>\n",
       "    .dataframe tbody tr th:only-of-type {\n",
       "        vertical-align: middle;\n",
       "    }\n",
       "\n",
       "    .dataframe tbody tr th {\n",
       "        vertical-align: top;\n",
       "    }\n",
       "\n",
       "    .dataframe thead th {\n",
       "        text-align: right;\n",
       "    }\n",
       "</style>\n",
       "<table border=\"1\" class=\"dataframe\">\n",
       "  <thead>\n",
       "    <tr style=\"text-align: right;\">\n",
       "      <th></th>\n",
       "      <th>school_name</th>\n",
       "      <th>type</th>\n",
       "      <th>budget</th>\n",
       "      <th>Average Math Score</th>\n",
       "      <th>Average Reading Score</th>\n",
       "      <th>reading_pass</th>\n",
       "      <th>math_pass</th>\n",
       "      <th>% Passing Math</th>\n",
       "      <th>% Passing Reading</th>\n",
       "      <th>% Overall Passing Rate</th>\n",
       "    </tr>\n",
       "  </thead>\n",
       "  <tbody>\n",
       "    <tr>\n",
       "      <td>0</td>\n",
       "      <td>Huang High School</td>\n",
       "      <td>District</td>\n",
       "      <td>1910635</td>\n",
       "      <td>76.629414</td>\n",
       "      <td>81.182722</td>\n",
       "      <td>0.813164</td>\n",
       "      <td>0.656839</td>\n",
       "      <td>65.683922</td>\n",
       "      <td>81.316421</td>\n",
       "      <td>73.500171</td>\n",
       "    </tr>\n",
       "    <tr>\n",
       "      <td>1</td>\n",
       "      <td>Figueroa High School</td>\n",
       "      <td>District</td>\n",
       "      <td>1884411</td>\n",
       "      <td>76.711767</td>\n",
       "      <td>81.158020</td>\n",
       "      <td>0.807392</td>\n",
       "      <td>0.659885</td>\n",
       "      <td>65.988471</td>\n",
       "      <td>80.739234</td>\n",
       "      <td>73.363852</td>\n",
       "    </tr>\n",
       "    <tr>\n",
       "      <td>2</td>\n",
       "      <td>Shelton High School</td>\n",
       "      <td>Charter</td>\n",
       "      <td>1056600</td>\n",
       "      <td>83.359455</td>\n",
       "      <td>83.725724</td>\n",
       "      <td>0.958546</td>\n",
       "      <td>0.938671</td>\n",
       "      <td>93.867121</td>\n",
       "      <td>95.854628</td>\n",
       "      <td>94.860875</td>\n",
       "    </tr>\n",
       "    <tr>\n",
       "      <td>3</td>\n",
       "      <td>Hernandez High School</td>\n",
       "      <td>District</td>\n",
       "      <td>3022020</td>\n",
       "      <td>77.289752</td>\n",
       "      <td>80.934412</td>\n",
       "      <td>0.808630</td>\n",
       "      <td>0.667530</td>\n",
       "      <td>66.752967</td>\n",
       "      <td>80.862999</td>\n",
       "      <td>73.807983</td>\n",
       "    </tr>\n",
       "    <tr>\n",
       "      <td>4</td>\n",
       "      <td>Griffin High School</td>\n",
       "      <td>Charter</td>\n",
       "      <td>917500</td>\n",
       "      <td>83.351499</td>\n",
       "      <td>83.816757</td>\n",
       "      <td>0.971390</td>\n",
       "      <td>0.933924</td>\n",
       "      <td>93.392371</td>\n",
       "      <td>97.138965</td>\n",
       "      <td>95.265668</td>\n",
       "    </tr>\n",
       "  </tbody>\n",
       "</table>\n",
       "</div>"
      ],
      "text/plain": [
       "             school_name      type   budget  Average Math Score  \\\n",
       "0      Huang High School  District  1910635           76.629414   \n",
       "1   Figueroa High School  District  1884411           76.711767   \n",
       "2    Shelton High School   Charter  1056600           83.359455   \n",
       "3  Hernandez High School  District  3022020           77.289752   \n",
       "4    Griffin High School   Charter   917500           83.351499   \n",
       "\n",
       "   Average Reading Score  reading_pass  math_pass  % Passing Math  \\\n",
       "0              81.182722      0.813164   0.656839       65.683922   \n",
       "1              81.158020      0.807392   0.659885       65.988471   \n",
       "2              83.725724      0.958546   0.938671       93.867121   \n",
       "3              80.934412      0.808630   0.667530       66.752967   \n",
       "4              83.816757      0.971390   0.933924       93.392371   \n",
       "\n",
       "   % Passing Reading  % Overall Passing Rate  \n",
       "0          81.316421               73.500171  \n",
       "1          80.739234               73.363852  \n",
       "2          95.854628               94.860875  \n",
       "3          80.862999               73.807983  \n",
       "4          97.138965               95.265668  "
      ]
     },
     "execution_count": 160,
     "metadata": {},
     "output_type": "execute_result"
    }
   ],
   "source": [
    "school_summary_report = school_summary_table[[\"school_name\",\"type\",\"budget\",\n",
    "                       'Average Math Score','Average Reading Score',\n",
    "                       'reading_pass','math_pass', '% Passing Math','% Passing Reading',\n",
    "                        '% Overall Passing Rate']]\n",
    "school_summary_report.head()\n",
    "#df[df.columns[1:4]] \n",
    "#school_summary_printout.head()\n",
    "#school_summary_table.loc[:, ['school_name', 'type','student','budget_x','Per Student Budget',\n",
    "#                             'Average Math Score','Average Reading Score',\n",
    "#                             '% Passing Math','% Passing Math','% Overall Passing Rate']] \n",
    "# school_summary_rename_printout=school_summary_printout.rename(columns ={'school_name':'School Name','type':'School Type',\n",
    "#                                          'budget_x':'Total School Budget'})\n",
    "# school_summary_rename_printout.style.hide_index()\n"
   ]
  },
  {
   "cell_type": "markdown",
   "metadata": {},
   "source": [
    "# --Top Performing Schools (By Passing Rate)"
   ]
  },
  {
   "cell_type": "code",
   "execution_count": null,
   "metadata": {},
   "outputs": [],
   "source": [
    "#vehicles_df.sort_values(\"Fuel Economy (mpg)\")\n",
    "top_School = school_summary_rename_printout.sort_values('% Overall Passing Rate',ascending=False)\n",
    "# top_School.head()\n",
    "top_School.style.hide_index()"
   ]
  },
  {
   "cell_type": "markdown",
   "metadata": {},
   "source": [
    "# --Bottom Performing Schools (By Passing Rate)"
   ]
  },
  {
   "cell_type": "code",
   "execution_count": null,
   "metadata": {},
   "outputs": [],
   "source": [
    "#vehicles_df.sort_values(\"Fuel Economy (mpg)\")\n",
    "bottom_School = school_summary_rename_printout.sort_values('% Overall Passing Rate',ascending=True)\n",
    "# bottom_School.head()\n",
    "bottom_School.style.hide_index()"
   ]
  },
  {
   "cell_type": "code",
   "execution_count": null,
   "metadata": {},
   "outputs": [],
   "source": [
    "#--Combine school_df and student_df\n",
    "school_summary = pd.merge(school_df, student_df, how = \"left\", on=[\"school_name\",\"school_name\"])\n",
    "school_summary.columns"
   ]
  },
  {
   "cell_type": "code",
   "execution_count": null,
   "metadata": {},
   "outputs": [],
   "source": [
    "student_df.head(20)"
   ]
  },
  {
   "cell_type": "code",
   "execution_count": null,
   "metadata": {},
   "outputs": [],
   "source": [
    "reading_score_df = student_df[['school_name','grade','reading_score']]\n",
    "reading_score_df.head()"
   ]
  },
  {
   "cell_type": "code",
   "execution_count": null,
   "metadata": {},
   "outputs": [],
   "source": []
  },
  {
   "cell_type": "code",
   "execution_count": null,
   "metadata": {},
   "outputs": [],
   "source": [
    "# pivot_grade = reading_score_df.pivot( \n",
    "#                              index='school_name',                             \n",
    "#                              columns='grade',\n",
    "#                              values='reading_score')\n",
    "pivot_grade = pd.pivot_table(reading_score_df, \n",
    "                             index='school_name',                             \n",
    "                             columns='grade',\n",
    "                             values='reading_score')\n",
    "pivot_grade"
   ]
  },
  {
   "cell_type": "code",
   "execution_count": null,
   "metadata": {},
   "outputs": [],
   "source": []
  },
  {
   "cell_type": "code",
   "execution_count": null,
   "metadata": {},
   "outputs": [],
   "source": []
  },
  {
   "cell_type": "code",
   "execution_count": null,
   "metadata": {},
   "outputs": [],
   "source": []
  },
  {
   "cell_type": "code",
   "execution_count": null,
   "metadata": {},
   "outputs": [],
   "source": []
  },
  {
   "cell_type": "code",
   "execution_count": null,
   "metadata": {},
   "outputs": [],
   "source": []
  },
  {
   "cell_type": "code",
   "execution_count": null,
   "metadata": {},
   "outputs": [],
   "source": []
  },
  {
   "cell_type": "code",
   "execution_count": null,
   "metadata": {},
   "outputs": [],
   "source": []
  },
  {
   "cell_type": "code",
   "execution_count": null,
   "metadata": {},
   "outputs": [],
   "source": []
  },
  {
   "cell_type": "code",
   "execution_count": null,
   "metadata": {},
   "outputs": [],
   "source": []
  },
  {
   "cell_type": "code",
   "execution_count": null,
   "metadata": {},
   "outputs": [],
   "source": []
  }
 ],
 "metadata": {
  "kernelspec": {
   "display_name": "Python 3",
   "language": "python",
   "name": "python3"
  },
  "language_info": {
   "codemirror_mode": {
    "name": "ipython",
    "version": 3
   },
   "file_extension": ".py",
   "mimetype": "text/x-python",
   "name": "python",
   "nbconvert_exporter": "python",
   "pygments_lexer": "ipython3",
   "version": "3.7.4"
  }
 },
 "nbformat": 4,
 "nbformat_minor": 2
}
