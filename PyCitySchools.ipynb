{
 "cells": [
  {
   "cell_type": "code",
   "execution_count": 21,
   "metadata": {},
   "outputs": [],
   "source": [
    "#--Dependencies and Setup\n",
    "import pandas as pd\n",
    "import numpy as np"
   ]
  },
  {
   "cell_type": "code",
   "execution_count": 22,
   "metadata": {},
   "outputs": [],
   "source": [
    "#--Point to csv files\n",
    "school_path = \"Resources/schools_complete.csv\"\n",
    "student_path = \"Resources/students_complete.csv\""
   ]
  },
  {
   "cell_type": "code",
   "execution_count": 23,
   "metadata": {},
   "outputs": [],
   "source": [
    "#--Read data and store in dataframe\n",
    "school_df = pd.read_csv(school_path)\n",
    "student_df = pd.read_csv(student_path)\n"
   ]
  },
  {
   "cell_type": "markdown",
   "metadata": {},
   "source": [
    "#--District Summary Variables\n",
    "school_total\n",
    "students_total\n",
    "budget_total\n",
    "math_avg\n",
    "reading_avg\n",
    "overall_avg\n",
    "student_math70_greater\n",
    "student_reading70_greater\n",
    "student_math70_greater_count\n",
    "student_reading70_greater_count\n",
    "student_overall_70greater\n",
    "student_overall_70greater_count\n",
    "percent_pass_math\n",
    "percent_pass_reading\n",
    "percent_pass_overall\n",
    "#--School Summary Variables"
   ]
  },
  {
   "cell_type": "code",
   "execution_count": 26,
   "metadata": {},
   "outputs": [
    {
     "data": {
      "text/plain": [
       "(15, 5)"
      ]
     },
     "execution_count": 26,
     "metadata": {},
     "output_type": "execute_result"
    }
   ],
   "source": [
    "#--Check number of rows and columns\n",
    "school_df.shape"
   ]
  },
  {
   "cell_type": "code",
   "execution_count": 27,
   "metadata": {},
   "outputs": [
    {
     "data": {
      "text/plain": [
       "School ID      15\n",
       "school_name    15\n",
       "type           15\n",
       "size           15\n",
       "budget         15\n",
       "dtype: int64"
      ]
     },
     "execution_count": 27,
     "metadata": {},
     "output_type": "execute_result"
    }
   ],
   "source": [
    "#--Check missin data (if some rows is missing)\n",
    "school_df.count()"
   ]
  },
  {
   "cell_type": "code",
   "execution_count": 28,
   "metadata": {},
   "outputs": [
    {
     "data": {
      "text/plain": [
       "(39170, 7)"
      ]
     },
     "execution_count": 28,
     "metadata": {},
     "output_type": "execute_result"
    }
   ],
   "source": [
    "#--Check number of rows and columns\n",
    "student_df.shape\n"
   ]
  },
  {
   "cell_type": "code",
   "execution_count": 29,
   "metadata": {},
   "outputs": [
    {
     "data": {
      "text/plain": [
       "Student ID       39170\n",
       "student_name     39170\n",
       "gender           39170\n",
       "grade            39170\n",
       "school_name      39170\n",
       "reading_score    39170\n",
       "math_score       39170\n",
       "dtype: int64"
      ]
     },
     "execution_count": 29,
     "metadata": {},
     "output_type": "execute_result"
    }
   ],
   "source": [
    "#--Check missin data (if some rows is missing)\n",
    "student_df.count()"
   ]
  },
  {
   "cell_type": "code",
   "execution_count": 33,
   "metadata": {},
   "outputs": [],
   "source": [
    "#--Combine school_df and student_df\n",
    "data_combined = pd.merge(student_df, school_df, how = \"left\", on=[\"school_name\",\"school_name\"])"
   ]
  },
  {
   "cell_type": "code",
   "execution_count": 34,
   "metadata": {},
   "outputs": [
    {
     "data": {
      "text/html": [
       "<div>\n",
       "<style scoped>\n",
       "    .dataframe tbody tr th:only-of-type {\n",
       "        vertical-align: middle;\n",
       "    }\n",
       "\n",
       "    .dataframe tbody tr th {\n",
       "        vertical-align: top;\n",
       "    }\n",
       "\n",
       "    .dataframe thead th {\n",
       "        text-align: right;\n",
       "    }\n",
       "</style>\n",
       "<table border=\"1\" class=\"dataframe\">\n",
       "  <thead>\n",
       "    <tr style=\"text-align: right;\">\n",
       "      <th></th>\n",
       "      <th>Student ID</th>\n",
       "      <th>student_name</th>\n",
       "      <th>gender</th>\n",
       "      <th>grade</th>\n",
       "      <th>school_name</th>\n",
       "      <th>reading_score</th>\n",
       "      <th>math_score</th>\n",
       "      <th>School ID</th>\n",
       "      <th>type</th>\n",
       "      <th>size</th>\n",
       "      <th>budget</th>\n",
       "    </tr>\n",
       "  </thead>\n",
       "  <tbody>\n",
       "    <tr>\n",
       "      <td>0</td>\n",
       "      <td>0</td>\n",
       "      <td>Paul Bradley</td>\n",
       "      <td>M</td>\n",
       "      <td>9th</td>\n",
       "      <td>Huang High School</td>\n",
       "      <td>66</td>\n",
       "      <td>79</td>\n",
       "      <td>0</td>\n",
       "      <td>District</td>\n",
       "      <td>2917</td>\n",
       "      <td>1910635</td>\n",
       "    </tr>\n",
       "    <tr>\n",
       "      <td>1</td>\n",
       "      <td>1</td>\n",
       "      <td>Victor Smith</td>\n",
       "      <td>M</td>\n",
       "      <td>12th</td>\n",
       "      <td>Huang High School</td>\n",
       "      <td>94</td>\n",
       "      <td>61</td>\n",
       "      <td>0</td>\n",
       "      <td>District</td>\n",
       "      <td>2917</td>\n",
       "      <td>1910635</td>\n",
       "    </tr>\n",
       "    <tr>\n",
       "      <td>2</td>\n",
       "      <td>2</td>\n",
       "      <td>Kevin Rodriguez</td>\n",
       "      <td>M</td>\n",
       "      <td>12th</td>\n",
       "      <td>Huang High School</td>\n",
       "      <td>90</td>\n",
       "      <td>60</td>\n",
       "      <td>0</td>\n",
       "      <td>District</td>\n",
       "      <td>2917</td>\n",
       "      <td>1910635</td>\n",
       "    </tr>\n",
       "    <tr>\n",
       "      <td>3</td>\n",
       "      <td>3</td>\n",
       "      <td>Dr. Richard Scott</td>\n",
       "      <td>M</td>\n",
       "      <td>12th</td>\n",
       "      <td>Huang High School</td>\n",
       "      <td>67</td>\n",
       "      <td>58</td>\n",
       "      <td>0</td>\n",
       "      <td>District</td>\n",
       "      <td>2917</td>\n",
       "      <td>1910635</td>\n",
       "    </tr>\n",
       "    <tr>\n",
       "      <td>4</td>\n",
       "      <td>4</td>\n",
       "      <td>Bonnie Ray</td>\n",
       "      <td>F</td>\n",
       "      <td>9th</td>\n",
       "      <td>Huang High School</td>\n",
       "      <td>97</td>\n",
       "      <td>84</td>\n",
       "      <td>0</td>\n",
       "      <td>District</td>\n",
       "      <td>2917</td>\n",
       "      <td>1910635</td>\n",
       "    </tr>\n",
       "  </tbody>\n",
       "</table>\n",
       "</div>"
      ],
      "text/plain": [
       "   Student ID       student_name gender grade        school_name  \\\n",
       "0           0       Paul Bradley      M   9th  Huang High School   \n",
       "1           1       Victor Smith      M  12th  Huang High School   \n",
       "2           2    Kevin Rodriguez      M  12th  Huang High School   \n",
       "3           3  Dr. Richard Scott      M  12th  Huang High School   \n",
       "4           4         Bonnie Ray      F   9th  Huang High School   \n",
       "\n",
       "   reading_score  math_score  School ID      type  size   budget  \n",
       "0             66          79          0  District  2917  1910635  \n",
       "1             94          61          0  District  2917  1910635  \n",
       "2             90          60          0  District  2917  1910635  \n",
       "3             67          58          0  District  2917  1910635  \n",
       "4             97          84          0  District  2917  1910635  "
      ]
     },
     "execution_count": 34,
     "metadata": {},
     "output_type": "execute_result"
    }
   ],
   "source": [
    "data_combined.head(1)"
   ]
  },
  {
   "cell_type": "markdown",
   "metadata": {},
   "source": [
    "##--District Summary--##"
   ]
  },
  {
   "cell_type": "code",
   "execution_count": null,
   "metadata": {},
   "outputs": [],
   "source": [
    "budget_total = school_df[\"budget\"].sum()\n",
    "budget_total"
   ]
  },
  {
   "cell_type": "code",
   "execution_count": null,
   "metadata": {},
   "outputs": [],
   "source": [
    "math_avg = student_df[\"math_score\"].mean()\n",
    "math_avg"
   ]
  },
  {
   "cell_type": "code",
   "execution_count": null,
   "metadata": {},
   "outputs": [],
   "source": [
    "reading_avg = student_df[\"reading_score\"].mean()\n",
    "reading_avg"
   ]
  },
  {
   "cell_type": "code",
   "execution_count": null,
   "metadata": {},
   "outputs": [],
   "source": [
    "overall_avg = (math_avg + reading_avg)/2\n",
    "overall_avg"
   ]
  },
  {
   "cell_type": "code",
   "execution_count": null,
   "metadata": {},
   "outputs": [],
   "source": [
    "student_math70_greater = student_df.loc[student_df[\"math_score\"]>=70]\n",
    "student_math70_greater_count = student_math70_greater[\"Student ID\"].count()\n",
    "student_math70_greater_count"
   ]
  },
  {
   "cell_type": "code",
   "execution_count": null,
   "metadata": {},
   "outputs": [],
   "source": [
    "percent_pass_math = (student_math70_greater_count/students_total)*100\n",
    "percent_pass_math"
   ]
  },
  {
   "cell_type": "code",
   "execution_count": null,
   "metadata": {},
   "outputs": [],
   "source": [
    "student_reading70_greater = student_df.loc[student_df[\"reading_score\"]>=70]\n",
    "student_reading70_greater_count = student_reading70_greater[\"Student ID\"].count()\n",
    "student_reading70_greater_count\n"
   ]
  },
  {
   "cell_type": "code",
   "execution_count": null,
   "metadata": {},
   "outputs": [],
   "source": [
    "percent_pass_reading = (student_reading70_greater_count/students_total)*100\n",
    "percent_pass_reading"
   ]
  },
  {
   "cell_type": "code",
   "execution_count": null,
   "metadata": {},
   "outputs": [],
   "source": [
    "student_overall_70greater = student_df.loc[(student_df[\"math_score\"]>=70) & (student_df[\"reading_score\"]>=70)]\n",
    "student_overall_70greater_count = student_overall_70greater[\"Student ID\"].count()\n",
    "student_overall_70greater_count"
   ]
  },
  {
   "cell_type": "code",
   "execution_count": null,
   "metadata": {},
   "outputs": [],
   "source": [
    "#--calculate using | result = 95% using & result = 65%\n",
    "percent_pass_overall = (student_overall_70greater_count/students_total)*100\n",
    "percent_pass_overall"
   ]
  },
  {
   "cell_type": "code",
   "execution_count": null,
   "metadata": {},
   "outputs": [],
   "source": [
    "#--Create Dataframe from variables\n",
    "\n",
    "district_summary = {\n",
    "                \"Total Schools\" : [schools_total],\n",
    "                \"Total Students\": [students_total],\n",
    "                \"Total Budget\" : [budget_total],\n",
    "                \"Average Math Score\" : [math_avg],\n",
    "                \"Average Reading Score\" :[reading_avg],\n",
    "                \"% Passing Math\" : [percent_pass_math],\n",
    "                \"% Passing Reading\": [percent_pass_reading],\n",
    "                \"% Overall Passing Rate\" : [overall_avg]\n",
    "                }\n",
    "pd.DataFrame.from_dict(district_summary)"
   ]
  },
  {
   "cell_type": "markdown",
   "metadata": {},
   "source": [
    "##--School Summary--##"
   ]
  },
  {
   "cell_type": "code",
   "execution_count": null,
   "metadata": {},
   "outputs": [],
   "source": [
    "# #--Combine school_df and student_df\n",
    "# school_summary = pd.merge(school_df, student_df, how = \"left\", on=[\"school_name\",\"school_name\"])\n",
    "# school_summary.columns"
   ]
  },
  {
   "cell_type": "code",
   "execution_count": null,
   "metadata": {},
   "outputs": [],
   "source": [
    "#--Count Student in each school\n",
    "student_df[\"school_name\"].value_counts()\n"
   ]
  },
  {
   "cell_type": "code",
   "execution_count": null,
   "metadata": {},
   "outputs": [],
   "source": [
    "#--Create conditional to add new values in new columns\n",
    "reading_math_pass = student_df\n",
    "reading_math_pass.head()"
   ]
  },
  {
   "cell_type": "code",
   "execution_count": null,
   "metadata": {},
   "outputs": [],
   "source": [
    "#--Adding new data using conditions\n",
    "reading_math_pass.loc[(reading_math_pass[\"reading_score\"] >= 70) | (reading_math_pass[\"math_score\"] >= 70), \"overall\"] = 1\n",
    "reading_math_pass.loc[(reading_math_pass[\"reading_score\"] < 70) & (reading_math_pass[\"math_score\"] < 70), \"overall\"] = 0\n",
    "reading_math_pass.loc[reading_math_pass[\"reading_score\"] >= 70, \"reading_pass\"] = 1\n",
    "reading_math_pass.loc[reading_math_pass[\"reading_score\"] < 70, \"reading_pass\"] = 0\n",
    "reading_math_pass.loc[reading_math_pass[\"math_score\"] >= 70, \"math_pass\"] = 1\n",
    "reading_math_pass.loc[reading_math_pass[\"math_score\"] < 70, \"math_pass\"] = 0\n",
    "reading_math_pass.loc[reading_math_pass[\"student_name\"] != \"\",\"student\"] = 1\n",
    "\n",
    "reading_math_pass.head()\n"
   ]
  },
  {
   "cell_type": "code",
   "execution_count": null,
   "metadata": {},
   "outputs": [],
   "source": []
  },
  {
   "cell_type": "code",
   "execution_count": null,
   "metadata": {},
   "outputs": [],
   "source": [
    "#--Seleting columns\n",
    "school_summary_df = reading_math_pass[[\"school_name\",\"reading_score\",\"math_score\",\"reading_pass\",\"math_pass\",\"overall\",\"student\"]]\n",
    "school_summary_df.head()\n"
   ]
  },
  {
   "cell_type": "code",
   "execution_count": null,
   "metadata": {},
   "outputs": [],
   "source": [
    "#--GroupBy data\n",
    "grouped_schools = school_summary_df.groupby(\"school_name\").agg({'reading_score':'mean',\n",
    "                                  'math_score':'mean',\n",
    "                                  'reading_pass':'sum',\n",
    "                                  'math_pass':'sum',\n",
    "                                  'overall':'sum',\n",
    "                                  'student':'sum'\n",
    "                                 }).rename(columns={'reading_score':'Average Reading Score',\n",
    "                                                    'math_score':'Average Math Score'                   \n",
    "                                                   })\n",
    "    \n",
    "# grouped_schools = school_summary_df.groupby(\"school_name\")\n",
    "#g_schools_sum = grouped_schools.mean()\n",
    "#g_schools_sum.head(14)\n",
    "grouped_schools.head(14)\n",
    "\n",
    "# df = (df.groupby('Name', as_index=False)\n",
    "#        .agg({'Missed':'sum', 'Credit':'sum','Grade':'mean'})\n",
    "#        .rename(columns={'Missed':'Sum1', 'Credit':'Sum2','Grade':'Average'}))"
   ]
  },
  {
   "cell_type": "code",
   "execution_count": null,
   "metadata": {},
   "outputs": [],
   "source": [
    "grouped_schools['% Passing Math'] = (grouped_schools[\"math_pass\"]/grouped_schools[\"student\"])*100\n",
    "grouped_schools['% Passing Reading'] = (grouped_schools[\"reading_pass\"]/grouped_schools[\"student\"])*100\n",
    "grouped_schools['% Overall Passing Rate'] = (grouped_schools[\"overall\"]/grouped_schools[\"student\"])*100\n",
    "\n",
    "grouped_schools.head(14)"
   ]
  },
  {
   "cell_type": "code",
   "execution_count": null,
   "metadata": {},
   "outputs": [],
   "source": []
  },
  {
   "cell_type": "code",
   "execution_count": null,
   "metadata": {},
   "outputs": [],
   "source": []
  },
  {
   "cell_type": "code",
   "execution_count": null,
   "metadata": {},
   "outputs": [],
   "source": []
  }
 ],
 "metadata": {
  "kernelspec": {
   "display_name": "Python 3",
   "language": "python",
   "name": "python3"
  },
  "language_info": {
   "codemirror_mode": {
    "name": "ipython",
    "version": 3
   },
   "file_extension": ".py",
   "mimetype": "text/x-python",
   "name": "python",
   "nbconvert_exporter": "python",
   "pygments_lexer": "ipython3",
   "version": "3.7.4"
  }
 },
 "nbformat": 4,
 "nbformat_minor": 2
}
